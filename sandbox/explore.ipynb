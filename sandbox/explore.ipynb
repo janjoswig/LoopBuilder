{
 "cells": [
  {
   "cell_type": "code",
   "execution_count": 44,
   "id": "370d028a",
   "metadata": {},
   "outputs": [],
   "source": [
    "import pathlib\n",
    "\n",
    "from Bio import PDB\n",
    "from loguru import logger\n",
    "from openmm.app import PDBxFile\n",
    "from pdbfixer import PDBFixer\n",
    "from tqdm.auto import tqdm"
   ]
  },
  {
   "cell_type": "code",
   "execution_count": 25,
   "id": "5650d3bd",
   "metadata": {},
   "outputs": [],
   "source": [
    "PROJECT_ROOT = pathlib.Path().resolve().parent\n",
    "TEST_PDB_ID_LIST = [\"3idp\", \"6X18\", \"8RX0\"]"
   ]
  },
  {
   "cell_type": "code",
   "execution_count": null,
   "id": "cad89bbf",
   "metadata": {},
   "outputs": [
    {
     "name": "stderr",
     "output_type": "stream",
     "text": [
      "WARNING: The default download format has changed from PDB to PDBx/mmCif\n",
      "WARNING: The default download format has changed from PDB to PDBx/mmCif\n"
     ]
    },
    {
     "name": "stdout",
     "output_type": "stream",
     "text": [
      "Structure exists: 'C:\\Users\\janoj\\GitHub\\LoopBuilder\\data\\3idp.cif' \n",
      "Downloading PDB structure '6X18'...\n"
     ]
    },
    {
     "name": "stderr",
     "output_type": "stream",
     "text": [
      "WARNING: The default download format has changed from PDB to PDBx/mmCif\n"
     ]
    },
    {
     "name": "stdout",
     "output_type": "stream",
     "text": [
      "Downloading PDB structure '8RX0'...\n"
     ]
    }
   ],
   "source": [
    "# Download PDB files\n",
    "pdb_list = PDB.PDBList(server='https://files.wwpdb.org')\n",
    "for id_ in TEST_PDB_ID_LIST:\n",
    "    pdb_list.retrieve_pdb_file(pdb_code=id_, pdir=PROJECT_ROOT / \"data\")"
   ]
  },
  {
   "cell_type": "markdown",
   "id": "f773fab8",
   "metadata": {},
   "source": [
    "## PDBFixer"
   ]
  },
  {
   "cell_type": "markdown",
   "id": "4aa44396",
   "metadata": {},
   "source": [
    "Run the loop building multiple times (with different random seeds; non-controllable) to generate an ensemble of structures."
   ]
  },
  {
   "cell_type": "code",
   "execution_count": 47,
   "id": "f61ffb21",
   "metadata": {},
   "outputs": [
    {
     "data": {
      "application/vnd.jupyter.widget-view+json": {
       "model_id": "dc2ef72d34ba41c9b838a5f404a61861",
       "version_major": 2,
       "version_minor": 0
      },
      "text/plain": [
       "  0%|          | 0/4 [00:00<?, ?it/s]"
      ]
     },
     "metadata": {},
     "output_type": "display_data"
    }
   ],
   "source": [
    "input_file = PROJECT_ROOT / f\"data/3idp.cif\"\n",
    "\n",
    "for i in tqdm(range(1, 5)):\n",
    "    fixer = PDBFixer(filename=str(input_file))\n",
    "    fixer.findMissingResidues()\n",
    "\n",
    "    chains = list(fixer.topology.chains())\n",
    "    non_terminal = {}\n",
    "    for key, value in fixer.missingResidues.items():\n",
    "        chain_index, missing_index = key\n",
    "        if missing_index == 0 :\n",
    "            continue\n",
    "\n",
    "        if missing_index == len(chains[chain_index]):\n",
    "            continue\n",
    "\n",
    "        non_terminal[key] = value\n",
    "\n",
    "    fixer.missingResidues = non_terminal\n",
    "\n",
    "    fixer.findMissingAtoms()\n",
    "    fixer.addMissingAtoms()\n",
    "\n",
    "    output_dir = PROJECT_ROOT / \"sandbox/PDBFixer\"\n",
    "    with open(output_dir / f\"{input_file.stem}_fixed_api_{i}.cif\", 'w') as fp:\n",
    "        PDBxFile.writeFile(fixer.topology, fixer.positions, fp)"
   ]
  }
 ],
 "metadata": {
  "kernelspec": {
   "display_name": "LoopBuilder",
   "language": "python",
   "name": "python3"
  },
  "language_info": {
   "codemirror_mode": {
    "name": "ipython",
    "version": 3
   },
   "file_extension": ".py",
   "mimetype": "text/x-python",
   "name": "python",
   "nbconvert_exporter": "python",
   "pygments_lexer": "ipython3",
   "version": "3.10.17"
  }
 },
 "nbformat": 4,
 "nbformat_minor": 5
}
