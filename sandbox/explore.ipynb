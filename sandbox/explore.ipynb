{
 "cells": [
  {
   "cell_type": "markdown",
   "id": "ee88c5cd",
   "metadata": {},
   "source": [
    "## Data retrieval"
   ]
  },
  {
   "cell_type": "code",
   "execution_count": null,
   "id": "370d028a",
   "metadata": {},
   "outputs": [],
   "source": [
    "import pathlib\n",
    "\n",
    "from Bio import PDB"
   ]
  },
  {
   "cell_type": "code",
   "execution_count": 2,
   "id": "5650d3bd",
   "metadata": {},
   "outputs": [],
   "source": [
    "PROJECT_ROOT = pathlib.Path().resolve().parent\n",
    "TEST_PDB_ID_LIST = [\"3idp\", \"6X18\", \"8RX0\"]"
   ]
  },
  {
   "cell_type": "code",
   "execution_count": 3,
   "id": "cad89bbf",
   "metadata": {},
   "outputs": [
    {
     "name": "stdout",
     "output_type": "stream",
     "text": [
      "Structure exists: 'C:\\Users\\janoj\\GitHub\\LoopBuilder\\data\\3idp.cif' \n",
      "Structure exists: 'C:\\Users\\janoj\\GitHub\\LoopBuilder\\data\\6x18.cif' \n",
      "Structure exists: 'C:\\Users\\janoj\\GitHub\\LoopBuilder\\data\\8rx0.cif' \n"
     ]
    },
    {
     "name": "stderr",
     "output_type": "stream",
     "text": [
      "WARNING: The default download format has changed from PDB to PDBx/mmCif\n",
      "WARNING: The default download format has changed from PDB to PDBx/mmCif\n",
      "WARNING: The default download format has changed from PDB to PDBx/mmCif\n"
     ]
    }
   ],
   "source": [
    "# Download PDB files\n",
    "pdb_list = PDB.PDBList(server=\"https://files.wwpdb.org\")\n",
    "for id_ in TEST_PDB_ID_LIST:\n",
    "    pdb_list.retrieve_pdb_file(pdb_code=id_, pdir=PROJECT_ROOT / \"data\")"
   ]
  },
  {
   "cell_type": "markdown",
   "id": "f773fab8",
   "metadata": {},
   "source": [
    "## PDBFixer"
   ]
  },
  {
   "cell_type": "markdown",
   "id": "4aa44396",
   "metadata": {},
   "source": [
    "Run the loop building process multiple times (with different random seeds; non-controllable) to generate an ensemble of structures."
   ]
  },
  {
   "cell_type": "code",
   "execution_count": null,
   "id": "23f68475",
   "metadata": {},
   "outputs": [],
   "source": [
    "import pathlib\n",
    "\n",
    "from loopbuilder.build import PDBFixerBuilder\n",
    "from loopbuilder.score import MolProbityScorer\n",
    "\n",
    "PROJECT_ROOT = pathlib.Path().resolve().parent"
   ]
  },
  {
   "cell_type": "code",
   "execution_count": 2,
   "id": "62166659",
   "metadata": {},
   "outputs": [
    {
     "name": "stderr",
     "output_type": "stream",
     "text": [
      "\u001b[32m2025-05-22 19:16:09.815\u001b[0m | \u001b[1mINFO    \u001b[0m | \u001b[36mloopbuilder.build\u001b[0m:\u001b[36mbuild\u001b[0m:\u001b[36m143\u001b[0m - \u001b[1mBuilding n=3 models for C:\\Users\\janoj\\GitHub\\LoopBuilder\\data\\3idp.cif (max_tries=30)\u001b[0m\n",
      "\u001b[32m2025-05-22 19:16:09.819\u001b[0m | \u001b[1mINFO    \u001b[0m | \u001b[36mloopbuilder.build\u001b[0m:\u001b[36mbuild\u001b[0m:\u001b[36m145\u001b[0m - \u001b[1mSaving output to C:\\Users\\janoj\\GitHub\\LoopBuilder\\sandbox\\PDBFixer\u001b[0m\n",
      "\u001b[32m2025-05-22 19:16:09.823\u001b[0m | \u001b[1mINFO    \u001b[0m | \u001b[36mloopbuilder.build\u001b[0m:\u001b[36mbuild\u001b[0m:\u001b[36m146\u001b[0m - \u001b[1mUsing working directory C:\\Users\\janoj\\GitHub\\LoopBuilder\\sandbox\\PDBFixer\\tmp\u001b[0m\n",
      "\u001b[32m2025-05-22 19:16:09.826\u001b[0m | \u001b[1mINFO    \u001b[0m | \u001b[36mloopbuilder.build\u001b[0m:\u001b[36mbuild\u001b[0m:\u001b[36m151\u001b[0m - \u001b[1mUsing 1 scorer(s):\n",
      "  MolProbityScorer(cleanup=True, executable=molprobity.molprobity, docker_image=francecosta/molprobity:v0.0.1, )\u001b[0m\n",
      "\u001b[32m2025-05-22 19:16:09.828\u001b[0m | \u001b[1mINFO    \u001b[0m | \u001b[36mloopbuilder.build\u001b[0m:\u001b[36mbuild\u001b[0m:\u001b[36m156\u001b[0m - \u001b[1mUsing 1 filter(s):\n",
      "  <function <lambda> at 0x00000253350F6DD0>\u001b[0m\n",
      "\u001b[32m2025-05-22 19:16:09.831\u001b[0m | \u001b[1mINFO    \u001b[0m | \u001b[36mloopbuilder.build\u001b[0m:\u001b[36mbuild\u001b[0m:\u001b[36m159\u001b[0m - \u001b[1mLooking for segments\u001b[0m\n"
     ]
    },
    {
     "name": "stderr",
     "output_type": "stream",
     "text": [
      "\u001b[32m2025-05-22 19:16:10.970\u001b[0m | \u001b[1mINFO    \u001b[0m | \u001b[36mloopbuilder.build\u001b[0m:\u001b[36mbuild\u001b[0m:\u001b[36m166\u001b[0m - \u001b[1mFound 3 segments\u001b[0m\n"
     ]
    },
    {
     "data": {
      "application/vnd.jupyter.widget-view+json": {
       "model_id": "c851c3d827b84136bf7cc28e843db466",
       "version_major": 2,
       "version_minor": 0
      },
      "text/plain": [
       "Building segments:   0%|          | 0/3 [00:00<?, ?segment/s]"
      ]
     },
     "metadata": {},
     "output_type": "display_data"
    },
    {
     "name": "stderr",
     "output_type": "stream",
     "text": [
      "\u001b[32m2025-05-22 19:16:11.066\u001b[0m | \u001b[1mINFO    \u001b[0m | \u001b[36mloopbuilder.build\u001b[0m:\u001b[36mbuild\u001b[0m:\u001b[36m174\u001b[0m - \u001b[1mBuilding models for segment loop_1\u001b[0m\n",
      "\u001b[32m2025-05-22 19:17:34.552\u001b[0m | \u001b[1mINFO    \u001b[0m | \u001b[36mloopbuilder.build\u001b[0m:\u001b[36mbuild\u001b[0m:\u001b[36m204\u001b[0m - \u001b[1mScored trial model 1 for segment loop_1: {'ramachandran_outliers': 0.5714, 'rotamer_outliers': 0.2857, 'cbeta_deviations': 15.0, 'clashscore': 0.0, 'rms_bonds': 0.0371, 'rms_angles': 21.48, 'molprobity_score': 2.64}\u001b[0m\n",
      "\u001b[32m2025-05-22 19:17:34.560\u001b[0m | \u001b[1mINFO    \u001b[0m | \u001b[36mloopbuilder.build\u001b[0m:\u001b[36mbuild\u001b[0m:\u001b[36m208\u001b[0m - \u001b[1mTrial model 1 for segment loop_1 failed filter <function <lambda> at 0x00000253350F6DD0>\u001b[0m\n",
      "\u001b[32m2025-05-22 19:19:03.560\u001b[0m | \u001b[1mINFO    \u001b[0m | \u001b[36mloopbuilder.build\u001b[0m:\u001b[36mbuild\u001b[0m:\u001b[36m204\u001b[0m - \u001b[1mScored trial model 2 for segment loop_1: {'ramachandran_outliers': 0.3571, 'rotamer_outliers': 0.3571, 'cbeta_deviations': 15.0, 'clashscore': 0.0, 'rms_bonds': 0.0269, 'rms_angles': 18.04, 'molprobity_score': 2.65}\u001b[0m\n",
      "\u001b[32m2025-05-22 19:19:03.589\u001b[0m | \u001b[1mINFO    \u001b[0m | \u001b[36mloopbuilder.build\u001b[0m:\u001b[36mbuild\u001b[0m:\u001b[36m208\u001b[0m - \u001b[1mTrial model 2 for segment loop_1 failed filter <function <lambda> at 0x00000253350F6DD0>\u001b[0m\n",
      "\u001b[32m2025-05-22 19:19:49.129\u001b[0m | \u001b[1mINFO    \u001b[0m | \u001b[36mloopbuilder.build\u001b[0m:\u001b[36mbuild\u001b[0m:\u001b[36m204\u001b[0m - \u001b[1mScored trial model 3 for segment loop_1: {'ramachandran_outliers': 0.5714, 'rotamer_outliers': 0.4286, 'cbeta_deviations': 15.0, 'clashscore': 0.0, 'rms_bonds': 0.0311, 'rms_angles': 19.63, 'molprobity_score': 2.83}\u001b[0m\n",
      "\u001b[32m2025-05-22 19:19:49.132\u001b[0m | \u001b[1mINFO    \u001b[0m | \u001b[36mloopbuilder.build\u001b[0m:\u001b[36mbuild\u001b[0m:\u001b[36m208\u001b[0m - \u001b[1mTrial model 3 for segment loop_1 failed filter <function <lambda> at 0x00000253350F6DD0>\u001b[0m\n",
      "\u001b[32m2025-05-22 19:20:43.068\u001b[0m | \u001b[1mINFO    \u001b[0m | \u001b[36mloopbuilder.build\u001b[0m:\u001b[36mbuild\u001b[0m:\u001b[36m204\u001b[0m - \u001b[1mScored trial model 4 for segment loop_1: {'ramachandran_outliers': 0.5714, 'rotamer_outliers': 0.3571, 'cbeta_deviations': 15.0, 'clashscore': 0.0, 'rms_bonds': 0.0303, 'rms_angles': 20.64, 'molprobity_score': 2.69}\u001b[0m\n",
      "\u001b[32m2025-05-22 19:20:43.072\u001b[0m | \u001b[1mINFO    \u001b[0m | \u001b[36mloopbuilder.build\u001b[0m:\u001b[36mbuild\u001b[0m:\u001b[36m208\u001b[0m - \u001b[1mTrial model 4 for segment loop_1 failed filter <function <lambda> at 0x00000253350F6DD0>\u001b[0m\n",
      "\u001b[32m2025-05-22 19:21:29.107\u001b[0m | \u001b[1mINFO    \u001b[0m | \u001b[36mloopbuilder.build\u001b[0m:\u001b[36mbuild\u001b[0m:\u001b[36m204\u001b[0m - \u001b[1mScored trial model 5 for segment loop_1: {'ramachandran_outliers': 0.3571, 'rotamer_outliers': 0.2143, 'cbeta_deviations': 15.0, 'clashscore': 0.0, 'rms_bonds': 0.0398, 'rms_angles': 19.48, 'molprobity_score': 2.55}\u001b[0m\n",
      "\u001b[32m2025-05-22 19:21:29.112\u001b[0m | \u001b[1mINFO    \u001b[0m | \u001b[36mloopbuilder.build\u001b[0m:\u001b[36mbuild\u001b[0m:\u001b[36m208\u001b[0m - \u001b[1mTrial model 5 for segment loop_1 failed filter <function <lambda> at 0x00000253350F6DD0>\u001b[0m\n",
      "\u001b[32m2025-05-22 19:22:09.926\u001b[0m | \u001b[1mINFO    \u001b[0m | \u001b[36mloopbuilder.build\u001b[0m:\u001b[36mbuild\u001b[0m:\u001b[36m204\u001b[0m - \u001b[1mScored trial model 6 for segment loop_1: {'ramachandran_outliers': 0.3571, 'rotamer_outliers': 0.4286, 'cbeta_deviations': 14.0, 'clashscore': 0.0, 'rms_bonds': 0.0261, 'rms_angles': 19.7, 'molprobity_score': 2.78}\u001b[0m\n",
      "\u001b[32m2025-05-22 19:22:09.930\u001b[0m | \u001b[1mINFO    \u001b[0m | \u001b[36mloopbuilder.build\u001b[0m:\u001b[36mbuild\u001b[0m:\u001b[36m208\u001b[0m - \u001b[1mTrial model 6 for segment loop_1 failed filter <function <lambda> at 0x00000253350F6DD0>\u001b[0m\n",
      "\u001b[32m2025-05-22 19:22:51.018\u001b[0m | \u001b[1mINFO    \u001b[0m | \u001b[36mloopbuilder.build\u001b[0m:\u001b[36mbuild\u001b[0m:\u001b[36m204\u001b[0m - \u001b[1mScored trial model 7 for segment loop_1: {'ramachandran_outliers': 0.5, 'rotamer_outliers': 0.7143, 'cbeta_deviations': 13.0, 'clashscore': 0.0, 'rms_bonds': 0.0274, 'rms_angles': 17.74, 'molprobity_score': 2.92}\u001b[0m\n",
      "\u001b[32m2025-05-22 19:22:51.021\u001b[0m | \u001b[1mINFO    \u001b[0m | \u001b[36mloopbuilder.build\u001b[0m:\u001b[36mbuild\u001b[0m:\u001b[36m208\u001b[0m - \u001b[1mTrial model 7 for segment loop_1 failed filter <function <lambda> at 0x00000253350F6DD0>\u001b[0m\n",
      "\u001b[32m2025-05-22 19:23:35.272\u001b[0m | \u001b[1mINFO    \u001b[0m | \u001b[36mloopbuilder.build\u001b[0m:\u001b[36mbuild\u001b[0m:\u001b[36m204\u001b[0m - \u001b[1mScored trial model 8 for segment loop_1: {'ramachandran_outliers': 0.5, 'rotamer_outliers': 0.5, 'cbeta_deviations': 14.0, 'clashscore': 0.0, 'rms_bonds': 0.0343, 'rms_angles': 18.0, 'molprobity_score': 2.8}\u001b[0m\n",
      "\u001b[32m2025-05-22 19:23:35.276\u001b[0m | \u001b[1mINFO    \u001b[0m | \u001b[36mloopbuilder.build\u001b[0m:\u001b[36mbuild\u001b[0m:\u001b[36m208\u001b[0m - \u001b[1mTrial model 8 for segment loop_1 failed filter <function <lambda> at 0x00000253350F6DD0>\u001b[0m\n",
      "\u001b[32m2025-05-22 19:24:20.783\u001b[0m | \u001b[1mINFO    \u001b[0m | \u001b[36mloopbuilder.build\u001b[0m:\u001b[36mbuild\u001b[0m:\u001b[36m204\u001b[0m - \u001b[1mScored trial model 9 for segment loop_1: {'ramachandran_outliers': 0.3571, 'rotamer_outliers': 0.4286, 'cbeta_deviations': 15.0, 'clashscore': 0.0, 'rms_bonds': 0.0236, 'rms_angles': 15.79, 'molprobity_score': 2.78}\u001b[0m\n",
      "\u001b[32m2025-05-22 19:24:20.787\u001b[0m | \u001b[1mINFO    \u001b[0m | \u001b[36mloopbuilder.build\u001b[0m:\u001b[36mbuild\u001b[0m:\u001b[36m208\u001b[0m - \u001b[1mTrial model 9 for segment loop_1 failed filter <function <lambda> at 0x00000253350F6DD0>\u001b[0m\n",
      "\u001b[32m2025-05-22 19:25:03.281\u001b[0m | \u001b[1mINFO    \u001b[0m | \u001b[36mloopbuilder.build\u001b[0m:\u001b[36mbuild\u001b[0m:\u001b[36m204\u001b[0m - \u001b[1mScored trial model 10 for segment loop_1: {'ramachandran_outliers': 0.3571, 'rotamer_outliers': 0.2857, 'cbeta_deviations': 14.0, 'clashscore': 0.0, 'rms_bonds': 0.0248, 'rms_angles': 19.25, 'molprobity_score': 2.54}\u001b[0m\n",
      "\u001b[32m2025-05-22 19:25:03.283\u001b[0m | \u001b[1mINFO    \u001b[0m | \u001b[36mloopbuilder.build\u001b[0m:\u001b[36mbuild\u001b[0m:\u001b[36m208\u001b[0m - \u001b[1mTrial model 10 for segment loop_1 failed filter <function <lambda> at 0x00000253350F6DD0>\u001b[0m\n",
      "\u001b[32m2025-05-22 19:25:45.226\u001b[0m | \u001b[1mINFO    \u001b[0m | \u001b[36mloopbuilder.build\u001b[0m:\u001b[36mbuild\u001b[0m:\u001b[36m204\u001b[0m - \u001b[1mScored trial model 11 for segment loop_1: {'ramachandran_outliers': 0.6429, 'rotamer_outliers': 0.3571, 'cbeta_deviations': 15.0, 'clashscore': 0.0, 'rms_bonds': 0.0265, 'rms_angles': 17.81, 'molprobity_score': 2.79}\u001b[0m\n",
      "\u001b[32m2025-05-22 19:25:45.230\u001b[0m | \u001b[1mINFO    \u001b[0m | \u001b[36mloopbuilder.build\u001b[0m:\u001b[36mbuild\u001b[0m:\u001b[36m208\u001b[0m - \u001b[1mTrial model 11 for segment loop_1 failed filter <function <lambda> at 0x00000253350F6DD0>\u001b[0m\n",
      "\u001b[32m2025-05-22 19:26:26.798\u001b[0m | \u001b[1mINFO    \u001b[0m | \u001b[36mloopbuilder.build\u001b[0m:\u001b[36mbuild\u001b[0m:\u001b[36m204\u001b[0m - \u001b[1mScored trial model 12 for segment loop_1: {'ramachandran_outliers': 0.6429, 'rotamer_outliers': 0.4286, 'cbeta_deviations': 15.0, 'clashscore': 0.0, 'rms_bonds': 0.0294, 'rms_angles': 19.71, 'molprobity_score': 2.85}\u001b[0m\n",
      "\u001b[32m2025-05-22 19:26:26.801\u001b[0m | \u001b[1mINFO    \u001b[0m | \u001b[36mloopbuilder.build\u001b[0m:\u001b[36mbuild\u001b[0m:\u001b[36m208\u001b[0m - \u001b[1mTrial model 12 for segment loop_1 failed filter <function <lambda> at 0x00000253350F6DD0>\u001b[0m\n",
      "\u001b[32m2025-05-22 19:27:10.409\u001b[0m | \u001b[1mINFO    \u001b[0m | \u001b[36mloopbuilder.build\u001b[0m:\u001b[36mbuild\u001b[0m:\u001b[36m204\u001b[0m - \u001b[1mScored trial model 13 for segment loop_1: {'ramachandran_outliers': 0.5714, 'rotamer_outliers': 0.4286, 'cbeta_deviations': 15.0, 'clashscore': 0.0, 'rms_bonds': 0.0357, 'rms_angles': 20.15, 'molprobity_score': 2.85}\u001b[0m\n",
      "\u001b[32m2025-05-22 19:27:10.414\u001b[0m | \u001b[1mINFO    \u001b[0m | \u001b[36mloopbuilder.build\u001b[0m:\u001b[36mbuild\u001b[0m:\u001b[36m208\u001b[0m - \u001b[1mTrial model 13 for segment loop_1 failed filter <function <lambda> at 0x00000253350F6DD0>\u001b[0m\n",
      "\u001b[32m2025-05-22 19:27:51.588\u001b[0m | \u001b[1mINFO    \u001b[0m | \u001b[36mloopbuilder.build\u001b[0m:\u001b[36mbuild\u001b[0m:\u001b[36m204\u001b[0m - \u001b[1mScored trial model 14 for segment loop_1: {'ramachandran_outliers': 0.5714, 'rotamer_outliers': 0.3571, 'cbeta_deviations': 14.0, 'clashscore': 0.0, 'rms_bonds': 0.0288, 'rms_angles': 16.41, 'molprobity_score': 2.69}\u001b[0m\n",
      "\u001b[32m2025-05-22 19:27:51.592\u001b[0m | \u001b[1mINFO    \u001b[0m | \u001b[36mloopbuilder.build\u001b[0m:\u001b[36mbuild\u001b[0m:\u001b[36m208\u001b[0m - \u001b[1mTrial model 14 for segment loop_1 failed filter <function <lambda> at 0x00000253350F6DD0>\u001b[0m\n",
      "\u001b[32m2025-05-22 19:28:29.989\u001b[0m | \u001b[1mINFO    \u001b[0m | \u001b[36mloopbuilder.build\u001b[0m:\u001b[36mbuild\u001b[0m:\u001b[36m204\u001b[0m - \u001b[1mScored trial model 15 for segment loop_1: {'ramachandran_outliers': 0.3571, 'rotamer_outliers': 0.5714, 'cbeta_deviations': 15.0, 'clashscore': 0.0, 'rms_bonds': 0.0336, 'rms_angles': 17.26, 'molprobity_score': 2.92}\u001b[0m\n",
      "\u001b[32m2025-05-22 19:28:29.993\u001b[0m | \u001b[1mINFO    \u001b[0m | \u001b[36mloopbuilder.build\u001b[0m:\u001b[36mbuild\u001b[0m:\u001b[36m208\u001b[0m - \u001b[1mTrial model 15 for segment loop_1 failed filter <function <lambda> at 0x00000253350F6DD0>\u001b[0m\n",
      "\u001b[32m2025-05-22 19:29:03.896\u001b[0m | \u001b[1mINFO    \u001b[0m | \u001b[36mloopbuilder.build\u001b[0m:\u001b[36mbuild\u001b[0m:\u001b[36m204\u001b[0m - \u001b[1mScored trial model 16 for segment loop_1: {'ramachandran_outliers': 0.5, 'rotamer_outliers': 0.3571, 'cbeta_deviations': 14.0, 'clashscore': 0.0, 'rms_bonds': 0.0296, 'rms_angles': 18.19, 'molprobity_score': 2.69}\u001b[0m\n",
      "\u001b[32m2025-05-22 19:29:03.901\u001b[0m | \u001b[1mINFO    \u001b[0m | \u001b[36mloopbuilder.build\u001b[0m:\u001b[36mbuild\u001b[0m:\u001b[36m208\u001b[0m - \u001b[1mTrial model 16 for segment loop_1 failed filter <function <lambda> at 0x00000253350F6DD0>\u001b[0m\n",
      "\u001b[32m2025-05-22 19:29:34.346\u001b[0m | \u001b[1mINFO    \u001b[0m | \u001b[36mloopbuilder.build\u001b[0m:\u001b[36mbuild\u001b[0m:\u001b[36m204\u001b[0m - \u001b[1mScored trial model 17 for segment loop_1: {'ramachandran_outliers': 0.2857, 'rotamer_outliers': 0.3571, 'cbeta_deviations': 14.0, 'clashscore': 0.0, 'rms_bonds': 0.0362, 'rms_angles': 19.87, 'molprobity_score': 2.72}\u001b[0m\n",
      "\u001b[32m2025-05-22 19:29:34.352\u001b[0m | \u001b[32m\u001b[1mSUCCESS \u001b[0m | \u001b[36mloopbuilder.build\u001b[0m:\u001b[36mbuild\u001b[0m:\u001b[36m219\u001b[0m - \u001b[32m\u001b[1mBuilt model 1 for segment loop_1\u001b[0m\n",
      "\u001b[32m2025-05-22 19:30:03.959\u001b[0m | \u001b[1mINFO    \u001b[0m | \u001b[36mloopbuilder.build\u001b[0m:\u001b[36mbuild\u001b[0m:\u001b[36m204\u001b[0m - \u001b[1mScored trial model 18 for segment loop_1: {'ramachandran_outliers': 0.5, 'rotamer_outliers': 0.2143, 'cbeta_deviations': 14.0, 'clashscore': 0.0, 'rms_bonds': 0.0303, 'rms_angles': 16.84, 'molprobity_score': 2.55}\u001b[0m\n",
      "\u001b[32m2025-05-22 19:30:03.962\u001b[0m | \u001b[1mINFO    \u001b[0m | \u001b[36mloopbuilder.build\u001b[0m:\u001b[36mbuild\u001b[0m:\u001b[36m208\u001b[0m - \u001b[1mTrial model 18 for segment loop_1 failed filter <function <lambda> at 0x00000253350F6DD0>\u001b[0m\n",
      "\u001b[32m2025-05-22 19:30:34.943\u001b[0m | \u001b[1mINFO    \u001b[0m | \u001b[36mloopbuilder.build\u001b[0m:\u001b[36mbuild\u001b[0m:\u001b[36m204\u001b[0m - \u001b[1mScored trial model 19 for segment loop_1: {'ramachandran_outliers': 0.4286, 'rotamer_outliers': 0.5714, 'cbeta_deviations': 14.0, 'clashscore': 0.0, 'rms_bonds': 0.0298, 'rms_angles': 18.82, 'molprobity_score': 2.81}\u001b[0m\n",
      "\u001b[32m2025-05-22 19:30:34.945\u001b[0m | \u001b[1mINFO    \u001b[0m | \u001b[36mloopbuilder.build\u001b[0m:\u001b[36mbuild\u001b[0m:\u001b[36m208\u001b[0m - \u001b[1mTrial model 19 for segment loop_1 failed filter <function <lambda> at 0x00000253350F6DD0>\u001b[0m\n",
      "\u001b[32m2025-05-22 19:31:09.829\u001b[0m | \u001b[1mINFO    \u001b[0m | \u001b[36mloopbuilder.build\u001b[0m:\u001b[36mbuild\u001b[0m:\u001b[36m204\u001b[0m - \u001b[1mScored trial model 20 for segment loop_1: {'ramachandran_outliers': 0.5, 'rotamer_outliers': 0.3571, 'cbeta_deviations': 15.0, 'clashscore': 0.0, 'rms_bonds': 0.0296, 'rms_angles': 19.33, 'molprobity_score': 2.72}\u001b[0m\n",
      "\u001b[32m2025-05-22 19:31:09.832\u001b[0m | \u001b[1mINFO    \u001b[0m | \u001b[36mloopbuilder.build\u001b[0m:\u001b[36mbuild\u001b[0m:\u001b[36m208\u001b[0m - \u001b[1mTrial model 20 for segment loop_1 failed filter <function <lambda> at 0x00000253350F6DD0>\u001b[0m\n",
      "\u001b[32m2025-05-22 19:31:39.514\u001b[0m | \u001b[1mINFO    \u001b[0m | \u001b[36mloopbuilder.build\u001b[0m:\u001b[36mbuild\u001b[0m:\u001b[36m204\u001b[0m - \u001b[1mScored trial model 21 for segment loop_1: {'ramachandran_outliers': 0.5714, 'rotamer_outliers': 0.5, 'cbeta_deviations': 15.0, 'clashscore': 0.0, 'rms_bonds': 0.0322, 'rms_angles': 18.85, 'molprobity_score': 2.92}\u001b[0m\n",
      "\u001b[32m2025-05-22 19:31:39.515\u001b[0m | \u001b[1mINFO    \u001b[0m | \u001b[36mloopbuilder.build\u001b[0m:\u001b[36mbuild\u001b[0m:\u001b[36m208\u001b[0m - \u001b[1mTrial model 21 for segment loop_1 failed filter <function <lambda> at 0x00000253350F6DD0>\u001b[0m\n",
      "\u001b[32m2025-05-22 19:32:08.417\u001b[0m | \u001b[1mINFO    \u001b[0m | \u001b[36mloopbuilder.build\u001b[0m:\u001b[36mbuild\u001b[0m:\u001b[36m204\u001b[0m - \u001b[1mScored trial model 22 for segment loop_1: {'ramachandran_outliers': 0.4286, 'rotamer_outliers': 0.5, 'cbeta_deviations': 15.0, 'clashscore': 0.0, 'rms_bonds': 0.0319, 'rms_angles': 20.95, 'molprobity_score': 2.83}\u001b[0m\n",
      "\u001b[32m2025-05-22 19:32:08.422\u001b[0m | \u001b[1mINFO    \u001b[0m | \u001b[36mloopbuilder.build\u001b[0m:\u001b[36mbuild\u001b[0m:\u001b[36m208\u001b[0m - \u001b[1mTrial model 22 for segment loop_1 failed filter <function <lambda> at 0x00000253350F6DD0>\u001b[0m\n",
      "\u001b[32m2025-05-22 19:32:40.195\u001b[0m | \u001b[1mINFO    \u001b[0m | \u001b[36mloopbuilder.build\u001b[0m:\u001b[36mbuild\u001b[0m:\u001b[36m204\u001b[0m - \u001b[1mScored trial model 23 for segment loop_1: {'ramachandran_outliers': 0.6429, 'rotamer_outliers': 0.5714, 'cbeta_deviations': 15.0, 'clashscore': 0.0, 'rms_bonds': 0.0347, 'rms_angles': 18.01, 'molprobity_score': 2.94}\u001b[0m\n",
      "\u001b[32m2025-05-22 19:32:40.198\u001b[0m | \u001b[1mINFO    \u001b[0m | \u001b[36mloopbuilder.build\u001b[0m:\u001b[36mbuild\u001b[0m:\u001b[36m208\u001b[0m - \u001b[1mTrial model 23 for segment loop_1 failed filter <function <lambda> at 0x00000253350F6DD0>\u001b[0m\n",
      "\u001b[32m2025-05-22 19:33:11.709\u001b[0m | \u001b[1mINFO    \u001b[0m | \u001b[36mloopbuilder.build\u001b[0m:\u001b[36mbuild\u001b[0m:\u001b[36m204\u001b[0m - \u001b[1mScored trial model 24 for segment loop_1: {'ramachandran_outliers': 0.3571, 'rotamer_outliers': 0.4286, 'cbeta_deviations': 15.0, 'clashscore': 0.0, 'rms_bonds': 0.0382, 'rms_angles': 18.9, 'molprobity_score': 2.75}\u001b[0m\n",
      "\u001b[32m2025-05-22 19:33:11.712\u001b[0m | \u001b[1mINFO    \u001b[0m | \u001b[36mloopbuilder.build\u001b[0m:\u001b[36mbuild\u001b[0m:\u001b[36m208\u001b[0m - \u001b[1mTrial model 24 for segment loop_1 failed filter <function <lambda> at 0x00000253350F6DD0>\u001b[0m\n",
      "\u001b[32m2025-05-22 19:33:40.193\u001b[0m | \u001b[1mINFO    \u001b[0m | \u001b[36mloopbuilder.build\u001b[0m:\u001b[36mbuild\u001b[0m:\u001b[36m204\u001b[0m - \u001b[1mScored trial model 25 for segment loop_1: {'ramachandran_outliers': 0.5714, 'rotamer_outliers': 0.6429, 'cbeta_deviations': 15.0, 'clashscore': 0.0, 'rms_bonds': 0.0359, 'rms_angles': 18.13, 'molprobity_score': 2.88}\u001b[0m\n",
      "\u001b[32m2025-05-22 19:33:40.195\u001b[0m | \u001b[1mINFO    \u001b[0m | \u001b[36mloopbuilder.build\u001b[0m:\u001b[36mbuild\u001b[0m:\u001b[36m208\u001b[0m - \u001b[1mTrial model 25 for segment loop_1 failed filter <function <lambda> at 0x00000253350F6DD0>\u001b[0m\n",
      "\u001b[32m2025-05-22 19:34:08.789\u001b[0m | \u001b[1mINFO    \u001b[0m | \u001b[36mloopbuilder.build\u001b[0m:\u001b[36mbuild\u001b[0m:\u001b[36m204\u001b[0m - \u001b[1mScored trial model 26 for segment loop_1: {'ramachandran_outliers': 0.6429, 'rotamer_outliers': 0.2857, 'cbeta_deviations': 15.0, 'clashscore': 0.0, 'rms_bonds': 0.0335, 'rms_angles': 18.21, 'molprobity_score': 2.69}\u001b[0m\n",
      "\u001b[32m2025-05-22 19:34:08.791\u001b[0m | \u001b[1mINFO    \u001b[0m | \u001b[36mloopbuilder.build\u001b[0m:\u001b[36mbuild\u001b[0m:\u001b[36m208\u001b[0m - \u001b[1mTrial model 26 for segment loop_1 failed filter <function <lambda> at 0x00000253350F6DD0>\u001b[0m\n",
      "\u001b[32m2025-05-22 19:34:36.194\u001b[0m | \u001b[1mINFO    \u001b[0m | \u001b[36mloopbuilder.build\u001b[0m:\u001b[36mbuild\u001b[0m:\u001b[36m204\u001b[0m - \u001b[1mScored trial model 27 for segment loop_1: {'ramachandran_outliers': 0.4286, 'rotamer_outliers': 0.2143, 'cbeta_deviations': 15.0, 'clashscore': 0.0, 'rms_bonds': 0.0334, 'rms_angles': 19.85, 'molprobity_score': 2.62}\u001b[0m\n",
      "\u001b[32m2025-05-22 19:34:36.197\u001b[0m | \u001b[1mINFO    \u001b[0m | \u001b[36mloopbuilder.build\u001b[0m:\u001b[36mbuild\u001b[0m:\u001b[36m208\u001b[0m - \u001b[1mTrial model 27 for segment loop_1 failed filter <function <lambda> at 0x00000253350F6DD0>\u001b[0m\n",
      "\u001b[32m2025-05-22 19:35:04.339\u001b[0m | \u001b[1mINFO    \u001b[0m | \u001b[36mloopbuilder.build\u001b[0m:\u001b[36mbuild\u001b[0m:\u001b[36m204\u001b[0m - \u001b[1mScored trial model 28 for segment loop_1: {'ramachandran_outliers': 0.5714, 'rotamer_outliers': 0.5714, 'cbeta_deviations': 15.0, 'clashscore': 0.0, 'rms_bonds': 0.0306, 'rms_angles': 18.79, 'molprobity_score': 2.87}\u001b[0m\n",
      "\u001b[32m2025-05-22 19:35:04.342\u001b[0m | \u001b[1mINFO    \u001b[0m | \u001b[36mloopbuilder.build\u001b[0m:\u001b[36mbuild\u001b[0m:\u001b[36m208\u001b[0m - \u001b[1mTrial model 28 for segment loop_1 failed filter <function <lambda> at 0x00000253350F6DD0>\u001b[0m\n",
      "\u001b[32m2025-05-22 19:35:32.585\u001b[0m | \u001b[1mINFO    \u001b[0m | \u001b[36mloopbuilder.build\u001b[0m:\u001b[36mbuild\u001b[0m:\u001b[36m204\u001b[0m - \u001b[1mScored trial model 29 for segment loop_1: {'ramachandran_outliers': 0.5, 'rotamer_outliers': 0.4286, 'cbeta_deviations': 15.0, 'clashscore': 0.0, 'rms_bonds': 0.0379, 'rms_angles': 19.17, 'molprobity_score': 2.78}\u001b[0m\n",
      "\u001b[32m2025-05-22 19:35:32.589\u001b[0m | \u001b[1mINFO    \u001b[0m | \u001b[36mloopbuilder.build\u001b[0m:\u001b[36mbuild\u001b[0m:\u001b[36m208\u001b[0m - \u001b[1mTrial model 29 for segment loop_1 failed filter <function <lambda> at 0x00000253350F6DD0>\u001b[0m\n",
      "\u001b[32m2025-05-22 19:36:02.688\u001b[0m | \u001b[1mINFO    \u001b[0m | \u001b[36mloopbuilder.build\u001b[0m:\u001b[36mbuild\u001b[0m:\u001b[36m204\u001b[0m - \u001b[1mScored trial model 30 for segment loop_1: {'ramachandran_outliers': 0.5, 'rotamer_outliers': 0.4286, 'cbeta_deviations': 15.0, 'clashscore': 0.0, 'rms_bonds': 0.0339, 'rms_angles': 19.75, 'molprobity_score': 2.8}\u001b[0m\n",
      "\u001b[32m2025-05-22 19:36:02.691\u001b[0m | \u001b[1mINFO    \u001b[0m | \u001b[36mloopbuilder.build\u001b[0m:\u001b[36mbuild\u001b[0m:\u001b[36m208\u001b[0m - \u001b[1mTrial model 30 for segment loop_1 failed filter <function <lambda> at 0x00000253350F6DD0>\u001b[0m\n",
      "\u001b[32m2025-05-22 19:36:02.693\u001b[0m | \u001b[33m\u001b[1mWARNING \u001b[0m | \u001b[36mloopbuilder.build\u001b[0m:\u001b[36mbuild\u001b[0m:\u001b[36m184\u001b[0m - \u001b[33m\u001b[1mReached the maximum number of tries (success_rate=3.33%)\u001b[0m\n",
      "\u001b[32m2025-05-22 19:36:02.707\u001b[0m | \u001b[1mINFO    \u001b[0m | \u001b[36mloopbuilder.build\u001b[0m:\u001b[36mbuild\u001b[0m:\u001b[36m174\u001b[0m - \u001b[1mBuilding models for segment loop_2\u001b[0m\n",
      "\u001b[32m2025-05-22 19:36:31.935\u001b[0m | \u001b[1mINFO    \u001b[0m | \u001b[36mloopbuilder.build\u001b[0m:\u001b[36mbuild\u001b[0m:\u001b[36m204\u001b[0m - \u001b[1mScored trial model 1 for segment loop_2: {'ramachandran_outliers': 0.3846, 'rotamer_outliers': 0.6429, 'cbeta_deviations': 14.0, 'clashscore': 0.0, 'rms_bonds': 0.0439, 'rms_angles': 18.74, 'molprobity_score': 2.87}\u001b[0m\n",
      "\u001b[32m2025-05-22 19:36:31.937\u001b[0m | \u001b[1mINFO    \u001b[0m | \u001b[36mloopbuilder.build\u001b[0m:\u001b[36mbuild\u001b[0m:\u001b[36m208\u001b[0m - \u001b[1mTrial model 1 for segment loop_2 failed filter <function <lambda> at 0x00000253350F6DD0>\u001b[0m\n",
      "\u001b[32m2025-05-22 19:37:00.257\u001b[0m | \u001b[1mINFO    \u001b[0m | \u001b[36mloopbuilder.build\u001b[0m:\u001b[36mbuild\u001b[0m:\u001b[36m204\u001b[0m - \u001b[1mScored trial model 2 for segment loop_2: {'ramachandran_outliers': 0.2308, 'rotamer_outliers': 0.5, 'cbeta_deviations': 14.0, 'clashscore': 0.0, 'rms_bonds': 0.036, 'rms_angles': 17.1, 'molprobity_score': 2.74}\u001b[0m\n",
      "\u001b[32m2025-05-22 19:37:00.266\u001b[0m | \u001b[32m\u001b[1mSUCCESS \u001b[0m | \u001b[36mloopbuilder.build\u001b[0m:\u001b[36mbuild\u001b[0m:\u001b[36m219\u001b[0m - \u001b[32m\u001b[1mBuilt model 1 for segment loop_2\u001b[0m\n",
      "\u001b[32m2025-05-22 19:37:28.656\u001b[0m | \u001b[1mINFO    \u001b[0m | \u001b[36mloopbuilder.build\u001b[0m:\u001b[36mbuild\u001b[0m:\u001b[36m204\u001b[0m - \u001b[1mScored trial model 3 for segment loop_2: {'ramachandran_outliers': 0.3077, 'rotamer_outliers': 0.2857, 'cbeta_deviations': 13.0, 'clashscore': 0.0, 'rms_bonds': 0.0473, 'rms_angles': 20.03, 'molprobity_score': 2.63}\u001b[0m\n",
      "\u001b[32m2025-05-22 19:37:28.658\u001b[0m | \u001b[1mINFO    \u001b[0m | \u001b[36mloopbuilder.build\u001b[0m:\u001b[36mbuild\u001b[0m:\u001b[36m208\u001b[0m - \u001b[1mTrial model 3 for segment loop_2 failed filter <function <lambda> at 0x00000253350F6DD0>\u001b[0m\n",
      "\u001b[32m2025-05-22 19:37:56.842\u001b[0m | \u001b[1mINFO    \u001b[0m | \u001b[36mloopbuilder.build\u001b[0m:\u001b[36mbuild\u001b[0m:\u001b[36m204\u001b[0m - \u001b[1mScored trial model 4 for segment loop_2: {'ramachandran_outliers': 0.3077, 'rotamer_outliers': 0.3571, 'cbeta_deviations': 13.0, 'clashscore': 0.0, 'rms_bonds': 0.0469, 'rms_angles': 18.0, 'molprobity_score': 2.63}\u001b[0m\n",
      "\u001b[32m2025-05-22 19:37:56.845\u001b[0m | \u001b[1mINFO    \u001b[0m | \u001b[36mloopbuilder.build\u001b[0m:\u001b[36mbuild\u001b[0m:\u001b[36m208\u001b[0m - \u001b[1mTrial model 4 for segment loop_2 failed filter <function <lambda> at 0x00000253350F6DD0>\u001b[0m\n",
      "\u001b[32m2025-05-22 19:38:26.297\u001b[0m | \u001b[1mINFO    \u001b[0m | \u001b[36mloopbuilder.build\u001b[0m:\u001b[36mbuild\u001b[0m:\u001b[36m204\u001b[0m - \u001b[1mScored trial model 5 for segment loop_2: {'ramachandran_outliers': 0.2308, 'rotamer_outliers': 0.4286, 'cbeta_deviations': 14.0, 'clashscore': 0.0, 'rms_bonds': 0.0415, 'rms_angles': 15.8, 'molprobity_score': 2.69}\u001b[0m\n",
      "\u001b[32m2025-05-22 19:38:26.304\u001b[0m | \u001b[32m\u001b[1mSUCCESS \u001b[0m | \u001b[36mloopbuilder.build\u001b[0m:\u001b[36mbuild\u001b[0m:\u001b[36m219\u001b[0m - \u001b[32m\u001b[1mBuilt model 2 for segment loop_2\u001b[0m\n",
      "\u001b[32m2025-05-22 19:38:56.323\u001b[0m | \u001b[1mINFO    \u001b[0m | \u001b[36mloopbuilder.build\u001b[0m:\u001b[36mbuild\u001b[0m:\u001b[36m204\u001b[0m - \u001b[1mScored trial model 6 for segment loop_2: {'ramachandran_outliers': 0.3846, 'rotamer_outliers': 0.3571, 'cbeta_deviations': 14.0, 'clashscore': 0.0, 'rms_bonds': 0.0427, 'rms_angles': 18.77, 'molprobity_score': 2.63}\u001b[0m\n",
      "\u001b[32m2025-05-22 19:38:56.326\u001b[0m | \u001b[1mINFO    \u001b[0m | \u001b[36mloopbuilder.build\u001b[0m:\u001b[36mbuild\u001b[0m:\u001b[36m208\u001b[0m - \u001b[1mTrial model 6 for segment loop_2 failed filter <function <lambda> at 0x00000253350F6DD0>\u001b[0m\n",
      "\u001b[32m2025-05-22 19:39:24.771\u001b[0m | \u001b[1mINFO    \u001b[0m | \u001b[36mloopbuilder.build\u001b[0m:\u001b[36mbuild\u001b[0m:\u001b[36m204\u001b[0m - \u001b[1mScored trial model 7 for segment loop_2: {'ramachandran_outliers': 0.4615, 'rotamer_outliers': 0.6429, 'cbeta_deviations': 14.0, 'clashscore': 0.0, 'rms_bonds': 0.0491, 'rms_angles': 18.42, 'molprobity_score': 2.9}\u001b[0m\n",
      "\u001b[32m2025-05-22 19:39:24.778\u001b[0m | \u001b[1mINFO    \u001b[0m | \u001b[36mloopbuilder.build\u001b[0m:\u001b[36mbuild\u001b[0m:\u001b[36m208\u001b[0m - \u001b[1mTrial model 7 for segment loop_2 failed filter <function <lambda> at 0x00000253350F6DD0>\u001b[0m\n",
      "\u001b[32m2025-05-22 19:39:52.182\u001b[0m | \u001b[1mINFO    \u001b[0m | \u001b[36mloopbuilder.build\u001b[0m:\u001b[36mbuild\u001b[0m:\u001b[36m204\u001b[0m - \u001b[1mScored trial model 8 for segment loop_2: {'ramachandran_outliers': 0.3846, 'rotamer_outliers': 0.4286, 'cbeta_deviations': 14.0, 'clashscore': 0.0, 'rms_bonds': 0.0415, 'rms_angles': 17.79, 'molprobity_score': 2.77}\u001b[0m\n",
      "\u001b[32m2025-05-22 19:39:52.184\u001b[0m | \u001b[1mINFO    \u001b[0m | \u001b[36mloopbuilder.build\u001b[0m:\u001b[36mbuild\u001b[0m:\u001b[36m208\u001b[0m - \u001b[1mTrial model 8 for segment loop_2 failed filter <function <lambda> at 0x00000253350F6DD0>\u001b[0m\n",
      "\u001b[32m2025-05-22 19:40:20.613\u001b[0m | \u001b[1mINFO    \u001b[0m | \u001b[36mloopbuilder.build\u001b[0m:\u001b[36mbuild\u001b[0m:\u001b[36m204\u001b[0m - \u001b[1mScored trial model 9 for segment loop_2: {'ramachandran_outliers': 0.6154, 'rotamer_outliers': 0.2857, 'cbeta_deviations': 14.0, 'clashscore': 0.0, 'rms_bonds': 0.0515, 'rms_angles': 19.64, 'molprobity_score': 2.71}\u001b[0m\n",
      "\u001b[32m2025-05-22 19:40:20.620\u001b[0m | \u001b[1mINFO    \u001b[0m | \u001b[36mloopbuilder.build\u001b[0m:\u001b[36mbuild\u001b[0m:\u001b[36m208\u001b[0m - \u001b[1mTrial model 9 for segment loop_2 failed filter <function <lambda> at 0x00000253350F6DD0>\u001b[0m\n",
      "\u001b[32m2025-05-22 19:40:49.891\u001b[0m | \u001b[1mINFO    \u001b[0m | \u001b[36mloopbuilder.build\u001b[0m:\u001b[36mbuild\u001b[0m:\u001b[36m204\u001b[0m - \u001b[1mScored trial model 10 for segment loop_2: {'ramachandran_outliers': 0.2308, 'rotamer_outliers': 0.2857, 'cbeta_deviations': 13.0, 'clashscore': 0.0, 'rms_bonds': 0.0366, 'rms_angles': 17.41, 'molprobity_score': 2.56}\u001b[0m\n",
      "\u001b[32m2025-05-22 19:40:49.897\u001b[0m | \u001b[32m\u001b[1mSUCCESS \u001b[0m | \u001b[36mloopbuilder.build\u001b[0m:\u001b[36mbuild\u001b[0m:\u001b[36m219\u001b[0m - \u001b[32m\u001b[1mBuilt model 3 for segment loop_2\u001b[0m\n",
      "\u001b[32m2025-05-22 19:40:49.898\u001b[0m | \u001b[32m\u001b[1mSUCCESS \u001b[0m | \u001b[36mloopbuilder.build\u001b[0m:\u001b[36mbuild\u001b[0m:\u001b[36m180\u001b[0m - \u001b[32m\u001b[1mReached the target number of models (success_rate=30.00%)\u001b[0m\n",
      "\u001b[32m2025-05-22 19:40:49.910\u001b[0m | \u001b[1mINFO    \u001b[0m | \u001b[36mloopbuilder.build\u001b[0m:\u001b[36mbuild\u001b[0m:\u001b[36m174\u001b[0m - \u001b[1mBuilding models for segment loop_3\u001b[0m\n",
      "\u001b[32m2025-05-22 19:41:16.069\u001b[0m | \u001b[1mINFO    \u001b[0m | \u001b[36mloopbuilder.build\u001b[0m:\u001b[36mbuild\u001b[0m:\u001b[36m204\u001b[0m - \u001b[1mScored trial model 1 for segment loop_3: {'ramachandran_outliers': 0.0, 'rotamer_outliers': 1.0, 'cbeta_deviations': 2.0, 'clashscore': 0.0, 'rms_bonds': 0.0957, 'rms_angles': 31.05, 'molprobity_score': 3.17}\u001b[0m\n",
      "\u001b[32m2025-05-22 19:41:16.076\u001b[0m | \u001b[32m\u001b[1mSUCCESS \u001b[0m | \u001b[36mloopbuilder.build\u001b[0m:\u001b[36mbuild\u001b[0m:\u001b[36m219\u001b[0m - \u001b[32m\u001b[1mBuilt model 1 for segment loop_3\u001b[0m\n",
      "\u001b[32m2025-05-22 19:41:43.528\u001b[0m | \u001b[1mINFO    \u001b[0m | \u001b[36mloopbuilder.build\u001b[0m:\u001b[36mbuild\u001b[0m:\u001b[36m204\u001b[0m - \u001b[1mScored trial model 2 for segment loop_3: {'ramachandran_outliers': 0.0, 'rotamer_outliers': 1.0, 'cbeta_deviations': 2.0, 'clashscore': 0.0, 'rms_bonds': 0.089, 'rms_angles': 31.62, 'molprobity_score': 3.17}\u001b[0m\n",
      "\u001b[32m2025-05-22 19:41:43.533\u001b[0m | \u001b[32m\u001b[1mSUCCESS \u001b[0m | \u001b[36mloopbuilder.build\u001b[0m:\u001b[36mbuild\u001b[0m:\u001b[36m219\u001b[0m - \u001b[32m\u001b[1mBuilt model 2 for segment loop_3\u001b[0m\n",
      "\u001b[32m2025-05-22 19:42:10.258\u001b[0m | \u001b[1mINFO    \u001b[0m | \u001b[36mloopbuilder.build\u001b[0m:\u001b[36mbuild\u001b[0m:\u001b[36m204\u001b[0m - \u001b[1mScored trial model 3 for segment loop_3: {'ramachandran_outliers': 0.0, 'rotamer_outliers': 1.0, 'cbeta_deviations': 2.0, 'clashscore': 0.0, 'rms_bonds': 0.0838, 'rms_angles': 22.14, 'molprobity_score': 3.17}\u001b[0m\n",
      "\u001b[32m2025-05-22 19:42:10.264\u001b[0m | \u001b[32m\u001b[1mSUCCESS \u001b[0m | \u001b[36mloopbuilder.build\u001b[0m:\u001b[36mbuild\u001b[0m:\u001b[36m219\u001b[0m - \u001b[32m\u001b[1mBuilt model 3 for segment loop_3\u001b[0m\n",
      "\u001b[32m2025-05-22 19:42:10.265\u001b[0m | \u001b[32m\u001b[1mSUCCESS \u001b[0m | \u001b[36mloopbuilder.build\u001b[0m:\u001b[36mbuild\u001b[0m:\u001b[36m180\u001b[0m - \u001b[32m\u001b[1mReached the target number of models (success_rate=100.00%)\u001b[0m\n"
     ]
    },
    {
     "data": {
      "text/plain": [
       "[Segment(identifier='loop_1', chain_index=0, chain_name='A', residue_start_index=149, residue_start_seqid=598, residue_index_offset=449, residue_names=['ALA', 'THR', 'GLU', 'LYS', 'SER', 'ARG', 'TRP', 'SER', 'GLY', 'SER', 'HIS', 'GLN', 'PHE', 'GLU', 'GLN', 'LEU'], parent_structure_file=WindowsPath('C:/Users/janoj/GitHub/LoopBuilder/data/3idp.cif'), models=[SegmentModel(identifier='loop_1', structure_file=WindowsPath('C:/Users/janoj/GitHub/LoopBuilder/sandbox/PDBFixer/3idp_loop_1_1.cif'), scores={'ramachandran_outliers': 0.2857, 'rotamer_outliers': 0.3571, 'cbeta_deviations': 14.0, 'clashscore': 0.0, 'rms_bonds': 0.0362, 'rms_angles': 19.87, 'molprobity_score': 2.72}, index=1)]),\n",
       " Segment(identifier='loop_2', chain_index=1, chain_name='B', residue_start_index=151, residue_start_seqid=600, residue_index_offset=449, residue_names=['GLU', 'LYS', 'SER', 'ARG', 'TRP', 'SER', 'GLY', 'SER', 'HIS', 'GLN', 'PHE', 'GLU', 'GLN', 'LEU', 'SER'], parent_structure_file=WindowsPath('C:/Users/janoj/GitHub/LoopBuilder/data/3idp.cif'), models=[SegmentModel(identifier='loop_2', structure_file=WindowsPath('C:/Users/janoj/GitHub/LoopBuilder/sandbox/PDBFixer/3idp_loop_2_1.cif'), scores={'ramachandran_outliers': 0.2308, 'rotamer_outliers': 0.5, 'cbeta_deviations': 14.0, 'clashscore': 0.0, 'rms_bonds': 0.036, 'rms_angles': 17.1, 'molprobity_score': 2.74}, index=1), SegmentModel(identifier='loop_2', structure_file=WindowsPath('C:/Users/janoj/GitHub/LoopBuilder/sandbox/PDBFixer/3idp_loop_2_2.cif'), scores={'ramachandran_outliers': 0.2308, 'rotamer_outliers': 0.4286, 'cbeta_deviations': 14.0, 'clashscore': 0.0, 'rms_bonds': 0.0415, 'rms_angles': 15.8, 'molprobity_score': 2.69}, index=2), SegmentModel(identifier='loop_2', structure_file=WindowsPath('C:/Users/janoj/GitHub/LoopBuilder/sandbox/PDBFixer/3idp_loop_2_3.cif'), scores={'ramachandran_outliers': 0.2308, 'rotamer_outliers': 0.2857, 'cbeta_deviations': 13.0, 'clashscore': 0.0, 'rms_bonds': 0.0366, 'rms_angles': 17.41, 'molprobity_score': 2.56}, index=3)]),\n",
       " Segment(identifier='loop_3', chain_index=1, chain_name='B', residue_start_index=165, residue_start_seqid=629, residue_index_offset=449, residue_names=['ASP', 'LYS'], parent_structure_file=WindowsPath('C:/Users/janoj/GitHub/LoopBuilder/data/3idp.cif'), models=[SegmentModel(identifier='loop_3', structure_file=WindowsPath('C:/Users/janoj/GitHub/LoopBuilder/sandbox/PDBFixer/3idp_loop_3_1.cif'), scores={'ramachandran_outliers': 0.0, 'rotamer_outliers': 1.0, 'cbeta_deviations': 2.0, 'clashscore': 0.0, 'rms_bonds': 0.0957, 'rms_angles': 31.05, 'molprobity_score': 3.17}, index=1), SegmentModel(identifier='loop_3', structure_file=WindowsPath('C:/Users/janoj/GitHub/LoopBuilder/sandbox/PDBFixer/3idp_loop_3_2.cif'), scores={'ramachandran_outliers': 0.0, 'rotamer_outliers': 1.0, 'cbeta_deviations': 2.0, 'clashscore': 0.0, 'rms_bonds': 0.089, 'rms_angles': 31.62, 'molprobity_score': 3.17}, index=2), SegmentModel(identifier='loop_3', structure_file=WindowsPath('C:/Users/janoj/GitHub/LoopBuilder/sandbox/PDBFixer/3idp_loop_3_3.cif'), scores={'ramachandran_outliers': 0.0, 'rotamer_outliers': 1.0, 'cbeta_deviations': 2.0, 'clashscore': 0.0, 'rms_bonds': 0.0838, 'rms_angles': 22.14, 'molprobity_score': 3.17}, index=3)])]"
      ]
     },
     "execution_count": 2,
     "metadata": {},
     "output_type": "execute_result"
    }
   ],
   "source": [
    "builder = PDBFixerBuilder(\n",
    "    structure_file=PROJECT_ROOT / \"data/3idp.cif\",\n",
    "    output_directory=PROJECT_ROOT / \"sandbox/PDBFixer\",\n",
    "    scorers=[MolProbityScorer(docker_image=\"francecosta/molprobity:v0.0.1\")],\n",
    "    filters=[lambda x: x.scores.get(\"ramachandran_outliers\", 0.3) <= 0.3],\n",
    "    # NOTE: That's a pretty low bar but let's just use this to generate a few results\n",
    "    #    A stricter filter would be: filters=[lambda x: x.scores.get(\"molprobity_score\", 1) <= 1],\n",
    "    working_directory=PROJECT_ROOT / \"sandbox/PDBFixer/tmp\",\n",
    ")\n",
    "builder.build(n=3)"
   ]
  },
  {
   "cell_type": "code",
   "execution_count": null,
   "id": "501d5e11",
   "metadata": {},
   "outputs": [
    {
     "name": "stderr",
     "output_type": "stream",
     "text": [
      "\u001b[32m2025-05-22 19:42:10.783\u001b[0m | \u001b[1mINFO    \u001b[0m | \u001b[36mloopbuilder.build\u001b[0m:\u001b[36mbuild\u001b[0m:\u001b[36m143\u001b[0m - \u001b[1mBuilding n=3 models for C:\\Users\\janoj\\GitHub\\LoopBuilder\\data\\6x18.cif (max_tries=30)\u001b[0m\n",
      "\u001b[32m2025-05-22 19:42:10.786\u001b[0m | \u001b[1mINFO    \u001b[0m | \u001b[36mloopbuilder.build\u001b[0m:\u001b[36mbuild\u001b[0m:\u001b[36m145\u001b[0m - \u001b[1mSaving output to C:\\Users\\janoj\\GitHub\\LoopBuilder\\sandbox\\PDBFixer\\6x18\u001b[0m\n",
      "\u001b[32m2025-05-22 19:42:10.790\u001b[0m | \u001b[1mINFO    \u001b[0m | \u001b[36mloopbuilder.build\u001b[0m:\u001b[36mbuild\u001b[0m:\u001b[36m146\u001b[0m - \u001b[1mUsing working directory C:\\Users\\janoj\\GitHub\\LoopBuilder\\sandbox\\PDBFixer\\tmp\u001b[0m\n",
      "\u001b[32m2025-05-22 19:42:10.792\u001b[0m | \u001b[1mINFO    \u001b[0m | \u001b[36mloopbuilder.build\u001b[0m:\u001b[36mbuild\u001b[0m:\u001b[36m151\u001b[0m - \u001b[1mUsing 1 scorer(s):\n",
      "  MolProbityScorer(cleanup=True, executable=molprobity.molprobity, docker_image=francecosta/molprobity:v0.0.1, )\u001b[0m\n",
      "\u001b[32m2025-05-22 19:42:10.795\u001b[0m | \u001b[1mINFO    \u001b[0m | \u001b[36mloopbuilder.build\u001b[0m:\u001b[36mbuild\u001b[0m:\u001b[36m156\u001b[0m - \u001b[1mUsing 1 filter(s):\n",
      "  <function <lambda> at 0x0000025347667D90>\u001b[0m\n",
      "\u001b[32m2025-05-22 19:42:10.797\u001b[0m | \u001b[1mINFO    \u001b[0m | \u001b[36mloopbuilder.build\u001b[0m:\u001b[36mbuild\u001b[0m:\u001b[36m159\u001b[0m - \u001b[1mLooking for segments\u001b[0m\n",
      "\u001b[32m2025-05-22 19:42:12.615\u001b[0m | \u001b[1mINFO    \u001b[0m | \u001b[36mloopbuilder.build\u001b[0m:\u001b[36mbuild\u001b[0m:\u001b[36m166\u001b[0m - \u001b[1mFound 4 segments\u001b[0m\n"
     ]
    },
    {
     "data": {
      "application/vnd.jupyter.widget-view+json": {
       "model_id": "48946ee65d584889a72441fc873651b3",
       "version_major": 2,
       "version_minor": 0
      },
      "text/plain": [
       "Building segments:   0%|          | 0/4 [00:00<?, ?segment/s]"
      ]
     },
     "metadata": {},
     "output_type": "display_data"
    },
    {
     "name": "stderr",
     "output_type": "stream",
     "text": [
      "\u001b[32m2025-05-22 19:42:12.636\u001b[0m | \u001b[1mINFO    \u001b[0m | \u001b[36mloopbuilder.build\u001b[0m:\u001b[36mbuild\u001b[0m:\u001b[36m174\u001b[0m - \u001b[1mBuilding models for segment loop_1\u001b[0m\n",
      "\u001b[32m2025-05-22 19:42:50.573\u001b[0m | \u001b[1mINFO    \u001b[0m | \u001b[36mloopbuilder.build\u001b[0m:\u001b[36mbuild\u001b[0m:\u001b[36m204\u001b[0m - \u001b[1mScored trial model 1 for segment loop_1: {'ramachandran_outliers': 0.6, 'rotamer_outliers': 0.4, 'cbeta_deviations': 17.0, 'clashscore': 0.0, 'rms_bonds': 0.0356, 'rms_angles': 18.91, 'molprobity_score': 2.79}\u001b[0m\n",
      "\u001b[32m2025-05-22 19:42:50.576\u001b[0m | \u001b[1mINFO    \u001b[0m | \u001b[36mloopbuilder.build\u001b[0m:\u001b[36mbuild\u001b[0m:\u001b[36m208\u001b[0m - \u001b[1mTrial model 1 for segment loop_1 failed filter <function <lambda> at 0x0000025347667D90>\u001b[0m\n",
      "\u001b[32m2025-05-22 19:43:27.088\u001b[0m | \u001b[1mINFO    \u001b[0m | \u001b[36mloopbuilder.build\u001b[0m:\u001b[36mbuild\u001b[0m:\u001b[36m204\u001b[0m - \u001b[1mScored trial model 2 for segment loop_1: {'ramachandran_outliers': 0.6, 'rotamer_outliers': 0.4667, 'cbeta_deviations': 16.0, 'clashscore': 0.0, 'rms_bonds': 0.0323, 'rms_angles': 20.06, 'molprobity_score': 2.83}\u001b[0m\n",
      "\u001b[32m2025-05-22 19:43:27.090\u001b[0m | \u001b[1mINFO    \u001b[0m | \u001b[36mloopbuilder.build\u001b[0m:\u001b[36mbuild\u001b[0m:\u001b[36m208\u001b[0m - \u001b[1mTrial model 2 for segment loop_1 failed filter <function <lambda> at 0x0000025347667D90>\u001b[0m\n",
      "\u001b[32m2025-05-22 19:44:03.415\u001b[0m | \u001b[1mINFO    \u001b[0m | \u001b[36mloopbuilder.build\u001b[0m:\u001b[36mbuild\u001b[0m:\u001b[36m204\u001b[0m - \u001b[1mScored trial model 3 for segment loop_1: {'ramachandran_outliers': 0.45, 'rotamer_outliers': 0.4667, 'cbeta_deviations': 16.0, 'clashscore': 0.0, 'rms_bonds': 0.0398, 'rms_angles': 18.96, 'molprobity_score': 2.81}\u001b[0m\n",
      "\u001b[32m2025-05-22 19:44:03.417\u001b[0m | \u001b[1mINFO    \u001b[0m | \u001b[36mloopbuilder.build\u001b[0m:\u001b[36mbuild\u001b[0m:\u001b[36m208\u001b[0m - \u001b[1mTrial model 3 for segment loop_1 failed filter <function <lambda> at 0x0000025347667D90>\u001b[0m\n",
      "\u001b[32m2025-05-22 19:44:38.475\u001b[0m | \u001b[1mINFO    \u001b[0m | \u001b[36mloopbuilder.build\u001b[0m:\u001b[36mbuild\u001b[0m:\u001b[36m204\u001b[0m - \u001b[1mScored trial model 4 for segment loop_1: {'ramachandran_outliers': 0.45, 'rotamer_outliers': 0.5333, 'cbeta_deviations': 17.0, 'clashscore': 0.0, 'rms_bonds': 0.0308, 'rms_angles': 19.89, 'molprobity_score': 2.87}\u001b[0m\n",
      "\u001b[32m2025-05-22 19:44:38.478\u001b[0m | \u001b[1mINFO    \u001b[0m | \u001b[36mloopbuilder.build\u001b[0m:\u001b[36mbuild\u001b[0m:\u001b[36m208\u001b[0m - \u001b[1mTrial model 4 for segment loop_1 failed filter <function <lambda> at 0x0000025347667D90>\u001b[0m\n",
      "\u001b[32m2025-05-22 19:45:13.903\u001b[0m | \u001b[1mINFO    \u001b[0m | \u001b[36mloopbuilder.build\u001b[0m:\u001b[36mbuild\u001b[0m:\u001b[36m204\u001b[0m - \u001b[1mScored trial model 5 for segment loop_1: {'ramachandran_outliers': 0.4, 'rotamer_outliers': 0.5333, 'cbeta_deviations': 17.0, 'clashscore': 0.0, 'rms_bonds': 0.0363, 'rms_angles': 18.12, 'molprobity_score': 2.83}\u001b[0m\n",
      "\u001b[32m2025-05-22 19:45:13.906\u001b[0m | \u001b[1mINFO    \u001b[0m | \u001b[36mloopbuilder.build\u001b[0m:\u001b[36mbuild\u001b[0m:\u001b[36m208\u001b[0m - \u001b[1mTrial model 5 for segment loop_1 failed filter <function <lambda> at 0x0000025347667D90>\u001b[0m\n",
      "\u001b[32m2025-05-22 19:45:49.281\u001b[0m | \u001b[1mINFO    \u001b[0m | \u001b[36mloopbuilder.build\u001b[0m:\u001b[36mbuild\u001b[0m:\u001b[36m204\u001b[0m - \u001b[1mScored trial model 6 for segment loop_1: {'ramachandran_outliers': 0.35, 'rotamer_outliers': 0.5333, 'cbeta_deviations': 16.0, 'clashscore': 0.0, 'rms_bonds': 0.043, 'rms_angles': 18.68, 'molprobity_score': 2.81}\u001b[0m\n",
      "\u001b[32m2025-05-22 19:45:49.283\u001b[0m | \u001b[1mINFO    \u001b[0m | \u001b[36mloopbuilder.build\u001b[0m:\u001b[36mbuild\u001b[0m:\u001b[36m208\u001b[0m - \u001b[1mTrial model 6 for segment loop_1 failed filter <function <lambda> at 0x0000025347667D90>\u001b[0m\n",
      "\u001b[32m2025-05-22 19:46:24.230\u001b[0m | \u001b[1mINFO    \u001b[0m | \u001b[36mloopbuilder.build\u001b[0m:\u001b[36mbuild\u001b[0m:\u001b[36m204\u001b[0m - \u001b[1mScored trial model 7 for segment loop_1: {'ramachandran_outliers': 0.6, 'rotamer_outliers': 0.8, 'cbeta_deviations': 16.0, 'clashscore': 0.0, 'rms_bonds': 0.0339, 'rms_angles': 19.51, 'molprobity_score': 3.02}\u001b[0m\n",
      "\u001b[32m2025-05-22 19:46:24.233\u001b[0m | \u001b[1mINFO    \u001b[0m | \u001b[36mloopbuilder.build\u001b[0m:\u001b[36mbuild\u001b[0m:\u001b[36m208\u001b[0m - \u001b[1mTrial model 7 for segment loop_1 failed filter <function <lambda> at 0x0000025347667D90>\u001b[0m\n",
      "\u001b[32m2025-05-22 19:47:01.453\u001b[0m | \u001b[1mINFO    \u001b[0m | \u001b[36mloopbuilder.build\u001b[0m:\u001b[36mbuild\u001b[0m:\u001b[36m204\u001b[0m - \u001b[1mScored trial model 8 for segment loop_1: {'ramachandran_outliers': 0.2, 'rotamer_outliers': 0.4667, 'cbeta_deviations': 17.0, 'clashscore': 0.0, 'rms_bonds': 0.0289, 'rms_angles': 18.28, 'molprobity_score': 2.77}\u001b[0m\n",
      "\u001b[32m2025-05-22 19:47:01.459\u001b[0m | \u001b[32m\u001b[1mSUCCESS \u001b[0m | \u001b[36mloopbuilder.build\u001b[0m:\u001b[36mbuild\u001b[0m:\u001b[36m219\u001b[0m - \u001b[32m\u001b[1mBuilt model 1 for segment loop_1\u001b[0m\n",
      "\u001b[32m2025-05-22 19:47:36.205\u001b[0m | \u001b[1mINFO    \u001b[0m | \u001b[36mloopbuilder.build\u001b[0m:\u001b[36mbuild\u001b[0m:\u001b[36m204\u001b[0m - \u001b[1mScored trial model 9 for segment loop_1: {'ramachandran_outliers': 0.4, 'rotamer_outliers': 0.5333, 'cbeta_deviations': 16.0, 'clashscore': 0.0, 'rms_bonds': 0.0324, 'rms_angles': 17.82, 'molprobity_score': 2.76}\u001b[0m\n",
      "\u001b[32m2025-05-22 19:47:36.207\u001b[0m | \u001b[1mINFO    \u001b[0m | \u001b[36mloopbuilder.build\u001b[0m:\u001b[36mbuild\u001b[0m:\u001b[36m208\u001b[0m - \u001b[1mTrial model 9 for segment loop_1 failed filter <function <lambda> at 0x0000025347667D90>\u001b[0m\n",
      "\u001b[32m2025-05-22 19:48:12.027\u001b[0m | \u001b[1mINFO    \u001b[0m | \u001b[36mloopbuilder.build\u001b[0m:\u001b[36mbuild\u001b[0m:\u001b[36m204\u001b[0m - \u001b[1mScored trial model 10 for segment loop_1: {'ramachandran_outliers': 0.45, 'rotamer_outliers': 0.7333, 'cbeta_deviations': 16.0, 'clashscore': 0.0, 'rms_bonds': 0.0314, 'rms_angles': 20.91, 'molprobity_score': 2.96}\u001b[0m\n",
      "\u001b[32m2025-05-22 19:48:12.031\u001b[0m | \u001b[1mINFO    \u001b[0m | \u001b[36mloopbuilder.build\u001b[0m:\u001b[36mbuild\u001b[0m:\u001b[36m208\u001b[0m - \u001b[1mTrial model 10 for segment loop_1 failed filter <function <lambda> at 0x0000025347667D90>\u001b[0m\n",
      "\u001b[32m2025-05-22 19:48:46.127\u001b[0m | \u001b[1mINFO    \u001b[0m | \u001b[36mloopbuilder.build\u001b[0m:\u001b[36mbuild\u001b[0m:\u001b[36m204\u001b[0m - \u001b[1mScored trial model 11 for segment loop_1: {'ramachandran_outliers': 0.5, 'rotamer_outliers': 0.6, 'cbeta_deviations': 16.0, 'clashscore': 0.0, 'rms_bonds': 0.0345, 'rms_angles': 19.72, 'molprobity_score': 2.93}\u001b[0m\n",
      "\u001b[32m2025-05-22 19:48:46.129\u001b[0m | \u001b[1mINFO    \u001b[0m | \u001b[36mloopbuilder.build\u001b[0m:\u001b[36mbuild\u001b[0m:\u001b[36m208\u001b[0m - \u001b[1mTrial model 11 for segment loop_1 failed filter <function <lambda> at 0x0000025347667D90>\u001b[0m\n",
      "\u001b[32m2025-05-22 19:49:20.535\u001b[0m | \u001b[1mINFO    \u001b[0m | \u001b[36mloopbuilder.build\u001b[0m:\u001b[36mbuild\u001b[0m:\u001b[36m204\u001b[0m - \u001b[1mScored trial model 12 for segment loop_1: {'ramachandran_outliers': 0.4, 'rotamer_outliers': 0.4667, 'cbeta_deviations': 17.0, 'clashscore': 0.0, 'rms_bonds': 0.0419, 'rms_angles': 22.63, 'molprobity_score': 2.79}\u001b[0m\n",
      "\u001b[32m2025-05-22 19:49:20.538\u001b[0m | \u001b[1mINFO    \u001b[0m | \u001b[36mloopbuilder.build\u001b[0m:\u001b[36mbuild\u001b[0m:\u001b[36m208\u001b[0m - \u001b[1mTrial model 12 for segment loop_1 failed filter <function <lambda> at 0x0000025347667D90>\u001b[0m\n",
      "\u001b[32m2025-05-22 19:49:54.894\u001b[0m | \u001b[1mINFO    \u001b[0m | \u001b[36mloopbuilder.build\u001b[0m:\u001b[36mbuild\u001b[0m:\u001b[36m204\u001b[0m - \u001b[1mScored trial model 13 for segment loop_1: {'ramachandran_outliers': 0.35, 'rotamer_outliers': 0.6667, 'cbeta_deviations': 17.0, 'clashscore': 0.0, 'rms_bonds': 0.0316, 'rms_angles': 20.95, 'molprobity_score': 2.91}\u001b[0m\n",
      "\u001b[32m2025-05-22 19:49:54.897\u001b[0m | \u001b[1mINFO    \u001b[0m | \u001b[36mloopbuilder.build\u001b[0m:\u001b[36mbuild\u001b[0m:\u001b[36m208\u001b[0m - \u001b[1mTrial model 13 for segment loop_1 failed filter <function <lambda> at 0x0000025347667D90>\u001b[0m\n",
      "\u001b[32m2025-05-22 19:50:28.022\u001b[0m | \u001b[1mINFO    \u001b[0m | \u001b[36mloopbuilder.build\u001b[0m:\u001b[36mbuild\u001b[0m:\u001b[36m204\u001b[0m - \u001b[1mScored trial model 14 for segment loop_1: {'ramachandran_outliers': 0.35, 'rotamer_outliers': 0.6667, 'cbeta_deviations': 17.0, 'clashscore': 0.0, 'rms_bonds': 0.032, 'rms_angles': 17.99, 'molprobity_score': 2.88}\u001b[0m\n",
      "\u001b[32m2025-05-22 19:50:28.023\u001b[0m | \u001b[1mINFO    \u001b[0m | \u001b[36mloopbuilder.build\u001b[0m:\u001b[36mbuild\u001b[0m:\u001b[36m208\u001b[0m - \u001b[1mTrial model 14 for segment loop_1 failed filter <function <lambda> at 0x0000025347667D90>\u001b[0m\n",
      "\u001b[32m2025-05-22 19:51:03.197\u001b[0m | \u001b[1mINFO    \u001b[0m | \u001b[36mloopbuilder.build\u001b[0m:\u001b[36mbuild\u001b[0m:\u001b[36m204\u001b[0m - \u001b[1mScored trial model 15 for segment loop_1: {'ramachandran_outliers': 0.4, 'rotamer_outliers': 0.6, 'cbeta_deviations': 17.0, 'clashscore': 0.0, 'rms_bonds': 0.0376, 'rms_angles': 18.67, 'molprobity_score': 2.91}\u001b[0m\n",
      "\u001b[32m2025-05-22 19:51:03.199\u001b[0m | \u001b[1mINFO    \u001b[0m | \u001b[36mloopbuilder.build\u001b[0m:\u001b[36mbuild\u001b[0m:\u001b[36m208\u001b[0m - \u001b[1mTrial model 15 for segment loop_1 failed filter <function <lambda> at 0x0000025347667D90>\u001b[0m\n",
      "\u001b[32m2025-05-22 19:51:37.130\u001b[0m | \u001b[1mINFO    \u001b[0m | \u001b[36mloopbuilder.build\u001b[0m:\u001b[36mbuild\u001b[0m:\u001b[36m204\u001b[0m - \u001b[1mScored trial model 16 for segment loop_1: {'ramachandran_outliers': 0.5, 'rotamer_outliers': 0.6667, 'cbeta_deviations': 17.0, 'clashscore': 0.0, 'rms_bonds': 0.035, 'rms_angles': 21.0, 'molprobity_score': 2.96}\u001b[0m\n",
      "\u001b[32m2025-05-22 19:51:37.133\u001b[0m | \u001b[1mINFO    \u001b[0m | \u001b[36mloopbuilder.build\u001b[0m:\u001b[36mbuild\u001b[0m:\u001b[36m208\u001b[0m - \u001b[1mTrial model 16 for segment loop_1 failed filter <function <lambda> at 0x0000025347667D90>\u001b[0m\n",
      "\u001b[32m2025-05-22 19:52:11.711\u001b[0m | \u001b[1mINFO    \u001b[0m | \u001b[36mloopbuilder.build\u001b[0m:\u001b[36mbuild\u001b[0m:\u001b[36m204\u001b[0m - \u001b[1mScored trial model 17 for segment loop_1: {'ramachandran_outliers': 0.55, 'rotamer_outliers': 0.6, 'cbeta_deviations': 16.0, 'clashscore': 0.0, 'rms_bonds': 0.0343, 'rms_angles': 17.51, 'molprobity_score': 2.91}\u001b[0m\n",
      "\u001b[32m2025-05-22 19:52:11.713\u001b[0m | \u001b[1mINFO    \u001b[0m | \u001b[36mloopbuilder.build\u001b[0m:\u001b[36mbuild\u001b[0m:\u001b[36m208\u001b[0m - \u001b[1mTrial model 17 for segment loop_1 failed filter <function <lambda> at 0x0000025347667D90>\u001b[0m\n",
      "\u001b[32m2025-05-22 19:52:45.075\u001b[0m | \u001b[1mINFO    \u001b[0m | \u001b[36mloopbuilder.build\u001b[0m:\u001b[36mbuild\u001b[0m:\u001b[36m204\u001b[0m - \u001b[1mScored trial model 18 for segment loop_1: {'ramachandran_outliers': 0.65, 'rotamer_outliers': 0.6, 'cbeta_deviations': 16.0, 'clashscore': 0.0, 'rms_bonds': 0.0368, 'rms_angles': 18.14, 'molprobity_score': 2.93}\u001b[0m\n",
      "\u001b[32m2025-05-22 19:52:45.078\u001b[0m | \u001b[1mINFO    \u001b[0m | \u001b[36mloopbuilder.build\u001b[0m:\u001b[36mbuild\u001b[0m:\u001b[36m208\u001b[0m - \u001b[1mTrial model 18 for segment loop_1 failed filter <function <lambda> at 0x0000025347667D90>\u001b[0m\n",
      "\u001b[32m2025-05-22 19:53:19.610\u001b[0m | \u001b[1mINFO    \u001b[0m | \u001b[36mloopbuilder.build\u001b[0m:\u001b[36mbuild\u001b[0m:\u001b[36m204\u001b[0m - \u001b[1mScored trial model 19 for segment loop_1: {'ramachandran_outliers': 0.3, 'rotamer_outliers': 0.4667, 'cbeta_deviations': 17.0, 'clashscore': 0.0, 'rms_bonds': 0.0427, 'rms_angles': 19.58, 'molprobity_score': 2.79}\u001b[0m\n",
      "\u001b[32m2025-05-22 19:53:19.616\u001b[0m | \u001b[32m\u001b[1mSUCCESS \u001b[0m | \u001b[36mloopbuilder.build\u001b[0m:\u001b[36mbuild\u001b[0m:\u001b[36m219\u001b[0m - \u001b[32m\u001b[1mBuilt model 2 for segment loop_1\u001b[0m\n",
      "\u001b[32m2025-05-22 19:53:57.060\u001b[0m | \u001b[1mINFO    \u001b[0m | \u001b[36mloopbuilder.build\u001b[0m:\u001b[36mbuild\u001b[0m:\u001b[36m204\u001b[0m - \u001b[1mScored trial model 20 for segment loop_1: {'ramachandran_outliers': 0.45, 'rotamer_outliers': 0.6667, 'cbeta_deviations': 17.0, 'clashscore': 0.0, 'rms_bonds': 0.0387, 'rms_angles': 20.41, 'molprobity_score': 2.96}\u001b[0m\n",
      "\u001b[32m2025-05-22 19:53:57.063\u001b[0m | \u001b[1mINFO    \u001b[0m | \u001b[36mloopbuilder.build\u001b[0m:\u001b[36mbuild\u001b[0m:\u001b[36m208\u001b[0m - \u001b[1mTrial model 20 for segment loop_1 failed filter <function <lambda> at 0x0000025347667D90>\u001b[0m\n",
      "\u001b[32m2025-05-22 19:54:31.378\u001b[0m | \u001b[1mINFO    \u001b[0m | \u001b[36mloopbuilder.build\u001b[0m:\u001b[36mbuild\u001b[0m:\u001b[36m204\u001b[0m - \u001b[1mScored trial model 21 for segment loop_1: {'ramachandran_outliers': 0.45, 'rotamer_outliers': 0.8, 'cbeta_deviations': 17.0, 'clashscore': 0.0, 'rms_bonds': 0.0304, 'rms_angles': 18.58, 'molprobity_score': 2.97}\u001b[0m\n",
      "\u001b[32m2025-05-22 19:54:31.381\u001b[0m | \u001b[1mINFO    \u001b[0m | \u001b[36mloopbuilder.build\u001b[0m:\u001b[36mbuild\u001b[0m:\u001b[36m208\u001b[0m - \u001b[1mTrial model 21 for segment loop_1 failed filter <function <lambda> at 0x0000025347667D90>\u001b[0m\n",
      "\u001b[32m2025-05-22 19:55:06.510\u001b[0m | \u001b[1mINFO    \u001b[0m | \u001b[36mloopbuilder.build\u001b[0m:\u001b[36mbuild\u001b[0m:\u001b[36m204\u001b[0m - \u001b[1mScored trial model 22 for segment loop_1: {'ramachandran_outliers': 0.3, 'rotamer_outliers': 0.5333, 'cbeta_deviations': 17.0, 'clashscore': 0.0, 'rms_bonds': 0.0337, 'rms_angles': 17.85, 'molprobity_score': 2.81}\u001b[0m\n",
      "\u001b[32m2025-05-22 19:55:06.515\u001b[0m | \u001b[32m\u001b[1mSUCCESS \u001b[0m | \u001b[36mloopbuilder.build\u001b[0m:\u001b[36mbuild\u001b[0m:\u001b[36m219\u001b[0m - \u001b[32m\u001b[1mBuilt model 3 for segment loop_1\u001b[0m\n",
      "\u001b[32m2025-05-22 19:55:06.519\u001b[0m | \u001b[32m\u001b[1mSUCCESS \u001b[0m | \u001b[36mloopbuilder.build\u001b[0m:\u001b[36mbuild\u001b[0m:\u001b[36m180\u001b[0m - \u001b[32m\u001b[1mReached the target number of models (success_rate=13.64%)\u001b[0m\n",
      "\u001b[32m2025-05-22 19:55:06.533\u001b[0m | \u001b[1mINFO    \u001b[0m | \u001b[36mloopbuilder.build\u001b[0m:\u001b[36mbuild\u001b[0m:\u001b[36m174\u001b[0m - \u001b[1mBuilding models for segment loop_2\u001b[0m\n",
      "\u001b[32m2025-05-22 19:55:36.360\u001b[0m | \u001b[1mINFO    \u001b[0m | \u001b[36mloopbuilder.build\u001b[0m:\u001b[36mbuild\u001b[0m:\u001b[36m204\u001b[0m - \u001b[1mScored trial model 1 for segment loop_2: {'ramachandran_outliers': 0.8, 'rotamer_outliers': 0.7143, 'cbeta_deviations': 6.0, 'clashscore': 0.0, 'rms_bonds': 0.0465, 'rms_angles': 20.94, 'molprobity_score': 3.06}\u001b[0m\n",
      "\u001b[32m2025-05-22 19:55:36.363\u001b[0m | \u001b[1mINFO    \u001b[0m | \u001b[36mloopbuilder.build\u001b[0m:\u001b[36mbuild\u001b[0m:\u001b[36m208\u001b[0m - \u001b[1mTrial model 1 for segment loop_2 failed filter <function <lambda> at 0x0000025347667D90>\u001b[0m\n",
      "\u001b[32m2025-05-22 19:56:09.227\u001b[0m | \u001b[1mINFO    \u001b[0m | \u001b[36mloopbuilder.build\u001b[0m:\u001b[36mbuild\u001b[0m:\u001b[36m204\u001b[0m - \u001b[1mScored trial model 2 for segment loop_2: {'ramachandran_outliers': 0.6, 'rotamer_outliers': 0.7143, 'cbeta_deviations': 6.0, 'clashscore': 0.0, 'rms_bonds': 0.0476, 'rms_angles': 20.43, 'molprobity_score': 3.0}\u001b[0m\n",
      "\u001b[32m2025-05-22 19:56:09.230\u001b[0m | \u001b[1mINFO    \u001b[0m | \u001b[36mloopbuilder.build\u001b[0m:\u001b[36mbuild\u001b[0m:\u001b[36m208\u001b[0m - \u001b[1mTrial model 2 for segment loop_2 failed filter <function <lambda> at 0x0000025347667D90>\u001b[0m\n",
      "\u001b[32m2025-05-22 19:56:40.111\u001b[0m | \u001b[1mINFO    \u001b[0m | \u001b[36mloopbuilder.build\u001b[0m:\u001b[36mbuild\u001b[0m:\u001b[36m204\u001b[0m - \u001b[1mScored trial model 3 for segment loop_2: {'ramachandran_outliers': 0.8, 'rotamer_outliers': 0.5714, 'cbeta_deviations': 7.0, 'clashscore': 0.0, 'rms_bonds': 0.0582, 'rms_angles': 23.5, 'molprobity_score': 2.93}\u001b[0m\n",
      "\u001b[32m2025-05-22 19:56:40.113\u001b[0m | \u001b[1mINFO    \u001b[0m | \u001b[36mloopbuilder.build\u001b[0m:\u001b[36mbuild\u001b[0m:\u001b[36m208\u001b[0m - \u001b[1mTrial model 3 for segment loop_2 failed filter <function <lambda> at 0x0000025347667D90>\u001b[0m\n",
      "\u001b[32m2025-05-22 19:57:12.796\u001b[0m | \u001b[1mINFO    \u001b[0m | \u001b[36mloopbuilder.build\u001b[0m:\u001b[36mbuild\u001b[0m:\u001b[36m204\u001b[0m - \u001b[1mScored trial model 4 for segment loop_2: {'ramachandran_outliers': 0.4, 'rotamer_outliers': 0.7143, 'cbeta_deviations': 6.0, 'clashscore': 0.0, 'rms_bonds': 0.0489, 'rms_angles': 26.65, 'molprobity_score': 2.93}\u001b[0m\n",
      "\u001b[32m2025-05-22 19:57:12.799\u001b[0m | \u001b[1mINFO    \u001b[0m | \u001b[36mloopbuilder.build\u001b[0m:\u001b[36mbuild\u001b[0m:\u001b[36m208\u001b[0m - \u001b[1mTrial model 4 for segment loop_2 failed filter <function <lambda> at 0x0000025347667D90>\u001b[0m\n",
      "\u001b[32m2025-05-22 19:57:43.210\u001b[0m | \u001b[1mINFO    \u001b[0m | \u001b[36mloopbuilder.build\u001b[0m:\u001b[36mbuild\u001b[0m:\u001b[36m204\u001b[0m - \u001b[1mScored trial model 5 for segment loop_2: {'ramachandran_outliers': 0.8, 'rotamer_outliers': 1.0, 'cbeta_deviations': 7.0, 'clashscore': 0.0, 'rms_bonds': 0.0319, 'rms_angles': 20.63, 'molprobity_score': 3.17}\u001b[0m\n",
      "\u001b[32m2025-05-22 19:57:43.212\u001b[0m | \u001b[1mINFO    \u001b[0m | \u001b[36mloopbuilder.build\u001b[0m:\u001b[36mbuild\u001b[0m:\u001b[36m208\u001b[0m - \u001b[1mTrial model 5 for segment loop_2 failed filter <function <lambda> at 0x0000025347667D90>\u001b[0m\n",
      "\u001b[32m2025-05-22 19:58:13.022\u001b[0m | \u001b[1mINFO    \u001b[0m | \u001b[36mloopbuilder.build\u001b[0m:\u001b[36mbuild\u001b[0m:\u001b[36m204\u001b[0m - \u001b[1mScored trial model 6 for segment loop_2: {'ramachandran_outliers': 1.0, 'rotamer_outliers': 0.8571, 'cbeta_deviations': 7.0, 'clashscore': 0.0, 'rms_bonds': 0.0556, 'rms_angles': 24.04, 'molprobity_score': 3.12}\u001b[0m\n",
      "\u001b[32m2025-05-22 19:58:13.025\u001b[0m | \u001b[1mINFO    \u001b[0m | \u001b[36mloopbuilder.build\u001b[0m:\u001b[36mbuild\u001b[0m:\u001b[36m208\u001b[0m - \u001b[1mTrial model 6 for segment loop_2 failed filter <function <lambda> at 0x0000025347667D90>\u001b[0m\n",
      "\u001b[32m2025-05-22 19:58:44.681\u001b[0m | \u001b[1mINFO    \u001b[0m | \u001b[36mloopbuilder.build\u001b[0m:\u001b[36mbuild\u001b[0m:\u001b[36m204\u001b[0m - \u001b[1mScored trial model 7 for segment loop_2: {'ramachandran_outliers': 0.8, 'rotamer_outliers': 0.8571, 'cbeta_deviations': 7.0, 'clashscore': 0.0, 'rms_bonds': 0.0603, 'rms_angles': 22.23, 'molprobity_score': 3.12}\u001b[0m\n",
      "\u001b[32m2025-05-22 19:58:44.684\u001b[0m | \u001b[1mINFO    \u001b[0m | \u001b[36mloopbuilder.build\u001b[0m:\u001b[36mbuild\u001b[0m:\u001b[36m208\u001b[0m - \u001b[1mTrial model 7 for segment loop_2 failed filter <function <lambda> at 0x0000025347667D90>\u001b[0m\n",
      "\u001b[32m2025-05-22 19:59:15.651\u001b[0m | \u001b[1mINFO    \u001b[0m | \u001b[36mloopbuilder.build\u001b[0m:\u001b[36mbuild\u001b[0m:\u001b[36m204\u001b[0m - \u001b[1mScored trial model 8 for segment loop_2: {'ramachandran_outliers': 0.8, 'rotamer_outliers': 0.5714, 'cbeta_deviations': 7.0, 'clashscore': 0.0, 'rms_bonds': 0.04, 'rms_angles': 23.72, 'molprobity_score': 2.93}\u001b[0m\n",
      "\u001b[32m2025-05-22 19:59:15.653\u001b[0m | \u001b[1mINFO    \u001b[0m | \u001b[36mloopbuilder.build\u001b[0m:\u001b[36mbuild\u001b[0m:\u001b[36m208\u001b[0m - \u001b[1mTrial model 8 for segment loop_2 failed filter <function <lambda> at 0x0000025347667D90>\u001b[0m\n",
      "\u001b[32m2025-05-22 19:59:46.529\u001b[0m | \u001b[1mINFO    \u001b[0m | \u001b[36mloopbuilder.build\u001b[0m:\u001b[36mbuild\u001b[0m:\u001b[36m204\u001b[0m - \u001b[1mScored trial model 9 for segment loop_2: {'ramachandran_outliers': 0.6, 'rotamer_outliers': 0.5714, 'cbeta_deviations': 7.0, 'clashscore': 0.0, 'rms_bonds': 0.0408, 'rms_angles': 22.14, 'molprobity_score': 2.93}\u001b[0m\n",
      "\u001b[32m2025-05-22 19:59:46.532\u001b[0m | \u001b[1mINFO    \u001b[0m | \u001b[36mloopbuilder.build\u001b[0m:\u001b[36mbuild\u001b[0m:\u001b[36m208\u001b[0m - \u001b[1mTrial model 9 for segment loop_2 failed filter <function <lambda> at 0x0000025347667D90>\u001b[0m\n",
      "\u001b[32m2025-05-22 20:01:09.587\u001b[0m | \u001b[1mINFO    \u001b[0m | \u001b[36mloopbuilder.build\u001b[0m:\u001b[36mbuild\u001b[0m:\u001b[36m204\u001b[0m - \u001b[1mScored trial model 10 for segment loop_2: {'ramachandran_outliers': 0.8, 'rotamer_outliers': 0.7143, 'cbeta_deviations': 7.0, 'clashscore': 0.0, 'rms_bonds': 0.0513, 'rms_angles': 21.82, 'molprobity_score': 3.06}\u001b[0m\n",
      "\u001b[32m2025-05-22 20:01:09.608\u001b[0m | \u001b[1mINFO    \u001b[0m | \u001b[36mloopbuilder.build\u001b[0m:\u001b[36mbuild\u001b[0m:\u001b[36m208\u001b[0m - \u001b[1mTrial model 10 for segment loop_2 failed filter <function <lambda> at 0x0000025347667D90>\u001b[0m\n",
      "\u001b[32m2025-05-22 20:02:04.960\u001b[0m | \u001b[1mINFO    \u001b[0m | \u001b[36mloopbuilder.build\u001b[0m:\u001b[36mbuild\u001b[0m:\u001b[36m204\u001b[0m - \u001b[1mScored trial model 11 for segment loop_2: {'ramachandran_outliers': 0.8, 'rotamer_outliers': 1.0, 'cbeta_deviations': 7.0, 'clashscore': 0.0, 'rms_bonds': 0.0497, 'rms_angles': 20.62, 'molprobity_score': 3.17}\u001b[0m\n",
      "\u001b[32m2025-05-22 20:02:04.964\u001b[0m | \u001b[1mINFO    \u001b[0m | \u001b[36mloopbuilder.build\u001b[0m:\u001b[36mbuild\u001b[0m:\u001b[36m208\u001b[0m - \u001b[1mTrial model 11 for segment loop_2 failed filter <function <lambda> at 0x0000025347667D90>\u001b[0m\n",
      "\u001b[32m2025-05-22 20:03:08.967\u001b[0m | \u001b[1mINFO    \u001b[0m | \u001b[36mloopbuilder.build\u001b[0m:\u001b[36mbuild\u001b[0m:\u001b[36m204\u001b[0m - \u001b[1mScored trial model 12 for segment loop_2: {'ramachandran_outliers': 0.8, 'rotamer_outliers': 0.5714, 'cbeta_deviations': 6.0, 'clashscore': 0.0, 'rms_bonds': 0.0398, 'rms_angles': 20.84, 'molprobity_score': 2.98}\u001b[0m\n",
      "\u001b[32m2025-05-22 20:03:08.974\u001b[0m | \u001b[1mINFO    \u001b[0m | \u001b[36mloopbuilder.build\u001b[0m:\u001b[36mbuild\u001b[0m:\u001b[36m208\u001b[0m - \u001b[1mTrial model 12 for segment loop_2 failed filter <function <lambda> at 0x0000025347667D90>\u001b[0m\n",
      "\u001b[32m2025-05-22 20:04:17.795\u001b[0m | \u001b[1mINFO    \u001b[0m | \u001b[36mloopbuilder.build\u001b[0m:\u001b[36mbuild\u001b[0m:\u001b[36m204\u001b[0m - \u001b[1mScored trial model 13 for segment loop_2: {'ramachandran_outliers': 1.0, 'rotamer_outliers': 0.7143, 'cbeta_deviations': 7.0, 'clashscore': 0.0, 'rms_bonds': 0.0421, 'rms_angles': 19.63, 'molprobity_score': 3.06}\u001b[0m\n",
      "\u001b[32m2025-05-22 20:04:17.804\u001b[0m | \u001b[1mINFO    \u001b[0m | \u001b[36mloopbuilder.build\u001b[0m:\u001b[36mbuild\u001b[0m:\u001b[36m208\u001b[0m - \u001b[1mTrial model 13 for segment loop_2 failed filter <function <lambda> at 0x0000025347667D90>\u001b[0m\n",
      "\u001b[32m2025-05-22 20:05:31.050\u001b[0m | \u001b[1mINFO    \u001b[0m | \u001b[36mloopbuilder.build\u001b[0m:\u001b[36mbuild\u001b[0m:\u001b[36m204\u001b[0m - \u001b[1mScored trial model 14 for segment loop_2: {'ramachandran_outliers': 0.8, 'rotamer_outliers': 0.7143, 'cbeta_deviations': 7.0, 'clashscore': 0.0, 'rms_bonds': 0.0468, 'rms_angles': 23.35, 'molprobity_score': 3.0}\u001b[0m\n",
      "\u001b[32m2025-05-22 20:05:31.054\u001b[0m | \u001b[1mINFO    \u001b[0m | \u001b[36mloopbuilder.build\u001b[0m:\u001b[36mbuild\u001b[0m:\u001b[36m208\u001b[0m - \u001b[1mTrial model 14 for segment loop_2 failed filter <function <lambda> at 0x0000025347667D90>\u001b[0m\n",
      "\u001b[32m2025-05-22 20:06:52.201\u001b[0m | \u001b[1mINFO    \u001b[0m | \u001b[36mloopbuilder.build\u001b[0m:\u001b[36mbuild\u001b[0m:\u001b[36m204\u001b[0m - \u001b[1mScored trial model 15 for segment loop_2: {'ramachandran_outliers': 1.0, 'rotamer_outliers': 0.5714, 'cbeta_deviations': 6.0, 'clashscore': 0.0, 'rms_bonds': 0.0499, 'rms_angles': 25.33, 'molprobity_score': 2.98}\u001b[0m\n",
      "\u001b[32m2025-05-22 20:06:52.208\u001b[0m | \u001b[1mINFO    \u001b[0m | \u001b[36mloopbuilder.build\u001b[0m:\u001b[36mbuild\u001b[0m:\u001b[36m208\u001b[0m - \u001b[1mTrial model 15 for segment loop_2 failed filter <function <lambda> at 0x0000025347667D90>\u001b[0m\n",
      "\u001b[32m2025-05-22 20:07:59.705\u001b[0m | \u001b[1mINFO    \u001b[0m | \u001b[36mloopbuilder.build\u001b[0m:\u001b[36mbuild\u001b[0m:\u001b[36m204\u001b[0m - \u001b[1mScored trial model 16 for segment loop_2: {'ramachandran_outliers': 0.6, 'rotamer_outliers': 1.0, 'cbeta_deviations': 7.0, 'clashscore': 0.0, 'rms_bonds': 0.051, 'rms_angles': 19.49, 'molprobity_score': 3.17}\u001b[0m\n",
      "\u001b[32m2025-05-22 20:07:59.714\u001b[0m | \u001b[1mINFO    \u001b[0m | \u001b[36mloopbuilder.build\u001b[0m:\u001b[36mbuild\u001b[0m:\u001b[36m208\u001b[0m - \u001b[1mTrial model 16 for segment loop_2 failed filter <function <lambda> at 0x0000025347667D90>\u001b[0m\n",
      "\u001b[32m2025-05-22 20:09:00.749\u001b[0m | \u001b[1mINFO    \u001b[0m | \u001b[36mloopbuilder.build\u001b[0m:\u001b[36mbuild\u001b[0m:\u001b[36m204\u001b[0m - \u001b[1mScored trial model 17 for segment loop_2: {'ramachandran_outliers': 1.0, 'rotamer_outliers': 0.8571, 'cbeta_deviations': 7.0, 'clashscore': 0.0, 'rms_bonds': 0.0439, 'rms_angles': 19.93, 'molprobity_score': 3.12}\u001b[0m\n",
      "\u001b[32m2025-05-22 20:09:00.759\u001b[0m | \u001b[1mINFO    \u001b[0m | \u001b[36mloopbuilder.build\u001b[0m:\u001b[36mbuild\u001b[0m:\u001b[36m208\u001b[0m - \u001b[1mTrial model 17 for segment loop_2 failed filter <function <lambda> at 0x0000025347667D90>\u001b[0m\n",
      "\u001b[32m2025-05-22 20:09:52.615\u001b[0m | \u001b[1mINFO    \u001b[0m | \u001b[36mloopbuilder.build\u001b[0m:\u001b[36mbuild\u001b[0m:\u001b[36m204\u001b[0m - \u001b[1mScored trial model 18 for segment loop_2: {'ramachandran_outliers': 1.0, 'rotamer_outliers': 0.7143, 'cbeta_deviations': 7.0, 'clashscore': 0.0, 'rms_bonds': 0.045, 'rms_angles': 23.15, 'molprobity_score': 3.06}\u001b[0m\n",
      "\u001b[32m2025-05-22 20:09:52.618\u001b[0m | \u001b[1mINFO    \u001b[0m | \u001b[36mloopbuilder.build\u001b[0m:\u001b[36mbuild\u001b[0m:\u001b[36m208\u001b[0m - \u001b[1mTrial model 18 for segment loop_2 failed filter <function <lambda> at 0x0000025347667D90>\u001b[0m\n",
      "\u001b[32m2025-05-22 20:10:49.059\u001b[0m | \u001b[1mINFO    \u001b[0m | \u001b[36mloopbuilder.build\u001b[0m:\u001b[36mbuild\u001b[0m:\u001b[36m204\u001b[0m - \u001b[1mScored trial model 19 for segment loop_2: {'ramachandran_outliers': 0.6, 'rotamer_outliers': 0.7143, 'cbeta_deviations': 7.0, 'clashscore': 0.0, 'rms_bonds': 0.0407, 'rms_angles': 22.98, 'molprobity_score': 3.0}\u001b[0m\n",
      "\u001b[32m2025-05-22 20:10:49.068\u001b[0m | \u001b[1mINFO    \u001b[0m | \u001b[36mloopbuilder.build\u001b[0m:\u001b[36mbuild\u001b[0m:\u001b[36m208\u001b[0m - \u001b[1mTrial model 19 for segment loop_2 failed filter <function <lambda> at 0x0000025347667D90>\u001b[0m\n",
      "\u001b[32m2025-05-22 20:11:51.353\u001b[0m | \u001b[1mINFO    \u001b[0m | \u001b[36mloopbuilder.build\u001b[0m:\u001b[36mbuild\u001b[0m:\u001b[36m204\u001b[0m - \u001b[1mScored trial model 20 for segment loop_2: {'ramachandran_outliers': 0.6, 'rotamer_outliers': 1.0, 'cbeta_deviations': 7.0, 'clashscore': 0.0, 'rms_bonds': 0.0581, 'rms_angles': 22.53, 'molprobity_score': 3.11}\u001b[0m\n",
      "\u001b[32m2025-05-22 20:11:51.356\u001b[0m | \u001b[1mINFO    \u001b[0m | \u001b[36mloopbuilder.build\u001b[0m:\u001b[36mbuild\u001b[0m:\u001b[36m208\u001b[0m - \u001b[1mTrial model 20 for segment loop_2 failed filter <function <lambda> at 0x0000025347667D90>\u001b[0m\n",
      "\u001b[32m2025-05-22 20:12:53.674\u001b[0m | \u001b[1mINFO    \u001b[0m | \u001b[36mloopbuilder.build\u001b[0m:\u001b[36mbuild\u001b[0m:\u001b[36m204\u001b[0m - \u001b[1mScored trial model 21 for segment loop_2: {'ramachandran_outliers': 0.6, 'rotamer_outliers': 0.5714, 'cbeta_deviations': 7.0, 'clashscore': 0.0, 'rms_bonds': 0.0539, 'rms_angles': 21.0, 'molprobity_score': 2.93}\u001b[0m\n",
      "\u001b[32m2025-05-22 20:12:53.685\u001b[0m | \u001b[1mINFO    \u001b[0m | \u001b[36mloopbuilder.build\u001b[0m:\u001b[36mbuild\u001b[0m:\u001b[36m208\u001b[0m - \u001b[1mTrial model 21 for segment loop_2 failed filter <function <lambda> at 0x0000025347667D90>\u001b[0m\n",
      "\u001b[32m2025-05-22 20:14:01.556\u001b[0m | \u001b[1mINFO    \u001b[0m | \u001b[36mloopbuilder.build\u001b[0m:\u001b[36mbuild\u001b[0m:\u001b[36m204\u001b[0m - \u001b[1mScored trial model 22 for segment loop_2: {'ramachandran_outliers': 0.6, 'rotamer_outliers': 0.8571, 'cbeta_deviations': 7.0, 'clashscore': 0.0, 'rms_bonds': 0.0464, 'rms_angles': 22.19, 'molprobity_score': 2.99}\u001b[0m\n",
      "\u001b[32m2025-05-22 20:14:01.582\u001b[0m | \u001b[1mINFO    \u001b[0m | \u001b[36mloopbuilder.build\u001b[0m:\u001b[36mbuild\u001b[0m:\u001b[36m208\u001b[0m - \u001b[1mTrial model 22 for segment loop_2 failed filter <function <lambda> at 0x0000025347667D90>\u001b[0m\n",
      "\u001b[32m2025-05-22 20:15:09.710\u001b[0m | \u001b[1mINFO    \u001b[0m | \u001b[36mloopbuilder.build\u001b[0m:\u001b[36mbuild\u001b[0m:\u001b[36m204\u001b[0m - \u001b[1mScored trial model 23 for segment loop_2: {'ramachandran_outliers': 0.4, 'rotamer_outliers': 0.8571, 'cbeta_deviations': 7.0, 'clashscore': 0.0, 'rms_bonds': 0.0615, 'rms_angles': 24.86, 'molprobity_score': 2.88}\u001b[0m\n",
      "\u001b[32m2025-05-22 20:15:09.717\u001b[0m | \u001b[1mINFO    \u001b[0m | \u001b[36mloopbuilder.build\u001b[0m:\u001b[36mbuild\u001b[0m:\u001b[36m208\u001b[0m - \u001b[1mTrial model 23 for segment loop_2 failed filter <function <lambda> at 0x0000025347667D90>\u001b[0m\n",
      "\u001b[32m2025-05-22 20:16:08.284\u001b[0m | \u001b[1mINFO    \u001b[0m | \u001b[36mloopbuilder.build\u001b[0m:\u001b[36mbuild\u001b[0m:\u001b[36m204\u001b[0m - \u001b[1mScored trial model 24 for segment loop_2: {'ramachandran_outliers': 0.6, 'rotamer_outliers': 0.5714, 'cbeta_deviations': 7.0, 'clashscore': 0.0, 'rms_bonds': 0.0442, 'rms_angles': 20.14, 'molprobity_score': 2.93}\u001b[0m\n",
      "\u001b[32m2025-05-22 20:16:08.289\u001b[0m | \u001b[1mINFO    \u001b[0m | \u001b[36mloopbuilder.build\u001b[0m:\u001b[36mbuild\u001b[0m:\u001b[36m208\u001b[0m - \u001b[1mTrial model 24 for segment loop_2 failed filter <function <lambda> at 0x0000025347667D90>\u001b[0m\n",
      "\u001b[32m2025-05-22 20:16:52.880\u001b[0m | \u001b[1mINFO    \u001b[0m | \u001b[36mloopbuilder.build\u001b[0m:\u001b[36mbuild\u001b[0m:\u001b[36m204\u001b[0m - \u001b[1mScored trial model 25 for segment loop_2: {'ramachandran_outliers': 0.8, 'rotamer_outliers': 0.8571, 'cbeta_deviations': 7.0, 'clashscore': 0.0, 'rms_bonds': 0.0375, 'rms_angles': 16.92, 'molprobity_score': 3.06}\u001b[0m\n",
      "\u001b[32m2025-05-22 20:16:52.886\u001b[0m | \u001b[1mINFO    \u001b[0m | \u001b[36mloopbuilder.build\u001b[0m:\u001b[36mbuild\u001b[0m:\u001b[36m208\u001b[0m - \u001b[1mTrial model 25 for segment loop_2 failed filter <function <lambda> at 0x0000025347667D90>\u001b[0m\n",
      "\u001b[32m2025-05-22 20:17:51.189\u001b[0m | \u001b[1mINFO    \u001b[0m | \u001b[36mloopbuilder.build\u001b[0m:\u001b[36mbuild\u001b[0m:\u001b[36m204\u001b[0m - \u001b[1mScored trial model 26 for segment loop_2: {'ramachandran_outliers': 0.8, 'rotamer_outliers': 0.7143, 'cbeta_deviations': 7.0, 'clashscore': 0.0, 'rms_bonds': 0.0581, 'rms_angles': 23.32, 'molprobity_score': 3.06}\u001b[0m\n",
      "\u001b[32m2025-05-22 20:17:51.198\u001b[0m | \u001b[1mINFO    \u001b[0m | \u001b[36mloopbuilder.build\u001b[0m:\u001b[36mbuild\u001b[0m:\u001b[36m208\u001b[0m - \u001b[1mTrial model 26 for segment loop_2 failed filter <function <lambda> at 0x0000025347667D90>\u001b[0m\n",
      "\u001b[32m2025-05-22 20:18:45.484\u001b[0m | \u001b[1mINFO    \u001b[0m | \u001b[36mloopbuilder.build\u001b[0m:\u001b[36mbuild\u001b[0m:\u001b[36m204\u001b[0m - \u001b[1mScored trial model 27 for segment loop_2: {'ramachandran_outliers': 0.8, 'rotamer_outliers': 0.4286, 'cbeta_deviations': 7.0, 'clashscore': 0.0, 'rms_bonds': 0.0383, 'rms_angles': 20.94, 'molprobity_score': 2.89}\u001b[0m\n",
      "\u001b[32m2025-05-22 20:18:45.488\u001b[0m | \u001b[1mINFO    \u001b[0m | \u001b[36mloopbuilder.build\u001b[0m:\u001b[36mbuild\u001b[0m:\u001b[36m208\u001b[0m - \u001b[1mTrial model 27 for segment loop_2 failed filter <function <lambda> at 0x0000025347667D90>\u001b[0m\n",
      "\u001b[32m2025-05-22 20:19:34.916\u001b[0m | \u001b[1mINFO    \u001b[0m | \u001b[36mloopbuilder.build\u001b[0m:\u001b[36mbuild\u001b[0m:\u001b[36m204\u001b[0m - \u001b[1mScored trial model 28 for segment loop_2: {'ramachandran_outliers': 0.4, 'rotamer_outliers': 0.8571, 'cbeta_deviations': 7.0, 'clashscore': 0.0, 'rms_bonds': 0.0558, 'rms_angles': 20.62, 'molprobity_score': 3.06}\u001b[0m\n",
      "\u001b[32m2025-05-22 20:19:34.921\u001b[0m | \u001b[1mINFO    \u001b[0m | \u001b[36mloopbuilder.build\u001b[0m:\u001b[36mbuild\u001b[0m:\u001b[36m208\u001b[0m - \u001b[1mTrial model 28 for segment loop_2 failed filter <function <lambda> at 0x0000025347667D90>\u001b[0m\n",
      "\u001b[32m2025-05-22 20:20:38.045\u001b[0m | \u001b[1mINFO    \u001b[0m | \u001b[36mloopbuilder.build\u001b[0m:\u001b[36mbuild\u001b[0m:\u001b[36m204\u001b[0m - \u001b[1mScored trial model 29 for segment loop_2: {'ramachandran_outliers': 0.8, 'rotamer_outliers': 0.8571, 'cbeta_deviations': 7.0, 'clashscore': 0.0, 'rms_bonds': 0.0411, 'rms_angles': 22.21, 'molprobity_score': 3.12}\u001b[0m\n",
      "\u001b[32m2025-05-22 20:20:38.052\u001b[0m | \u001b[1mINFO    \u001b[0m | \u001b[36mloopbuilder.build\u001b[0m:\u001b[36mbuild\u001b[0m:\u001b[36m208\u001b[0m - \u001b[1mTrial model 29 for segment loop_2 failed filter <function <lambda> at 0x0000025347667D90>\u001b[0m\n",
      "\u001b[32m2025-05-22 20:21:32.551\u001b[0m | \u001b[1mINFO    \u001b[0m | \u001b[36mloopbuilder.build\u001b[0m:\u001b[36mbuild\u001b[0m:\u001b[36m204\u001b[0m - \u001b[1mScored trial model 30 for segment loop_2: {'ramachandran_outliers': 0.6, 'rotamer_outliers': 0.4286, 'cbeta_deviations': 7.0, 'clashscore': 0.0, 'rms_bonds': 0.0677, 'rms_angles': 20.59, 'molprobity_score': 2.89}\u001b[0m\n",
      "\u001b[32m2025-05-22 20:21:32.554\u001b[0m | \u001b[1mINFO    \u001b[0m | \u001b[36mloopbuilder.build\u001b[0m:\u001b[36mbuild\u001b[0m:\u001b[36m208\u001b[0m - \u001b[1mTrial model 30 for segment loop_2 failed filter <function <lambda> at 0x0000025347667D90>\u001b[0m\n",
      "\u001b[32m2025-05-22 20:21:32.557\u001b[0m | \u001b[33m\u001b[1mWARNING \u001b[0m | \u001b[36mloopbuilder.build\u001b[0m:\u001b[36mbuild\u001b[0m:\u001b[36m184\u001b[0m - \u001b[33m\u001b[1mReached the maximum number of tries (success_rate=0.00%)\u001b[0m\n",
      "\u001b[32m2025-05-22 20:21:32.569\u001b[0m | \u001b[1mINFO    \u001b[0m | \u001b[36mloopbuilder.build\u001b[0m:\u001b[36mbuild\u001b[0m:\u001b[36m174\u001b[0m - \u001b[1mBuilding models for segment loop_3\u001b[0m\n",
      "\u001b[32m2025-05-22 20:22:17.009\u001b[0m | \u001b[1mINFO    \u001b[0m | \u001b[36mloopbuilder.build\u001b[0m:\u001b[36mbuild\u001b[0m:\u001b[36m204\u001b[0m - \u001b[1mScored trial model 1 for segment loop_3: {'ramachandran_outliers': 0.75, 'rotamer_outliers': 0.4, 'cbeta_deviations': 5.0, 'clashscore': 0.0, 'rms_bonds': 0.0472, 'rms_angles': 27.11, 'molprobity_score': 2.79}\u001b[0m\n",
      "\u001b[32m2025-05-22 20:22:17.012\u001b[0m | \u001b[1mINFO    \u001b[0m | \u001b[36mloopbuilder.build\u001b[0m:\u001b[36mbuild\u001b[0m:\u001b[36m208\u001b[0m - \u001b[1mTrial model 1 for segment loop_3 failed filter <function <lambda> at 0x0000025347667D90>\u001b[0m\n",
      "\u001b[32m2025-05-22 20:23:10.112\u001b[0m | \u001b[1mINFO    \u001b[0m | \u001b[36mloopbuilder.build\u001b[0m:\u001b[36mbuild\u001b[0m:\u001b[36m204\u001b[0m - \u001b[1mScored trial model 2 for segment loop_3: {'ramachandran_outliers': 1.0, 'rotamer_outliers': 0.6, 'cbeta_deviations': 5.0, 'clashscore': 0.0, 'rms_bonds': 0.0532, 'rms_angles': 20.33, 'molprobity_score': 3.0}\u001b[0m\n",
      "\u001b[32m2025-05-22 20:23:10.120\u001b[0m | \u001b[1mINFO    \u001b[0m | \u001b[36mloopbuilder.build\u001b[0m:\u001b[36mbuild\u001b[0m:\u001b[36m208\u001b[0m - \u001b[1mTrial model 2 for segment loop_3 failed filter <function <lambda> at 0x0000025347667D90>\u001b[0m\n",
      "\u001b[32m2025-05-22 20:23:52.294\u001b[0m | \u001b[1mINFO    \u001b[0m | \u001b[36mloopbuilder.build\u001b[0m:\u001b[36mbuild\u001b[0m:\u001b[36m204\u001b[0m - \u001b[1mScored trial model 3 for segment loop_3: {'ramachandran_outliers': 0.75, 'rotamer_outliers': 0.4, 'cbeta_deviations': 5.0, 'clashscore': 0.0, 'rms_bonds': 0.0392, 'rms_angles': 25.86, 'molprobity_score': 2.87}\u001b[0m\n",
      "\u001b[32m2025-05-22 20:23:52.298\u001b[0m | \u001b[1mINFO    \u001b[0m | \u001b[36mloopbuilder.build\u001b[0m:\u001b[36mbuild\u001b[0m:\u001b[36m208\u001b[0m - \u001b[1mTrial model 3 for segment loop_3 failed filter <function <lambda> at 0x0000025347667D90>\u001b[0m\n",
      "\u001b[32m2025-05-22 20:24:36.935\u001b[0m | \u001b[1mINFO    \u001b[0m | \u001b[36mloopbuilder.build\u001b[0m:\u001b[36mbuild\u001b[0m:\u001b[36m204\u001b[0m - \u001b[1mScored trial model 4 for segment loop_3: {'ramachandran_outliers': 0.25, 'rotamer_outliers': 0.6, 'cbeta_deviations': 5.0, 'clashscore': 0.0, 'rms_bonds': 0.0451, 'rms_angles': 22.57, 'molprobity_score': 2.65}\u001b[0m\n",
      "\u001b[32m2025-05-22 20:24:36.942\u001b[0m | \u001b[32m\u001b[1mSUCCESS \u001b[0m | \u001b[36mloopbuilder.build\u001b[0m:\u001b[36mbuild\u001b[0m:\u001b[36m219\u001b[0m - \u001b[32m\u001b[1mBuilt model 1 for segment loop_3\u001b[0m\n",
      "\u001b[32m2025-05-22 20:25:27.135\u001b[0m | \u001b[1mINFO    \u001b[0m | \u001b[36mloopbuilder.build\u001b[0m:\u001b[36mbuild\u001b[0m:\u001b[36m204\u001b[0m - \u001b[1mScored trial model 5 for segment loop_3: {'ramachandran_outliers': 0.5, 'rotamer_outliers': 0.2, 'cbeta_deviations': 5.0, 'clashscore': 0.0, 'rms_bonds': 0.0429, 'rms_angles': 23.97, 'molprobity_score': 2.46}\u001b[0m\n",
      "\u001b[32m2025-05-22 20:25:27.138\u001b[0m | \u001b[1mINFO    \u001b[0m | \u001b[36mloopbuilder.build\u001b[0m:\u001b[36mbuild\u001b[0m:\u001b[36m208\u001b[0m - \u001b[1mTrial model 5 for segment loop_3 failed filter <function <lambda> at 0x0000025347667D90>\u001b[0m\n",
      "\u001b[32m2025-05-22 20:26:08.939\u001b[0m | \u001b[1mINFO    \u001b[0m | \u001b[36mloopbuilder.build\u001b[0m:\u001b[36mbuild\u001b[0m:\u001b[36m204\u001b[0m - \u001b[1mScored trial model 6 for segment loop_3: {'ramachandran_outliers': 1.0, 'rotamer_outliers': 0.8, 'cbeta_deviations': 5.0, 'clashscore': 0.0, 'rms_bonds': 0.0517, 'rms_angles': 25.59, 'molprobity_score': 3.09}\u001b[0m\n",
      "\u001b[32m2025-05-22 20:26:08.948\u001b[0m | \u001b[1mINFO    \u001b[0m | \u001b[36mloopbuilder.build\u001b[0m:\u001b[36mbuild\u001b[0m:\u001b[36m208\u001b[0m - \u001b[1mTrial model 6 for segment loop_3 failed filter <function <lambda> at 0x0000025347667D90>\u001b[0m\n",
      "\u001b[32m2025-05-22 20:26:57.386\u001b[0m | \u001b[1mINFO    \u001b[0m | \u001b[36mloopbuilder.build\u001b[0m:\u001b[36mbuild\u001b[0m:\u001b[36m204\u001b[0m - \u001b[1mScored trial model 7 for segment loop_3: {'ramachandran_outliers': 0.5, 'rotamer_outliers': 0.8, 'cbeta_deviations': 5.0, 'clashscore': 0.0, 'rms_bonds': 0.0555, 'rms_angles': 22.65, 'molprobity_score': 2.92}\u001b[0m\n",
      "\u001b[32m2025-05-22 20:26:57.390\u001b[0m | \u001b[1mINFO    \u001b[0m | \u001b[36mloopbuilder.build\u001b[0m:\u001b[36mbuild\u001b[0m:\u001b[36m208\u001b[0m - \u001b[1mTrial model 7 for segment loop_3 failed filter <function <lambda> at 0x0000025347667D90>\u001b[0m\n",
      "\u001b[32m2025-05-22 20:27:53.335\u001b[0m | \u001b[1mINFO    \u001b[0m | \u001b[36mloopbuilder.build\u001b[0m:\u001b[36mbuild\u001b[0m:\u001b[36m204\u001b[0m - \u001b[1mScored trial model 8 for segment loop_3: {'ramachandran_outliers': 0.5, 'rotamer_outliers': 0.4, 'cbeta_deviations': 5.0, 'clashscore': 0.0, 'rms_bonds': 0.0875, 'rms_angles': 23.89, 'molprobity_score': 2.79}\u001b[0m\n",
      "\u001b[32m2025-05-22 20:27:53.342\u001b[0m | \u001b[1mINFO    \u001b[0m | \u001b[36mloopbuilder.build\u001b[0m:\u001b[36mbuild\u001b[0m:\u001b[36m208\u001b[0m - \u001b[1mTrial model 8 for segment loop_3 failed filter <function <lambda> at 0x0000025347667D90>\u001b[0m\n",
      "\u001b[32m2025-05-22 20:29:08.029\u001b[0m | \u001b[1mINFO    \u001b[0m | \u001b[36mloopbuilder.build\u001b[0m:\u001b[36mbuild\u001b[0m:\u001b[36m204\u001b[0m - \u001b[1mScored trial model 9 for segment loop_3: {'ramachandran_outliers': 0.0, 'rotamer_outliers': 0.6, 'cbeta_deviations': 5.0, 'clashscore': 0.0, 'rms_bonds': 0.0599, 'rms_angles': 24.18, 'molprobity_score': 1.85}\u001b[0m\n",
      "\u001b[32m2025-05-22 20:29:08.050\u001b[0m | \u001b[32m\u001b[1mSUCCESS \u001b[0m | \u001b[36mloopbuilder.build\u001b[0m:\u001b[36mbuild\u001b[0m:\u001b[36m219\u001b[0m - \u001b[32m\u001b[1mBuilt model 2 for segment loop_3\u001b[0m\n",
      "\u001b[32m2025-05-22 20:30:24.783\u001b[0m | \u001b[1mINFO    \u001b[0m | \u001b[36mloopbuilder.build\u001b[0m:\u001b[36mbuild\u001b[0m:\u001b[36m204\u001b[0m - \u001b[1mScored trial model 10 for segment loop_3: {'ramachandran_outliers': 0.5, 'rotamer_outliers': 0.6, 'cbeta_deviations': 5.0, 'clashscore': 0.0, 'rms_bonds': 0.0408, 'rms_angles': 16.05, 'molprobity_score': 2.82}\u001b[0m\n",
      "\u001b[32m2025-05-22 20:30:24.818\u001b[0m | \u001b[1mINFO    \u001b[0m | \u001b[36mloopbuilder.build\u001b[0m:\u001b[36mbuild\u001b[0m:\u001b[36m208\u001b[0m - \u001b[1mTrial model 10 for segment loop_3 failed filter <function <lambda> at 0x0000025347667D90>\u001b[0m\n",
      "\u001b[32m2025-05-22 20:31:13.395\u001b[0m | \u001b[1mINFO    \u001b[0m | \u001b[36mloopbuilder.build\u001b[0m:\u001b[36mbuild\u001b[0m:\u001b[36m204\u001b[0m - \u001b[1mScored trial model 11 for segment loop_3: {'ramachandran_outliers': 0.25, 'rotamer_outliers': 1.0, 'cbeta_deviations': 5.0, 'clashscore': 0.0, 'rms_bonds': 0.0407, 'rms_angles': 22.7, 'molprobity_score': 2.81}\u001b[0m\n",
      "\u001b[32m2025-05-22 20:31:13.408\u001b[0m | \u001b[32m\u001b[1mSUCCESS \u001b[0m | \u001b[36mloopbuilder.build\u001b[0m:\u001b[36mbuild\u001b[0m:\u001b[36m219\u001b[0m - \u001b[32m\u001b[1mBuilt model 3 for segment loop_3\u001b[0m\n",
      "\u001b[32m2025-05-22 20:31:13.411\u001b[0m | \u001b[32m\u001b[1mSUCCESS \u001b[0m | \u001b[36mloopbuilder.build\u001b[0m:\u001b[36mbuild\u001b[0m:\u001b[36m180\u001b[0m - \u001b[32m\u001b[1mReached the target number of models (success_rate=27.27%)\u001b[0m\n",
      "\u001b[32m2025-05-22 20:31:13.432\u001b[0m | \u001b[1mINFO    \u001b[0m | \u001b[36mloopbuilder.build\u001b[0m:\u001b[36mbuild\u001b[0m:\u001b[36m174\u001b[0m - \u001b[1mBuilding models for segment loop_4\u001b[0m\n",
      "\u001b[32m2025-05-22 20:32:00.654\u001b[0m | \u001b[1mINFO    \u001b[0m | \u001b[36mloopbuilder.build\u001b[0m:\u001b[36mbuild\u001b[0m:\u001b[36m204\u001b[0m - \u001b[1mScored trial model 1 for segment loop_4: {'ramachandran_outliers': 0.3333, 'rotamer_outliers': 1.0, 'cbeta_deviations': 5.0, 'clashscore': 0.0, 'rms_bonds': 0.0639, 'rms_angles': 32.01, 'molprobity_score': 3.17}\u001b[0m\n",
      "\u001b[32m2025-05-22 20:32:00.662\u001b[0m | \u001b[1mINFO    \u001b[0m | \u001b[36mloopbuilder.build\u001b[0m:\u001b[36mbuild\u001b[0m:\u001b[36m208\u001b[0m - \u001b[1mTrial model 1 for segment loop_4 failed filter <function <lambda> at 0x0000025347667D90>\u001b[0m\n",
      "\u001b[32m2025-05-22 20:32:41.282\u001b[0m | \u001b[1mINFO    \u001b[0m | \u001b[36mloopbuilder.build\u001b[0m:\u001b[36mbuild\u001b[0m:\u001b[36m204\u001b[0m - \u001b[1mScored trial model 2 for segment loop_4: {'ramachandran_outliers': 0.6667, 'rotamer_outliers': 0.8, 'cbeta_deviations': 5.0, 'clashscore': 0.0, 'rms_bonds': 0.0669, 'rms_angles': 31.73, 'molprobity_score': 3.09}\u001b[0m\n",
      "\u001b[32m2025-05-22 20:32:41.291\u001b[0m | \u001b[1mINFO    \u001b[0m | \u001b[36mloopbuilder.build\u001b[0m:\u001b[36mbuild\u001b[0m:\u001b[36m208\u001b[0m - \u001b[1mTrial model 2 for segment loop_4 failed filter <function <lambda> at 0x0000025347667D90>\u001b[0m\n",
      "\u001b[32m2025-05-22 20:33:28.598\u001b[0m | \u001b[1mINFO    \u001b[0m | \u001b[36mloopbuilder.build\u001b[0m:\u001b[36mbuild\u001b[0m:\u001b[36m204\u001b[0m - \u001b[1mScored trial model 3 for segment loop_4: {'ramachandran_outliers': 0.6667, 'rotamer_outliers': 0.6, 'cbeta_deviations': 5.0, 'clashscore': 0.0, 'rms_bonds': 0.0462, 'rms_angles': 33.63, 'molprobity_score': 2.9}\u001b[0m\n",
      "\u001b[32m2025-05-22 20:33:28.613\u001b[0m | \u001b[1mINFO    \u001b[0m | \u001b[36mloopbuilder.build\u001b[0m:\u001b[36mbuild\u001b[0m:\u001b[36m208\u001b[0m - \u001b[1mTrial model 3 for segment loop_4 failed filter <function <lambda> at 0x0000025347667D90>\u001b[0m\n",
      "\u001b[32m2025-05-22 20:34:09.837\u001b[0m | \u001b[1mINFO    \u001b[0m | \u001b[36mloopbuilder.build\u001b[0m:\u001b[36mbuild\u001b[0m:\u001b[36m204\u001b[0m - \u001b[1mScored trial model 4 for segment loop_4: {'ramachandran_outliers': 0.3333, 'rotamer_outliers': 0.8, 'cbeta_deviations': 5.0, 'clashscore': 0.0, 'rms_bonds': 0.0562, 'rms_angles': 31.28, 'molprobity_score': 2.99}\u001b[0m\n",
      "\u001b[32m2025-05-22 20:34:09.843\u001b[0m | \u001b[1mINFO    \u001b[0m | \u001b[36mloopbuilder.build\u001b[0m:\u001b[36mbuild\u001b[0m:\u001b[36m208\u001b[0m - \u001b[1mTrial model 4 for segment loop_4 failed filter <function <lambda> at 0x0000025347667D90>\u001b[0m\n",
      "\u001b[32m2025-05-22 20:34:48.801\u001b[0m | \u001b[1mINFO    \u001b[0m | \u001b[36mloopbuilder.build\u001b[0m:\u001b[36mbuild\u001b[0m:\u001b[36m204\u001b[0m - \u001b[1mScored trial model 5 for segment loop_4: {'ramachandran_outliers': 1.0, 'rotamer_outliers': 0.6, 'cbeta_deviations': 5.0, 'clashscore': 0.0, 'rms_bonds': 0.0638, 'rms_angles': 31.65, 'molprobity_score': 3.0}\u001b[0m\n",
      "\u001b[32m2025-05-22 20:34:48.803\u001b[0m | \u001b[1mINFO    \u001b[0m | \u001b[36mloopbuilder.build\u001b[0m:\u001b[36mbuild\u001b[0m:\u001b[36m208\u001b[0m - \u001b[1mTrial model 5 for segment loop_4 failed filter <function <lambda> at 0x0000025347667D90>\u001b[0m\n",
      "\u001b[32m2025-05-22 20:35:33.169\u001b[0m | \u001b[1mINFO    \u001b[0m | \u001b[36mloopbuilder.build\u001b[0m:\u001b[36mbuild\u001b[0m:\u001b[36m204\u001b[0m - \u001b[1mScored trial model 6 for segment loop_4: {'ramachandran_outliers': 0.3333, 'rotamer_outliers': 0.6, 'cbeta_deviations': 5.0, 'clashscore': 0.0, 'rms_bonds': 0.0636, 'rms_angles': 28.48, 'molprobity_score': 3.0}\u001b[0m\n",
      "\u001b[32m2025-05-22 20:35:33.173\u001b[0m | \u001b[1mINFO    \u001b[0m | \u001b[36mloopbuilder.build\u001b[0m:\u001b[36mbuild\u001b[0m:\u001b[36m208\u001b[0m - \u001b[1mTrial model 6 for segment loop_4 failed filter <function <lambda> at 0x0000025347667D90>\u001b[0m\n",
      "\u001b[32m2025-05-22 20:36:14.853\u001b[0m | \u001b[1mINFO    \u001b[0m | \u001b[36mloopbuilder.build\u001b[0m:\u001b[36mbuild\u001b[0m:\u001b[36m204\u001b[0m - \u001b[1mScored trial model 7 for segment loop_4: {'ramachandran_outliers': 0.6667, 'rotamer_outliers': 0.8, 'cbeta_deviations': 5.0, 'clashscore': 0.0, 'rms_bonds': 0.0465, 'rms_angles': 30.81, 'molprobity_score': 3.09}\u001b[0m\n",
      "\u001b[32m2025-05-22 20:36:14.857\u001b[0m | \u001b[1mINFO    \u001b[0m | \u001b[36mloopbuilder.build\u001b[0m:\u001b[36mbuild\u001b[0m:\u001b[36m208\u001b[0m - \u001b[1mTrial model 7 for segment loop_4 failed filter <function <lambda> at 0x0000025347667D90>\u001b[0m\n",
      "\u001b[32m2025-05-22 20:36:55.630\u001b[0m | \u001b[1mINFO    \u001b[0m | \u001b[36mloopbuilder.build\u001b[0m:\u001b[36mbuild\u001b[0m:\u001b[36m204\u001b[0m - \u001b[1mScored trial model 8 for segment loop_4: {'ramachandran_outliers': 0.6667, 'rotamer_outliers': 0.4, 'cbeta_deviations': 5.0, 'clashscore': 0.0, 'rms_bonds': 0.0471, 'rms_angles': 27.47, 'molprobity_score': 2.87}\u001b[0m\n",
      "\u001b[32m2025-05-22 20:36:55.638\u001b[0m | \u001b[1mINFO    \u001b[0m | \u001b[36mloopbuilder.build\u001b[0m:\u001b[36mbuild\u001b[0m:\u001b[36m208\u001b[0m - \u001b[1mTrial model 8 for segment loop_4 failed filter <function <lambda> at 0x0000025347667D90>\u001b[0m\n",
      "\u001b[32m2025-05-22 20:37:34.002\u001b[0m | \u001b[1mINFO    \u001b[0m | \u001b[36mloopbuilder.build\u001b[0m:\u001b[36mbuild\u001b[0m:\u001b[36m204\u001b[0m - \u001b[1mScored trial model 9 for segment loop_4: {'ramachandran_outliers': 0.3333, 'rotamer_outliers': 0.8, 'cbeta_deviations': 5.0, 'clashscore': 0.0, 'rms_bonds': 0.0499, 'rms_angles': 29.95, 'molprobity_score': 2.99}\u001b[0m\n",
      "\u001b[32m2025-05-22 20:37:34.007\u001b[0m | \u001b[1mINFO    \u001b[0m | \u001b[36mloopbuilder.build\u001b[0m:\u001b[36mbuild\u001b[0m:\u001b[36m208\u001b[0m - \u001b[1mTrial model 9 for segment loop_4 failed filter <function <lambda> at 0x0000025347667D90>\u001b[0m\n",
      "\u001b[32m2025-05-22 20:38:09.331\u001b[0m | \u001b[1mINFO    \u001b[0m | \u001b[36mloopbuilder.build\u001b[0m:\u001b[36mbuild\u001b[0m:\u001b[36m204\u001b[0m - \u001b[1mScored trial model 10 for segment loop_4: {'ramachandran_outliers': 0.3333, 'rotamer_outliers': 0.6, 'cbeta_deviations': 5.0, 'clashscore': 0.0, 'rms_bonds': 0.0539, 'rms_angles': 32.01, 'molprobity_score': 2.9}\u001b[0m\n",
      "\u001b[32m2025-05-22 20:38:09.333\u001b[0m | \u001b[1mINFO    \u001b[0m | \u001b[36mloopbuilder.build\u001b[0m:\u001b[36mbuild\u001b[0m:\u001b[36m208\u001b[0m - \u001b[1mTrial model 10 for segment loop_4 failed filter <function <lambda> at 0x0000025347667D90>\u001b[0m\n",
      "\u001b[32m2025-05-22 20:38:42.292\u001b[0m | \u001b[1mINFO    \u001b[0m | \u001b[36mloopbuilder.build\u001b[0m:\u001b[36mbuild\u001b[0m:\u001b[36m204\u001b[0m - \u001b[1mScored trial model 11 for segment loop_4: {'ramachandran_outliers': 0.6667, 'rotamer_outliers': 0.6, 'cbeta_deviations': 5.0, 'clashscore': 0.0, 'rms_bonds': 0.0533, 'rms_angles': 29.65, 'molprobity_score': 2.9}\u001b[0m\n",
      "\u001b[32m2025-05-22 20:38:42.295\u001b[0m | \u001b[1mINFO    \u001b[0m | \u001b[36mloopbuilder.build\u001b[0m:\u001b[36mbuild\u001b[0m:\u001b[36m208\u001b[0m - \u001b[1mTrial model 11 for segment loop_4 failed filter <function <lambda> at 0x0000025347667D90>\u001b[0m\n",
      "\u001b[32m2025-05-22 20:39:14.942\u001b[0m | \u001b[1mINFO    \u001b[0m | \u001b[36mloopbuilder.build\u001b[0m:\u001b[36mbuild\u001b[0m:\u001b[36m204\u001b[0m - \u001b[1mScored trial model 12 for segment loop_4: {'ramachandran_outliers': 0.3333, 'rotamer_outliers': 0.4, 'cbeta_deviations': 5.0, 'clashscore': 0.0, 'rms_bonds': 0.0586, 'rms_angles': 31.94, 'molprobity_score': 2.76}\u001b[0m\n",
      "\u001b[32m2025-05-22 20:39:14.944\u001b[0m | \u001b[1mINFO    \u001b[0m | \u001b[36mloopbuilder.build\u001b[0m:\u001b[36mbuild\u001b[0m:\u001b[36m208\u001b[0m - \u001b[1mTrial model 12 for segment loop_4 failed filter <function <lambda> at 0x0000025347667D90>\u001b[0m\n",
      "\u001b[32m2025-05-22 20:39:47.530\u001b[0m | \u001b[1mINFO    \u001b[0m | \u001b[36mloopbuilder.build\u001b[0m:\u001b[36mbuild\u001b[0m:\u001b[36m204\u001b[0m - \u001b[1mScored trial model 13 for segment loop_4: {'ramachandran_outliers': 0.3333, 'rotamer_outliers': 0.8, 'cbeta_deviations': 3.0, 'clashscore': 0.0, 'rms_bonds': 0.0593, 'rms_angles': 25.77, 'molprobity_score': 3.09}\u001b[0m\n",
      "\u001b[32m2025-05-22 20:39:47.535\u001b[0m | \u001b[1mINFO    \u001b[0m | \u001b[36mloopbuilder.build\u001b[0m:\u001b[36mbuild\u001b[0m:\u001b[36m208\u001b[0m - \u001b[1mTrial model 13 for segment loop_4 failed filter <function <lambda> at 0x0000025347667D90>\u001b[0m\n",
      "\u001b[32m2025-05-22 20:40:29.607\u001b[0m | \u001b[1mINFO    \u001b[0m | \u001b[36mloopbuilder.build\u001b[0m:\u001b[36mbuild\u001b[0m:\u001b[36m204\u001b[0m - \u001b[1mScored trial model 14 for segment loop_4: {'ramachandran_outliers': 0.6667, 'rotamer_outliers': 0.8, 'cbeta_deviations': 5.0, 'clashscore': 0.0, 'rms_bonds': 0.0581, 'rms_angles': 31.85, 'molprobity_score': 3.09}\u001b[0m\n",
      "\u001b[32m2025-05-22 20:40:29.612\u001b[0m | \u001b[1mINFO    \u001b[0m | \u001b[36mloopbuilder.build\u001b[0m:\u001b[36mbuild\u001b[0m:\u001b[36m208\u001b[0m - \u001b[1mTrial model 14 for segment loop_4 failed filter <function <lambda> at 0x0000025347667D90>\u001b[0m\n",
      "\u001b[32m2025-05-22 20:41:11.279\u001b[0m | \u001b[1mINFO    \u001b[0m | \u001b[36mloopbuilder.build\u001b[0m:\u001b[36mbuild\u001b[0m:\u001b[36m204\u001b[0m - \u001b[1mScored trial model 15 for segment loop_4: {'ramachandran_outliers': 0.3333, 'rotamer_outliers': 0.4, 'cbeta_deviations': 5.0, 'clashscore': 0.0, 'rms_bonds': 0.0664, 'rms_angles': 28.83, 'molprobity_score': 2.87}\u001b[0m\n",
      "\u001b[32m2025-05-22 20:41:11.281\u001b[0m | \u001b[1mINFO    \u001b[0m | \u001b[36mloopbuilder.build\u001b[0m:\u001b[36mbuild\u001b[0m:\u001b[36m208\u001b[0m - \u001b[1mTrial model 15 for segment loop_4 failed filter <function <lambda> at 0x0000025347667D90>\u001b[0m\n",
      "\u001b[32m2025-05-22 20:41:47.589\u001b[0m | \u001b[1mINFO    \u001b[0m | \u001b[36mloopbuilder.build\u001b[0m:\u001b[36mbuild\u001b[0m:\u001b[36m204\u001b[0m - \u001b[1mScored trial model 16 for segment loop_4: {'ramachandran_outliers': 0.3333, 'rotamer_outliers': 0.4, 'cbeta_deviations': 5.0, 'clashscore': 0.0, 'rms_bonds': 0.0548, 'rms_angles': 29.08, 'molprobity_score': 2.76}\u001b[0m\n",
      "\u001b[32m2025-05-22 20:41:47.592\u001b[0m | \u001b[1mINFO    \u001b[0m | \u001b[36mloopbuilder.build\u001b[0m:\u001b[36mbuild\u001b[0m:\u001b[36m208\u001b[0m - \u001b[1mTrial model 16 for segment loop_4 failed filter <function <lambda> at 0x0000025347667D90>\u001b[0m\n",
      "\u001b[32m2025-05-22 20:42:26.145\u001b[0m | \u001b[1mINFO    \u001b[0m | \u001b[36mloopbuilder.build\u001b[0m:\u001b[36mbuild\u001b[0m:\u001b[36m204\u001b[0m - \u001b[1mScored trial model 17 for segment loop_4: {'ramachandran_outliers': 0.6667, 'rotamer_outliers': 0.6, 'cbeta_deviations': 5.0, 'clashscore': 0.0, 'rms_bonds': 0.0513, 'rms_angles': 26.83, 'molprobity_score': 2.9}\u001b[0m\n",
      "\u001b[32m2025-05-22 20:42:26.148\u001b[0m | \u001b[1mINFO    \u001b[0m | \u001b[36mloopbuilder.build\u001b[0m:\u001b[36mbuild\u001b[0m:\u001b[36m208\u001b[0m - \u001b[1mTrial model 17 for segment loop_4 failed filter <function <lambda> at 0x0000025347667D90>\u001b[0m\n",
      "\u001b[32m2025-05-22 20:43:03.605\u001b[0m | \u001b[1mINFO    \u001b[0m | \u001b[36mloopbuilder.build\u001b[0m:\u001b[36mbuild\u001b[0m:\u001b[36m204\u001b[0m - \u001b[1mScored trial model 18 for segment loop_4: {'ramachandran_outliers': 0.3333, 'rotamer_outliers': 0.4, 'cbeta_deviations': 5.0, 'clashscore': 0.0, 'rms_bonds': 0.0547, 'rms_angles': 29.05, 'molprobity_score': 2.59}\u001b[0m\n",
      "\u001b[32m2025-05-22 20:43:03.609\u001b[0m | \u001b[1mINFO    \u001b[0m | \u001b[36mloopbuilder.build\u001b[0m:\u001b[36mbuild\u001b[0m:\u001b[36m208\u001b[0m - \u001b[1mTrial model 18 for segment loop_4 failed filter <function <lambda> at 0x0000025347667D90>\u001b[0m\n",
      "\u001b[32m2025-05-22 20:43:37.971\u001b[0m | \u001b[1mINFO    \u001b[0m | \u001b[36mloopbuilder.build\u001b[0m:\u001b[36mbuild\u001b[0m:\u001b[36m204\u001b[0m - \u001b[1mScored trial model 19 for segment loop_4: {'ramachandran_outliers': 0.0, 'rotamer_outliers': 0.6, 'cbeta_deviations': 4.0, 'clashscore': 0.0, 'rms_bonds': 0.0624, 'rms_angles': 32.34, 'molprobity_score': 2.72}\u001b[0m\n",
      "\u001b[32m2025-05-22 20:43:37.979\u001b[0m | \u001b[32m\u001b[1mSUCCESS \u001b[0m | \u001b[36mloopbuilder.build\u001b[0m:\u001b[36mbuild\u001b[0m:\u001b[36m219\u001b[0m - \u001b[32m\u001b[1mBuilt model 1 for segment loop_4\u001b[0m\n",
      "\u001b[32m2025-05-22 20:44:12.002\u001b[0m | \u001b[1mINFO    \u001b[0m | \u001b[36mloopbuilder.build\u001b[0m:\u001b[36mbuild\u001b[0m:\u001b[36m204\u001b[0m - \u001b[1mScored trial model 20 for segment loop_4: {'ramachandran_outliers': 0.6667, 'rotamer_outliers': 0.4, 'cbeta_deviations': 5.0, 'clashscore': 0.0, 'rms_bonds': 0.048, 'rms_angles': 32.37, 'molprobity_score': 2.87}\u001b[0m\n",
      "\u001b[32m2025-05-22 20:44:12.005\u001b[0m | \u001b[1mINFO    \u001b[0m | \u001b[36mloopbuilder.build\u001b[0m:\u001b[36mbuild\u001b[0m:\u001b[36m208\u001b[0m - \u001b[1mTrial model 20 for segment loop_4 failed filter <function <lambda> at 0x0000025347667D90>\u001b[0m\n",
      "\u001b[32m2025-05-22 20:44:47.209\u001b[0m | \u001b[1mINFO    \u001b[0m | \u001b[36mloopbuilder.build\u001b[0m:\u001b[36mbuild\u001b[0m:\u001b[36m204\u001b[0m - \u001b[1mScored trial model 21 for segment loop_4: {'ramachandran_outliers': 0.0, 'rotamer_outliers': 0.2, 'cbeta_deviations': 5.0, 'clashscore': 0.0, 'rms_bonds': 0.0487, 'rms_angles': 27.41, 'molprobity_score': 2.36}\u001b[0m\n",
      "\u001b[32m2025-05-22 20:44:47.216\u001b[0m | \u001b[32m\u001b[1mSUCCESS \u001b[0m | \u001b[36mloopbuilder.build\u001b[0m:\u001b[36mbuild\u001b[0m:\u001b[36m219\u001b[0m - \u001b[32m\u001b[1mBuilt model 2 for segment loop_4\u001b[0m\n",
      "\u001b[32m2025-05-22 20:45:21.753\u001b[0m | \u001b[1mINFO    \u001b[0m | \u001b[36mloopbuilder.build\u001b[0m:\u001b[36mbuild\u001b[0m:\u001b[36m204\u001b[0m - \u001b[1mScored trial model 22 for segment loop_4: {'ramachandran_outliers': 0.3333, 'rotamer_outliers': 0.8, 'cbeta_deviations': 5.0, 'clashscore': 0.0, 'rms_bonds': 0.0617, 'rms_angles': 29.96, 'molprobity_score': 3.09}\u001b[0m\n",
      "\u001b[32m2025-05-22 20:45:21.756\u001b[0m | \u001b[1mINFO    \u001b[0m | \u001b[36mloopbuilder.build\u001b[0m:\u001b[36mbuild\u001b[0m:\u001b[36m208\u001b[0m - \u001b[1mTrial model 22 for segment loop_4 failed filter <function <lambda> at 0x0000025347667D90>\u001b[0m\n",
      "\u001b[32m2025-05-22 20:45:56.185\u001b[0m | \u001b[1mINFO    \u001b[0m | \u001b[36mloopbuilder.build\u001b[0m:\u001b[36mbuild\u001b[0m:\u001b[36m204\u001b[0m - \u001b[1mScored trial model 23 for segment loop_4: {'ramachandran_outliers': 0.6667, 'rotamer_outliers': 0.8, 'cbeta_deviations': 5.0, 'clashscore': 0.0, 'rms_bonds': 0.054, 'rms_angles': 33.61, 'molprobity_score': 2.99}\u001b[0m\n",
      "\u001b[32m2025-05-22 20:45:56.192\u001b[0m | \u001b[1mINFO    \u001b[0m | \u001b[36mloopbuilder.build\u001b[0m:\u001b[36mbuild\u001b[0m:\u001b[36m208\u001b[0m - \u001b[1mTrial model 23 for segment loop_4 failed filter <function <lambda> at 0x0000025347667D90>\u001b[0m\n",
      "\u001b[32m2025-05-22 20:46:29.490\u001b[0m | \u001b[1mINFO    \u001b[0m | \u001b[36mloopbuilder.build\u001b[0m:\u001b[36mbuild\u001b[0m:\u001b[36m204\u001b[0m - \u001b[1mScored trial model 24 for segment loop_4: {'ramachandran_outliers': 0.3333, 'rotamer_outliers': 0.8, 'cbeta_deviations': 5.0, 'clashscore': 0.0, 'rms_bonds': 0.043, 'rms_angles': 31.6, 'molprobity_score': 2.82}\u001b[0m\n",
      "\u001b[32m2025-05-22 20:46:29.492\u001b[0m | \u001b[1mINFO    \u001b[0m | \u001b[36mloopbuilder.build\u001b[0m:\u001b[36mbuild\u001b[0m:\u001b[36m208\u001b[0m - \u001b[1mTrial model 24 for segment loop_4 failed filter <function <lambda> at 0x0000025347667D90>\u001b[0m\n",
      "\u001b[32m2025-05-22 20:47:01.674\u001b[0m | \u001b[1mINFO    \u001b[0m | \u001b[36mloopbuilder.build\u001b[0m:\u001b[36mbuild\u001b[0m:\u001b[36m204\u001b[0m - \u001b[1mScored trial model 25 for segment loop_4: {'ramachandran_outliers': 0.6667, 'rotamer_outliers': 0.2, 'cbeta_deviations': 5.0, 'clashscore': 0.0, 'rms_bonds': 0.0447, 'rms_angles': 31.5, 'molprobity_score': 2.53}\u001b[0m\n",
      "\u001b[32m2025-05-22 20:47:01.678\u001b[0m | \u001b[1mINFO    \u001b[0m | \u001b[36mloopbuilder.build\u001b[0m:\u001b[36mbuild\u001b[0m:\u001b[36m208\u001b[0m - \u001b[1mTrial model 25 for segment loop_4 failed filter <function <lambda> at 0x0000025347667D90>\u001b[0m\n",
      "\u001b[32m2025-05-22 20:47:34.681\u001b[0m | \u001b[1mINFO    \u001b[0m | \u001b[36mloopbuilder.build\u001b[0m:\u001b[36mbuild\u001b[0m:\u001b[36m204\u001b[0m - \u001b[1mScored trial model 26 for segment loop_4: {'ramachandran_outliers': 1.0, 'rotamer_outliers': 0.2, 'cbeta_deviations': 5.0, 'clashscore': 0.0, 'rms_bonds': 0.053, 'rms_angles': 29.86, 'molprobity_score': 2.64}\u001b[0m\n",
      "\u001b[32m2025-05-22 20:47:34.683\u001b[0m | \u001b[1mINFO    \u001b[0m | \u001b[36mloopbuilder.build\u001b[0m:\u001b[36mbuild\u001b[0m:\u001b[36m208\u001b[0m - \u001b[1mTrial model 26 for segment loop_4 failed filter <function <lambda> at 0x0000025347667D90>\u001b[0m\n",
      "\u001b[32m2025-05-22 20:48:11.237\u001b[0m | \u001b[1mINFO    \u001b[0m | \u001b[36mloopbuilder.build\u001b[0m:\u001b[36mbuild\u001b[0m:\u001b[36m204\u001b[0m - \u001b[1mScored trial model 27 for segment loop_4: {'ramachandran_outliers': 0.6667, 'rotamer_outliers': 1.0, 'cbeta_deviations': 5.0, 'clashscore': 0.0, 'rms_bonds': 0.0468, 'rms_angles': 28.12, 'molprobity_score': 3.07}\u001b[0m\n",
      "\u001b[32m2025-05-22 20:48:11.239\u001b[0m | \u001b[1mINFO    \u001b[0m | \u001b[36mloopbuilder.build\u001b[0m:\u001b[36mbuild\u001b[0m:\u001b[36m208\u001b[0m - \u001b[1mTrial model 27 for segment loop_4 failed filter <function <lambda> at 0x0000025347667D90>\u001b[0m\n",
      "\u001b[32m2025-05-22 20:48:43.019\u001b[0m | \u001b[1mINFO    \u001b[0m | \u001b[36mloopbuilder.build\u001b[0m:\u001b[36mbuild\u001b[0m:\u001b[36m204\u001b[0m - \u001b[1mScored trial model 28 for segment loop_4: {'ramachandran_outliers': 0.3333, 'rotamer_outliers': 0.8, 'cbeta_deviations': 5.0, 'clashscore': 0.0, 'rms_bonds': 0.0525, 'rms_angles': 32.24, 'molprobity_score': 2.99}\u001b[0m\n",
      "\u001b[32m2025-05-22 20:48:43.022\u001b[0m | \u001b[1mINFO    \u001b[0m | \u001b[36mloopbuilder.build\u001b[0m:\u001b[36mbuild\u001b[0m:\u001b[36m208\u001b[0m - \u001b[1mTrial model 28 for segment loop_4 failed filter <function <lambda> at 0x0000025347667D90>\u001b[0m\n",
      "\u001b[32m2025-05-22 20:49:15.209\u001b[0m | \u001b[1mINFO    \u001b[0m | \u001b[36mloopbuilder.build\u001b[0m:\u001b[36mbuild\u001b[0m:\u001b[36m204\u001b[0m - \u001b[1mScored trial model 29 for segment loop_4: {'ramachandran_outliers': 0.6667, 'rotamer_outliers': 0.6, 'cbeta_deviations': 5.0, 'clashscore': 0.0, 'rms_bonds': 0.0662, 'rms_angles': 30.26, 'molprobity_score': 3.0}\u001b[0m\n",
      "\u001b[32m2025-05-22 20:49:15.212\u001b[0m | \u001b[1mINFO    \u001b[0m | \u001b[36mloopbuilder.build\u001b[0m:\u001b[36mbuild\u001b[0m:\u001b[36m208\u001b[0m - \u001b[1mTrial model 29 for segment loop_4 failed filter <function <lambda> at 0x0000025347667D90>\u001b[0m\n",
      "\u001b[32m2025-05-22 20:49:45.733\u001b[0m | \u001b[1mINFO    \u001b[0m | \u001b[36mloopbuilder.build\u001b[0m:\u001b[36mbuild\u001b[0m:\u001b[36m204\u001b[0m - \u001b[1mScored trial model 30 for segment loop_4: {'ramachandran_outliers': 0.3333, 'rotamer_outliers': 0.4, 'cbeta_deviations': 5.0, 'clashscore': 0.0, 'rms_bonds': 0.057, 'rms_angles': 32.21, 'molprobity_score': 2.76}\u001b[0m\n",
      "\u001b[32m2025-05-22 20:49:45.736\u001b[0m | \u001b[1mINFO    \u001b[0m | \u001b[36mloopbuilder.build\u001b[0m:\u001b[36mbuild\u001b[0m:\u001b[36m208\u001b[0m - \u001b[1mTrial model 30 for segment loop_4 failed filter <function <lambda> at 0x0000025347667D90>\u001b[0m\n",
      "\u001b[32m2025-05-22 20:49:45.738\u001b[0m | \u001b[33m\u001b[1mWARNING \u001b[0m | \u001b[36mloopbuilder.build\u001b[0m:\u001b[36mbuild\u001b[0m:\u001b[36m184\u001b[0m - \u001b[33m\u001b[1mReached the maximum number of tries (success_rate=6.67%)\u001b[0m\n"
     ]
    },
    {
     "data": {
      "text/plain": [
       "[Segment(identifier='loop_1', chain_index=0, chain_name='A', residue_start_index=54, residue_start_seqid=65, residue_index_offset=11, residue_names=['VAL', 'ASN', 'GLY', 'PHE', 'ASN', 'GLY', 'GLU', 'GLY', 'GLY', 'GLU', 'GLU', 'ASP', 'PRO', 'GLN', 'ALA', 'ALA', 'ARG', 'SER', 'ASN', 'SER', 'ASP', 'GLY'], parent_structure_file=WindowsPath('C:/Users/janoj/GitHub/LoopBuilder/data/6x18.cif'), models=[SegmentModel(identifier='loop_1', structure_file=WindowsPath('C:/Users/janoj/GitHub/LoopBuilder/sandbox/PDBFixer/6x18/6x18_loop_1_1.cif'), scores={'ramachandran_outliers': 0.2, 'rotamer_outliers': 0.4667, 'cbeta_deviations': 17.0, 'clashscore': 0.0, 'rms_bonds': 0.0289, 'rms_angles': 18.28, 'molprobity_score': 2.77}, index=1), SegmentModel(identifier='loop_1', structure_file=WindowsPath('C:/Users/janoj/GitHub/LoopBuilder/sandbox/PDBFixer/6x18/6x18_loop_1_2.cif'), scores={'ramachandran_outliers': 0.3, 'rotamer_outliers': 0.4667, 'cbeta_deviations': 17.0, 'clashscore': 0.0, 'rms_bonds': 0.0427, 'rms_angles': 19.58, 'molprobity_score': 2.79}, index=2), SegmentModel(identifier='loop_1', structure_file=WindowsPath('C:/Users/janoj/GitHub/LoopBuilder/sandbox/PDBFixer/6x18/6x18_loop_1_3.cif'), scores={'ramachandran_outliers': 0.3, 'rotamer_outliers': 0.5333, 'cbeta_deviations': 17.0, 'clashscore': 0.0, 'rms_bonds': 0.0337, 'rms_angles': 17.85, 'molprobity_score': 2.81}, index=3)]),\n",
       " Segment(identifier='loop_2', chain_index=0, chain_name='A', residue_start_index=222, residue_start_seqid=255, residue_index_offset=11, residue_names=['MET', 'VAL', 'ILE', 'ARG', 'GLU', 'ASP', 'ASN'], parent_structure_file=WindowsPath('C:/Users/janoj/GitHub/LoopBuilder/data/6x18.cif'), models=[]),\n",
       " Segment(identifier='loop_3', chain_index=5, chain_name='F', residue_start_index=101, residue_start_seqid=130, residue_index_offset=29, residue_names=['LYS', 'ARG', 'GLY', 'GLU', 'ARG', 'SER'], parent_structure_file=WindowsPath('C:/Users/janoj/GitHub/LoopBuilder/data/6x18.cif'), models=[SegmentModel(identifier='loop_3', structure_file=WindowsPath('C:/Users/janoj/GitHub/LoopBuilder/sandbox/PDBFixer/6x18/6x18_loop_3_1.cif'), scores={'ramachandran_outliers': 0.25, 'rotamer_outliers': 0.6, 'cbeta_deviations': 5.0, 'clashscore': 0.0, 'rms_bonds': 0.0451, 'rms_angles': 22.57, 'molprobity_score': 2.65}, index=1), SegmentModel(identifier='loop_3', structure_file=WindowsPath('C:/Users/janoj/GitHub/LoopBuilder/sandbox/PDBFixer/6x18/6x18_loop_3_2.cif'), scores={'ramachandran_outliers': 0.0, 'rotamer_outliers': 0.6, 'cbeta_deviations': 5.0, 'clashscore': 0.0, 'rms_bonds': 0.0599, 'rms_angles': 24.18, 'molprobity_score': 1.85}, index=2), SegmentModel(identifier='loop_3', structure_file=WindowsPath('C:/Users/janoj/GitHub/LoopBuilder/sandbox/PDBFixer/6x18/6x18_loop_3_3.cif'), scores={'ramachandran_outliers': 0.25, 'rotamer_outliers': 1.0, 'cbeta_deviations': 5.0, 'clashscore': 0.0, 'rms_bonds': 0.0407, 'rms_angles': 22.7, 'molprobity_score': 2.81}, index=3)]),\n",
       " Segment(identifier='loop_4', chain_index=5, chain_name='F', residue_start_index=304, residue_start_seqid=339, residue_index_offset=29, residue_names=['LEU', 'MET', 'CYS', 'LYS', 'THR'], parent_structure_file=WindowsPath('C:/Users/janoj/GitHub/LoopBuilder/data/6x18.cif'), models=[SegmentModel(identifier='loop_4', structure_file=WindowsPath('C:/Users/janoj/GitHub/LoopBuilder/sandbox/PDBFixer/6x18/6x18_loop_4_1.cif'), scores={'ramachandran_outliers': 0.0, 'rotamer_outliers': 0.6, 'cbeta_deviations': 4.0, 'clashscore': 0.0, 'rms_bonds': 0.0624, 'rms_angles': 32.34, 'molprobity_score': 2.72}, index=1), SegmentModel(identifier='loop_4', structure_file=WindowsPath('C:/Users/janoj/GitHub/LoopBuilder/sandbox/PDBFixer/6x18/6x18_loop_4_2.cif'), scores={'ramachandran_outliers': 0.0, 'rotamer_outliers': 0.2, 'cbeta_deviations': 5.0, 'clashscore': 0.0, 'rms_bonds': 0.0487, 'rms_angles': 27.41, 'molprobity_score': 2.36}, index=2)])]"
      ]
     },
     "execution_count": 3,
     "metadata": {},
     "output_type": "execute_result"
    }
   ],
   "source": [
    "builder = PDBFixerBuilder(\n",
    "    structure_file=PROJECT_ROOT / \"data/6x18.cif\",\n",
    "    output_directory=PROJECT_ROOT / \"sandbox/PDBFixer/6x18\",\n",
    "    scorers=[MolProbityScorer(docker_image=\"francecosta/molprobity:v0.0.1\")],\n",
    "    filters=[lambda x: x.scores.get(\"ramachandran_outliers\", 0.3) <= 0.3],\n",
    "    working_directory=PROJECT_ROOT / \"sandbox/PDBFixer/tmp\",\n",
    ")\n",
    "builder.build(n=3)"
   ]
  },
  {
   "cell_type": "code",
   "execution_count": null,
   "id": "ac9b7cd0",
   "metadata": {},
   "outputs": [
    {
     "name": "stderr",
     "output_type": "stream",
     "text": [
      "\u001b[32m2025-05-22 20:49:46.367\u001b[0m | \u001b[1mINFO    \u001b[0m | \u001b[36mloopbuilder.build\u001b[0m:\u001b[36mbuild\u001b[0m:\u001b[36m143\u001b[0m - \u001b[1mBuilding n=3 models for C:\\Users\\janoj\\GitHub\\LoopBuilder\\data\\8rx0.cif (max_tries=30)\u001b[0m\n",
      "\u001b[32m2025-05-22 20:49:46.369\u001b[0m | \u001b[1mINFO    \u001b[0m | \u001b[36mloopbuilder.build\u001b[0m:\u001b[36mbuild\u001b[0m:\u001b[36m145\u001b[0m - \u001b[1mSaving output to C:\\Users\\janoj\\GitHub\\LoopBuilder\\sandbox\\PDBFixer\\8rx0\u001b[0m\n",
      "\u001b[32m2025-05-22 20:49:46.371\u001b[0m | \u001b[1mINFO    \u001b[0m | \u001b[36mloopbuilder.build\u001b[0m:\u001b[36mbuild\u001b[0m:\u001b[36m146\u001b[0m - \u001b[1mUsing working directory C:\\Users\\janoj\\GitHub\\LoopBuilder\\sandbox\\PDBFixer\\tmp\u001b[0m\n",
      "\u001b[32m2025-05-22 20:49:46.372\u001b[0m | \u001b[1mINFO    \u001b[0m | \u001b[36mloopbuilder.build\u001b[0m:\u001b[36mbuild\u001b[0m:\u001b[36m151\u001b[0m - \u001b[1mUsing 1 scorer(s):\n",
      "  MolProbityScorer(cleanup=True, executable=molprobity.molprobity, docker_image=francecosta/molprobity:v0.0.1, )\u001b[0m\n",
      "\u001b[32m2025-05-22 20:49:46.374\u001b[0m | \u001b[1mINFO    \u001b[0m | \u001b[36mloopbuilder.build\u001b[0m:\u001b[36mbuild\u001b[0m:\u001b[36m156\u001b[0m - \u001b[1mUsing 1 filter(s):\n",
      "  <function <lambda> at 0x00000253472783A0>\u001b[0m\n",
      "\u001b[32m2025-05-22 20:49:46.376\u001b[0m | \u001b[1mINFO    \u001b[0m | \u001b[36mloopbuilder.build\u001b[0m:\u001b[36mbuild\u001b[0m:\u001b[36m159\u001b[0m - \u001b[1mLooking for segments\u001b[0m\n",
      "\u001b[32m2025-05-22 20:49:48.159\u001b[0m | \u001b[1mINFO    \u001b[0m | \u001b[36mloopbuilder.build\u001b[0m:\u001b[36mbuild\u001b[0m:\u001b[36m166\u001b[0m - \u001b[1mFound 9 segments\u001b[0m\n"
     ]
    },
    {
     "data": {
      "application/vnd.jupyter.widget-view+json": {
       "model_id": "a5a6ebfdb42e4265a530e7ef72ff27aa",
       "version_major": 2,
       "version_minor": 0
      },
      "text/plain": [
       "Building segments:   0%|          | 0/9 [00:00<?, ?segment/s]"
      ]
     },
     "metadata": {},
     "output_type": "display_data"
    },
    {
     "name": "stderr",
     "output_type": "stream",
     "text": [
      "\u001b[32m2025-05-22 20:49:48.176\u001b[0m | \u001b[1mINFO    \u001b[0m | \u001b[36mloopbuilder.build\u001b[0m:\u001b[36mbuild\u001b[0m:\u001b[36m174\u001b[0m - \u001b[1mBuilding models for segment loop_1\u001b[0m\n",
      "\u001b[32m2025-05-22 20:52:13.687\u001b[0m | \u001b[1mINFO    \u001b[0m | \u001b[36mloopbuilder.build\u001b[0m:\u001b[36mbuild\u001b[0m:\u001b[36m204\u001b[0m - \u001b[1mScored trial model 1 for segment loop_1: {'ramachandran_outliers': 0.6667, 'rotamer_outliers': 0.4286, 'cbeta_deviations': 8.0, 'clashscore': 0.0, 'rms_bonds': 0.0248, 'rms_angles': 17.49, 'molprobity_score': 2.79}\u001b[0m\n",
      "\u001b[32m2025-05-22 20:52:13.705\u001b[0m | \u001b[1mINFO    \u001b[0m | \u001b[36mloopbuilder.build\u001b[0m:\u001b[36mbuild\u001b[0m:\u001b[36m208\u001b[0m - \u001b[1mTrial model 1 for segment loop_1 failed filter <function <lambda> at 0x00000253472783A0>\u001b[0m\n",
      "\u001b[32m2025-05-22 20:54:27.457\u001b[0m | \u001b[1mINFO    \u001b[0m | \u001b[36mloopbuilder.build\u001b[0m:\u001b[36mbuild\u001b[0m:\u001b[36m204\u001b[0m - \u001b[1mScored trial model 2 for segment loop_1: {'ramachandran_outliers': 0.5, 'rotamer_outliers': 0.4286, 'cbeta_deviations': 8.0, 'clashscore': 0.0, 'rms_bonds': 0.0243, 'rms_angles': 18.39, 'molprobity_score': 2.71}\u001b[0m\n",
      "\u001b[32m2025-05-22 20:54:27.467\u001b[0m | \u001b[1mINFO    \u001b[0m | \u001b[36mloopbuilder.build\u001b[0m:\u001b[36mbuild\u001b[0m:\u001b[36m208\u001b[0m - \u001b[1mTrial model 2 for segment loop_1 failed filter <function <lambda> at 0x00000253472783A0>\u001b[0m\n",
      "\u001b[32m2025-05-22 20:56:25.310\u001b[0m | \u001b[1mINFO    \u001b[0m | \u001b[36mloopbuilder.build\u001b[0m:\u001b[36mbuild\u001b[0m:\u001b[36m204\u001b[0m - \u001b[1mScored trial model 3 for segment loop_1: {'ramachandran_outliers': 0.6667, 'rotamer_outliers': 0.2857, 'cbeta_deviations': 8.0, 'clashscore': 0.0, 'rms_bonds': 0.0445, 'rms_angles': 21.47, 'molprobity_score': 2.71}\u001b[0m\n",
      "\u001b[32m2025-05-22 20:56:25.316\u001b[0m | \u001b[1mINFO    \u001b[0m | \u001b[36mloopbuilder.build\u001b[0m:\u001b[36mbuild\u001b[0m:\u001b[36m208\u001b[0m - \u001b[1mTrial model 3 for segment loop_1 failed filter <function <lambda> at 0x00000253472783A0>\u001b[0m\n",
      "\u001b[32m2025-05-22 20:58:22.674\u001b[0m | \u001b[1mINFO    \u001b[0m | \u001b[36mloopbuilder.build\u001b[0m:\u001b[36mbuild\u001b[0m:\u001b[36m204\u001b[0m - \u001b[1mScored trial model 4 for segment loop_1: {'ramachandran_outliers': 0.5, 'rotamer_outliers': 0.4286, 'cbeta_deviations': 8.0, 'clashscore': 0.0, 'rms_bonds': 0.039, 'rms_angles': 22.26, 'molprobity_score': 2.84}\u001b[0m\n",
      "\u001b[32m2025-05-22 20:58:22.682\u001b[0m | \u001b[1mINFO    \u001b[0m | \u001b[36mloopbuilder.build\u001b[0m:\u001b[36mbuild\u001b[0m:\u001b[36m208\u001b[0m - \u001b[1mTrial model 4 for segment loop_1 failed filter <function <lambda> at 0x00000253472783A0>\u001b[0m\n",
      "\u001b[32m2025-05-22 21:00:22.164\u001b[0m | \u001b[1mINFO    \u001b[0m | \u001b[36mloopbuilder.build\u001b[0m:\u001b[36mbuild\u001b[0m:\u001b[36m204\u001b[0m - \u001b[1mScored trial model 5 for segment loop_1: {'ramachandran_outliers': 0.5, 'rotamer_outliers': 0.4286, 'cbeta_deviations': 8.0, 'clashscore': 0.0, 'rms_bonds': 0.0269, 'rms_angles': 15.96, 'molprobity_score': 2.71}\u001b[0m\n",
      "\u001b[32m2025-05-22 21:00:22.168\u001b[0m | \u001b[1mINFO    \u001b[0m | \u001b[36mloopbuilder.build\u001b[0m:\u001b[36mbuild\u001b[0m:\u001b[36m208\u001b[0m - \u001b[1mTrial model 5 for segment loop_1 failed filter <function <lambda> at 0x00000253472783A0>\u001b[0m\n",
      "\u001b[32m2025-05-22 21:02:23.331\u001b[0m | \u001b[1mINFO    \u001b[0m | \u001b[36mloopbuilder.build\u001b[0m:\u001b[36mbuild\u001b[0m:\u001b[36m204\u001b[0m - \u001b[1mScored trial model 6 for segment loop_1: {'ramachandran_outliers': 0.5, 'rotamer_outliers': 0.4286, 'cbeta_deviations': 8.0, 'clashscore': 0.0, 'rms_bonds': 0.0187, 'rms_angles': 14.38, 'molprobity_score': 2.84}\u001b[0m\n",
      "\u001b[32m2025-05-22 21:02:23.334\u001b[0m | \u001b[1mINFO    \u001b[0m | \u001b[36mloopbuilder.build\u001b[0m:\u001b[36mbuild\u001b[0m:\u001b[36m208\u001b[0m - \u001b[1mTrial model 6 for segment loop_1 failed filter <function <lambda> at 0x00000253472783A0>\u001b[0m\n",
      "\u001b[32m2025-05-22 21:04:18.067\u001b[0m | \u001b[1mINFO    \u001b[0m | \u001b[36mloopbuilder.build\u001b[0m:\u001b[36mbuild\u001b[0m:\u001b[36m204\u001b[0m - \u001b[1mScored trial model 7 for segment loop_1: {'ramachandran_outliers': 0.3333, 'rotamer_outliers': 0.4286, 'cbeta_deviations': 8.0, 'clashscore': 0.0, 'rms_bonds': 0.0393, 'rms_angles': 21.3, 'molprobity_score': 2.84}\u001b[0m\n",
      "\u001b[32m2025-05-22 21:04:18.069\u001b[0m | \u001b[1mINFO    \u001b[0m | \u001b[36mloopbuilder.build\u001b[0m:\u001b[36mbuild\u001b[0m:\u001b[36m208\u001b[0m - \u001b[1mTrial model 7 for segment loop_1 failed filter <function <lambda> at 0x00000253472783A0>\u001b[0m\n",
      "\u001b[32m2025-05-22 21:06:18.506\u001b[0m | \u001b[1mINFO    \u001b[0m | \u001b[36mloopbuilder.build\u001b[0m:\u001b[36mbuild\u001b[0m:\u001b[36m204\u001b[0m - \u001b[1mScored trial model 8 for segment loop_1: {'ramachandran_outliers': 0.8333, 'rotamer_outliers': 0.7143, 'cbeta_deviations': 8.0, 'clashscore': 0.0, 'rms_bonds': 0.0295, 'rms_angles': 13.95, 'molprobity_score': 3.01}\u001b[0m\n",
      "\u001b[32m2025-05-22 21:06:18.511\u001b[0m | \u001b[1mINFO    \u001b[0m | \u001b[36mloopbuilder.build\u001b[0m:\u001b[36mbuild\u001b[0m:\u001b[36m208\u001b[0m - \u001b[1mTrial model 8 for segment loop_1 failed filter <function <lambda> at 0x00000253472783A0>\u001b[0m\n",
      "\u001b[32m2025-05-22 21:08:10.206\u001b[0m | \u001b[1mINFO    \u001b[0m | \u001b[36mloopbuilder.build\u001b[0m:\u001b[36mbuild\u001b[0m:\u001b[36m204\u001b[0m - \u001b[1mScored trial model 9 for segment loop_1: {'ramachandran_outliers': 0.6667, 'rotamer_outliers': 0.4286, 'cbeta_deviations': 8.0, 'clashscore': 0.0, 'rms_bonds': 0.0195, 'rms_angles': 17.21, 'molprobity_score': 2.84}\u001b[0m\n",
      "\u001b[32m2025-05-22 21:08:10.209\u001b[0m | \u001b[1mINFO    \u001b[0m | \u001b[36mloopbuilder.build\u001b[0m:\u001b[36mbuild\u001b[0m:\u001b[36m208\u001b[0m - \u001b[1mTrial model 9 for segment loop_1 failed filter <function <lambda> at 0x00000253472783A0>\u001b[0m\n",
      "\u001b[32m2025-05-22 21:09:50.110\u001b[0m | \u001b[1mINFO    \u001b[0m | \u001b[36mloopbuilder.build\u001b[0m:\u001b[36mbuild\u001b[0m:\u001b[36m204\u001b[0m - \u001b[1mScored trial model 10 for segment loop_1: {'ramachandran_outliers': 0.5, 'rotamer_outliers': 0.2857, 'cbeta_deviations': 8.0, 'clashscore': 0.0, 'rms_bonds': 0.0388, 'rms_angles': 20.82, 'molprobity_score': 2.71}\u001b[0m\n",
      "\u001b[32m2025-05-22 21:09:50.118\u001b[0m | \u001b[1mINFO    \u001b[0m | \u001b[36mloopbuilder.build\u001b[0m:\u001b[36mbuild\u001b[0m:\u001b[36m208\u001b[0m - \u001b[1mTrial model 10 for segment loop_1 failed filter <function <lambda> at 0x00000253472783A0>\u001b[0m\n",
      "\u001b[32m2025-05-22 21:11:33.615\u001b[0m | \u001b[1mINFO    \u001b[0m | \u001b[36mloopbuilder.build\u001b[0m:\u001b[36mbuild\u001b[0m:\u001b[36m204\u001b[0m - \u001b[1mScored trial model 11 for segment loop_1: {'ramachandran_outliers': 0.3333, 'rotamer_outliers': 0.2857, 'cbeta_deviations': 8.0, 'clashscore': 0.0, 'rms_bonds': 0.0458, 'rms_angles': 21.85, 'molprobity_score': 2.71}\u001b[0m\n",
      "\u001b[32m2025-05-22 21:11:33.618\u001b[0m | \u001b[1mINFO    \u001b[0m | \u001b[36mloopbuilder.build\u001b[0m:\u001b[36mbuild\u001b[0m:\u001b[36m208\u001b[0m - \u001b[1mTrial model 11 for segment loop_1 failed filter <function <lambda> at 0x00000253472783A0>\u001b[0m\n",
      "\u001b[32m2025-05-22 21:13:20.653\u001b[0m | \u001b[1mINFO    \u001b[0m | \u001b[36mloopbuilder.build\u001b[0m:\u001b[36mbuild\u001b[0m:\u001b[36m204\u001b[0m - \u001b[1mScored trial model 12 for segment loop_1: {'ramachandran_outliers': 0.1667, 'rotamer_outliers': 0.5714, 'cbeta_deviations': 8.0, 'clashscore': 0.0, 'rms_bonds': 0.0234, 'rms_angles': 17.38, 'molprobity_score': 2.81}\u001b[0m\n",
      "\u001b[32m2025-05-22 21:13:20.659\u001b[0m | \u001b[32m\u001b[1mSUCCESS \u001b[0m | \u001b[36mloopbuilder.build\u001b[0m:\u001b[36mbuild\u001b[0m:\u001b[36m219\u001b[0m - \u001b[32m\u001b[1mBuilt model 1 for segment loop_1\u001b[0m\n",
      "\u001b[32m2025-05-22 21:15:00.510\u001b[0m | \u001b[1mINFO    \u001b[0m | \u001b[36mloopbuilder.build\u001b[0m:\u001b[36mbuild\u001b[0m:\u001b[36m204\u001b[0m - \u001b[1mScored trial model 13 for segment loop_1: {'ramachandran_outliers': 0.3333, 'rotamer_outliers': 0.2857, 'cbeta_deviations': 8.0, 'clashscore': 0.0, 'rms_bonds': 0.0461, 'rms_angles': 21.63, 'molprobity_score': 2.65}\u001b[0m\n",
      "\u001b[32m2025-05-22 21:15:00.512\u001b[0m | \u001b[1mINFO    \u001b[0m | \u001b[36mloopbuilder.build\u001b[0m:\u001b[36mbuild\u001b[0m:\u001b[36m208\u001b[0m - \u001b[1mTrial model 13 for segment loop_1 failed filter <function <lambda> at 0x00000253472783A0>\u001b[0m\n",
      "\u001b[32m2025-05-22 21:16:43.215\u001b[0m | \u001b[1mINFO    \u001b[0m | \u001b[36mloopbuilder.build\u001b[0m:\u001b[36mbuild\u001b[0m:\u001b[36m204\u001b[0m - \u001b[1mScored trial model 14 for segment loop_1: {'ramachandran_outliers': 0.5, 'rotamer_outliers': 0.2857, 'cbeta_deviations': 8.0, 'clashscore': 0.0, 'rms_bonds': 0.0468, 'rms_angles': 22.44, 'molprobity_score': 2.71}\u001b[0m\n",
      "\u001b[32m2025-05-22 21:16:43.220\u001b[0m | \u001b[1mINFO    \u001b[0m | \u001b[36mloopbuilder.build\u001b[0m:\u001b[36mbuild\u001b[0m:\u001b[36m208\u001b[0m - \u001b[1mTrial model 14 for segment loop_1 failed filter <function <lambda> at 0x00000253472783A0>\u001b[0m\n",
      "\u001b[32m2025-05-22 21:18:30.162\u001b[0m | \u001b[1mINFO    \u001b[0m | \u001b[36mloopbuilder.build\u001b[0m:\u001b[36mbuild\u001b[0m:\u001b[36m204\u001b[0m - \u001b[1mScored trial model 15 for segment loop_1: {'ramachandran_outliers': 0.5, 'rotamer_outliers': 0.4286, 'cbeta_deviations': 8.0, 'clashscore': 0.0, 'rms_bonds': 0.0215, 'rms_angles': 14.14, 'molprobity_score': 2.79}\u001b[0m\n",
      "\u001b[32m2025-05-22 21:18:30.165\u001b[0m | \u001b[1mINFO    \u001b[0m | \u001b[36mloopbuilder.build\u001b[0m:\u001b[36mbuild\u001b[0m:\u001b[36m208\u001b[0m - \u001b[1mTrial model 15 for segment loop_1 failed filter <function <lambda> at 0x00000253472783A0>\u001b[0m\n",
      "\u001b[32m2025-05-22 21:20:16.537\u001b[0m | \u001b[1mINFO    \u001b[0m | \u001b[36mloopbuilder.build\u001b[0m:\u001b[36mbuild\u001b[0m:\u001b[36m204\u001b[0m - \u001b[1mScored trial model 16 for segment loop_1: {'ramachandran_outliers': 0.3333, 'rotamer_outliers': 0.5714, 'cbeta_deviations': 8.0, 'clashscore': 0.0, 'rms_bonds': 0.0201, 'rms_angles': 15.54, 'molprobity_score': 2.81}\u001b[0m\n",
      "\u001b[32m2025-05-22 21:20:16.539\u001b[0m | \u001b[1mINFO    \u001b[0m | \u001b[36mloopbuilder.build\u001b[0m:\u001b[36mbuild\u001b[0m:\u001b[36m208\u001b[0m - \u001b[1mTrial model 16 for segment loop_1 failed filter <function <lambda> at 0x00000253472783A0>\u001b[0m\n",
      "\u001b[32m2025-05-22 21:22:06.966\u001b[0m | \u001b[1mINFO    \u001b[0m | \u001b[36mloopbuilder.build\u001b[0m:\u001b[36mbuild\u001b[0m:\u001b[36m204\u001b[0m - \u001b[1mScored trial model 17 for segment loop_1: {'ramachandran_outliers': 0.3333, 'rotamer_outliers': 0.5714, 'cbeta_deviations': 8.0, 'clashscore': 0.0, 'rms_bonds': 0.0285, 'rms_angles': 18.51, 'molprobity_score': 2.88}\u001b[0m\n",
      "\u001b[32m2025-05-22 21:22:06.969\u001b[0m | \u001b[1mINFO    \u001b[0m | \u001b[36mloopbuilder.build\u001b[0m:\u001b[36mbuild\u001b[0m:\u001b[36m208\u001b[0m - \u001b[1mTrial model 17 for segment loop_1 failed filter <function <lambda> at 0x00000253472783A0>\u001b[0m\n",
      "\u001b[32m2025-05-22 21:23:46.761\u001b[0m | \u001b[1mINFO    \u001b[0m | \u001b[36mloopbuilder.build\u001b[0m:\u001b[36mbuild\u001b[0m:\u001b[36m204\u001b[0m - \u001b[1mScored trial model 18 for segment loop_1: {'ramachandran_outliers': 0.5, 'rotamer_outliers': 0.4286, 'cbeta_deviations': 8.0, 'clashscore': 0.0, 'rms_bonds': 0.0372, 'rms_angles': 21.49, 'molprobity_score': 2.84}\u001b[0m\n",
      "\u001b[32m2025-05-22 21:23:46.764\u001b[0m | \u001b[1mINFO    \u001b[0m | \u001b[36mloopbuilder.build\u001b[0m:\u001b[36mbuild\u001b[0m:\u001b[36m208\u001b[0m - \u001b[1mTrial model 18 for segment loop_1 failed filter <function <lambda> at 0x00000253472783A0>\u001b[0m\n",
      "\u001b[32m2025-05-22 21:25:25.648\u001b[0m | \u001b[1mINFO    \u001b[0m | \u001b[36mloopbuilder.build\u001b[0m:\u001b[36mbuild\u001b[0m:\u001b[36m204\u001b[0m - \u001b[1mScored trial model 19 for segment loop_1: {'ramachandran_outliers': 0.3333, 'rotamer_outliers': 0.4286, 'cbeta_deviations': 8.0, 'clashscore': 0.0, 'rms_bonds': 0.0392, 'rms_angles': 21.3, 'molprobity_score': 2.84}\u001b[0m\n",
      "\u001b[32m2025-05-22 21:25:25.650\u001b[0m | \u001b[1mINFO    \u001b[0m | \u001b[36mloopbuilder.build\u001b[0m:\u001b[36mbuild\u001b[0m:\u001b[36m208\u001b[0m - \u001b[1mTrial model 19 for segment loop_1 failed filter <function <lambda> at 0x00000253472783A0>\u001b[0m\n",
      "\u001b[32m2025-05-22 21:27:13.877\u001b[0m | \u001b[1mINFO    \u001b[0m | \u001b[36mloopbuilder.build\u001b[0m:\u001b[36mbuild\u001b[0m:\u001b[36m204\u001b[0m - \u001b[1mScored trial model 20 for segment loop_1: {'ramachandran_outliers': 0.3333, 'rotamer_outliers': 0.4286, 'cbeta_deviations': 8.0, 'clashscore': 0.0, 'rms_bonds': 0.0235, 'rms_angles': 13.95, 'molprobity_score': 2.61}\u001b[0m\n",
      "\u001b[32m2025-05-22 21:27:13.880\u001b[0m | \u001b[1mINFO    \u001b[0m | \u001b[36mloopbuilder.build\u001b[0m:\u001b[36mbuild\u001b[0m:\u001b[36m208\u001b[0m - \u001b[1mTrial model 20 for segment loop_1 failed filter <function <lambda> at 0x00000253472783A0>\u001b[0m\n",
      "\u001b[32m2025-05-22 21:28:57.966\u001b[0m | \u001b[1mINFO    \u001b[0m | \u001b[36mloopbuilder.build\u001b[0m:\u001b[36mbuild\u001b[0m:\u001b[36m204\u001b[0m - \u001b[1mScored trial model 21 for segment loop_1: {'ramachandran_outliers': 0.5, 'rotamer_outliers': 0.2857, 'cbeta_deviations': 8.0, 'clashscore': 0.0, 'rms_bonds': 0.0246, 'rms_angles': 16.84, 'molprobity_score': 2.58}\u001b[0m\n",
      "\u001b[32m2025-05-22 21:28:57.969\u001b[0m | \u001b[1mINFO    \u001b[0m | \u001b[36mloopbuilder.build\u001b[0m:\u001b[36mbuild\u001b[0m:\u001b[36m208\u001b[0m - \u001b[1mTrial model 21 for segment loop_1 failed filter <function <lambda> at 0x00000253472783A0>\u001b[0m\n",
      "\u001b[32m2025-05-22 21:30:42.232\u001b[0m | \u001b[1mINFO    \u001b[0m | \u001b[36mloopbuilder.build\u001b[0m:\u001b[36mbuild\u001b[0m:\u001b[36m204\u001b[0m - \u001b[1mScored trial model 22 for segment loop_1: {'ramachandran_outliers': 0.5, 'rotamer_outliers': 0.4286, 'cbeta_deviations': 8.0, 'clashscore': 0.0, 'rms_bonds': 0.0218, 'rms_angles': 13.95, 'molprobity_score': 2.79}\u001b[0m\n",
      "\u001b[32m2025-05-22 21:30:42.236\u001b[0m | \u001b[1mINFO    \u001b[0m | \u001b[36mloopbuilder.build\u001b[0m:\u001b[36mbuild\u001b[0m:\u001b[36m208\u001b[0m - \u001b[1mTrial model 22 for segment loop_1 failed filter <function <lambda> at 0x00000253472783A0>\u001b[0m\n",
      "\u001b[32m2025-05-22 21:32:27.959\u001b[0m | \u001b[1mINFO    \u001b[0m | \u001b[36mloopbuilder.build\u001b[0m:\u001b[36mbuild\u001b[0m:\u001b[36m204\u001b[0m - \u001b[1mScored trial model 23 for segment loop_1: {'ramachandran_outliers': 0.5, 'rotamer_outliers': 0.7143, 'cbeta_deviations': 8.0, 'clashscore': 0.0, 'rms_bonds': 0.0224, 'rms_angles': 17.63, 'molprobity_score': 2.95}\u001b[0m\n",
      "\u001b[32m2025-05-22 21:32:27.961\u001b[0m | \u001b[1mINFO    \u001b[0m | \u001b[36mloopbuilder.build\u001b[0m:\u001b[36mbuild\u001b[0m:\u001b[36m208\u001b[0m - \u001b[1mTrial model 23 for segment loop_1 failed filter <function <lambda> at 0x00000253472783A0>\u001b[0m\n",
      "\u001b[32m2025-05-22 21:34:11.336\u001b[0m | \u001b[1mINFO    \u001b[0m | \u001b[36mloopbuilder.build\u001b[0m:\u001b[36mbuild\u001b[0m:\u001b[36m204\u001b[0m - \u001b[1mScored trial model 24 for segment loop_1: {'ramachandran_outliers': 0.6667, 'rotamer_outliers': 0.7143, 'cbeta_deviations': 8.0, 'clashscore': 0.0, 'rms_bonds': 0.0199, 'rms_angles': 13.38, 'molprobity_score': 3.01}\u001b[0m\n",
      "\u001b[32m2025-05-22 21:34:11.339\u001b[0m | \u001b[1mINFO    \u001b[0m | \u001b[36mloopbuilder.build\u001b[0m:\u001b[36mbuild\u001b[0m:\u001b[36m208\u001b[0m - \u001b[1mTrial model 24 for segment loop_1 failed filter <function <lambda> at 0x00000253472783A0>\u001b[0m\n",
      "\u001b[32m2025-05-22 21:35:55.445\u001b[0m | \u001b[1mINFO    \u001b[0m | \u001b[36mloopbuilder.build\u001b[0m:\u001b[36mbuild\u001b[0m:\u001b[36m204\u001b[0m - \u001b[1mScored trial model 25 for segment loop_1: {'ramachandran_outliers': 0.5, 'rotamer_outliers': 0.2857, 'cbeta_deviations': 8.0, 'clashscore': 0.0, 'rms_bonds': 0.0399, 'rms_angles': 21.28, 'molprobity_score': 2.71}\u001b[0m\n",
      "\u001b[32m2025-05-22 21:35:55.449\u001b[0m | \u001b[1mINFO    \u001b[0m | \u001b[36mloopbuilder.build\u001b[0m:\u001b[36mbuild\u001b[0m:\u001b[36m208\u001b[0m - \u001b[1mTrial model 25 for segment loop_1 failed filter <function <lambda> at 0x00000253472783A0>\u001b[0m\n",
      "\u001b[32m2025-05-22 21:37:42.439\u001b[0m | \u001b[1mINFO    \u001b[0m | \u001b[36mloopbuilder.build\u001b[0m:\u001b[36mbuild\u001b[0m:\u001b[36m204\u001b[0m - \u001b[1mScored trial model 26 for segment loop_1: {'ramachandran_outliers': 0.5, 'rotamer_outliers': 0.4286, 'cbeta_deviations': 8.0, 'clashscore': 0.0, 'rms_bonds': 0.0238, 'rms_angles': 17.57, 'molprobity_score': 2.84}\u001b[0m\n",
      "\u001b[32m2025-05-22 21:37:42.446\u001b[0m | \u001b[1mINFO    \u001b[0m | \u001b[36mloopbuilder.build\u001b[0m:\u001b[36mbuild\u001b[0m:\u001b[36m208\u001b[0m - \u001b[1mTrial model 26 for segment loop_1 failed filter <function <lambda> at 0x00000253472783A0>\u001b[0m\n",
      "\u001b[32m2025-05-22 21:39:31.818\u001b[0m | \u001b[1mINFO    \u001b[0m | \u001b[36mloopbuilder.build\u001b[0m:\u001b[36mbuild\u001b[0m:\u001b[36m204\u001b[0m - \u001b[1mScored trial model 27 for segment loop_1: {'ramachandran_outliers': 0.8333, 'rotamer_outliers': 0.2857, 'cbeta_deviations': 8.0, 'clashscore': 0.0, 'rms_bonds': 0.0203, 'rms_angles': 15.0, 'molprobity_score': 2.76}\u001b[0m\n",
      "\u001b[32m2025-05-22 21:39:31.823\u001b[0m | \u001b[1mINFO    \u001b[0m | \u001b[36mloopbuilder.build\u001b[0m:\u001b[36mbuild\u001b[0m:\u001b[36m208\u001b[0m - \u001b[1mTrial model 27 for segment loop_1 failed filter <function <lambda> at 0x00000253472783A0>\u001b[0m\n",
      "\u001b[32m2025-05-22 21:41:11.970\u001b[0m | \u001b[1mINFO    \u001b[0m | \u001b[36mloopbuilder.build\u001b[0m:\u001b[36mbuild\u001b[0m:\u001b[36m204\u001b[0m - \u001b[1mScored trial model 28 for segment loop_1: {'ramachandran_outliers': 0.3333, 'rotamer_outliers': 0.2857, 'cbeta_deviations': 8.0, 'clashscore': 0.0, 'rms_bonds': 0.0399, 'rms_angles': 20.87, 'molprobity_score': 2.71}\u001b[0m\n",
      "\u001b[32m2025-05-22 21:41:11.973\u001b[0m | \u001b[1mINFO    \u001b[0m | \u001b[36mloopbuilder.build\u001b[0m:\u001b[36mbuild\u001b[0m:\u001b[36m208\u001b[0m - \u001b[1mTrial model 28 for segment loop_1 failed filter <function <lambda> at 0x00000253472783A0>\u001b[0m\n",
      "\u001b[32m2025-05-22 21:43:03.684\u001b[0m | \u001b[1mINFO    \u001b[0m | \u001b[36mloopbuilder.build\u001b[0m:\u001b[36mbuild\u001b[0m:\u001b[36m204\u001b[0m - \u001b[1mScored trial model 29 for segment loop_1: {'ramachandran_outliers': 0.3333, 'rotamer_outliers': 0.1429, 'cbeta_deviations': 8.0, 'clashscore': 0.0, 'rms_bonds': 0.0237, 'rms_angles': 15.29, 'molprobity_score': 2.42}\u001b[0m\n",
      "\u001b[32m2025-05-22 21:43:03.687\u001b[0m | \u001b[1mINFO    \u001b[0m | \u001b[36mloopbuilder.build\u001b[0m:\u001b[36mbuild\u001b[0m:\u001b[36m208\u001b[0m - \u001b[1mTrial model 29 for segment loop_1 failed filter <function <lambda> at 0x00000253472783A0>\u001b[0m\n",
      "\u001b[32m2025-05-22 21:44:46.188\u001b[0m | \u001b[1mINFO    \u001b[0m | \u001b[36mloopbuilder.build\u001b[0m:\u001b[36mbuild\u001b[0m:\u001b[36m204\u001b[0m - \u001b[1mScored trial model 30 for segment loop_1: {'ramachandran_outliers': 0.3333, 'rotamer_outliers': 0.2857, 'cbeta_deviations': 8.0, 'clashscore': 0.0, 'rms_bonds': 0.0404, 'rms_angles': 21.37, 'molprobity_score': 2.71}\u001b[0m\n",
      "\u001b[32m2025-05-22 21:44:46.192\u001b[0m | \u001b[1mINFO    \u001b[0m | \u001b[36mloopbuilder.build\u001b[0m:\u001b[36mbuild\u001b[0m:\u001b[36m208\u001b[0m - \u001b[1mTrial model 30 for segment loop_1 failed filter <function <lambda> at 0x00000253472783A0>\u001b[0m\n",
      "\u001b[32m2025-05-22 21:44:46.196\u001b[0m | \u001b[33m\u001b[1mWARNING \u001b[0m | \u001b[36mloopbuilder.build\u001b[0m:\u001b[36mbuild\u001b[0m:\u001b[36m184\u001b[0m - \u001b[33m\u001b[1mReached the maximum number of tries (success_rate=3.33%)\u001b[0m\n",
      "\u001b[32m2025-05-22 21:44:46.211\u001b[0m | \u001b[1mINFO    \u001b[0m | \u001b[36mloopbuilder.build\u001b[0m:\u001b[36mbuild\u001b[0m:\u001b[36m174\u001b[0m - \u001b[1mBuilding models for segment loop_2\u001b[0m\n",
      "\u001b[32m2025-05-22 21:46:31.572\u001b[0m | \u001b[1mINFO    \u001b[0m | \u001b[36mloopbuilder.build\u001b[0m:\u001b[36mbuild\u001b[0m:\u001b[36m204\u001b[0m - \u001b[1mScored trial model 1 for segment loop_2: {'ramachandran_outliers': 0.0, 'rotamer_outliers': 0.0, 'cbeta_deviations': 1.0, 'clashscore': 0.0, 'rms_bonds': 0.0549, 'rms_angles': 36.48, 'molprobity_score': 1.65}\u001b[0m\n",
      "\u001b[32m2025-05-22 21:46:31.578\u001b[0m | \u001b[32m\u001b[1mSUCCESS \u001b[0m | \u001b[36mloopbuilder.build\u001b[0m:\u001b[36mbuild\u001b[0m:\u001b[36m219\u001b[0m - \u001b[32m\u001b[1mBuilt model 1 for segment loop_2\u001b[0m\n",
      "\u001b[32m2025-05-22 21:48:15.375\u001b[0m | \u001b[1mINFO    \u001b[0m | \u001b[36mloopbuilder.build\u001b[0m:\u001b[36mbuild\u001b[0m:\u001b[36m204\u001b[0m - \u001b[1mScored trial model 2 for segment loop_2: {'ramachandran_outliers': 0.0, 'rotamer_outliers': 1.0, 'cbeta_deviations': 1.0, 'clashscore': 0.0, 'rms_bonds': 0.044, 'rms_angles': 20.85, 'molprobity_score': 3.17}\u001b[0m\n",
      "\u001b[32m2025-05-22 21:48:15.386\u001b[0m | \u001b[32m\u001b[1mSUCCESS \u001b[0m | \u001b[36mloopbuilder.build\u001b[0m:\u001b[36mbuild\u001b[0m:\u001b[36m219\u001b[0m - \u001b[32m\u001b[1mBuilt model 2 for segment loop_2\u001b[0m\n",
      "\u001b[32m2025-05-22 21:49:56.546\u001b[0m | \u001b[1mINFO    \u001b[0m | \u001b[36mloopbuilder.build\u001b[0m:\u001b[36mbuild\u001b[0m:\u001b[36m204\u001b[0m - \u001b[1mScored trial model 3 for segment loop_2: {'ramachandran_outliers': 0.0, 'rotamer_outliers': 1.0, 'cbeta_deviations': 1.0, 'clashscore': 0.0, 'rms_bonds': 0.0413, 'rms_angles': 18.58, 'molprobity_score': 3.17}\u001b[0m\n",
      "\u001b[32m2025-05-22 21:49:56.552\u001b[0m | \u001b[32m\u001b[1mSUCCESS \u001b[0m | \u001b[36mloopbuilder.build\u001b[0m:\u001b[36mbuild\u001b[0m:\u001b[36m219\u001b[0m - \u001b[32m\u001b[1mBuilt model 3 for segment loop_2\u001b[0m\n",
      "\u001b[32m2025-05-22 21:49:56.554\u001b[0m | \u001b[32m\u001b[1mSUCCESS \u001b[0m | \u001b[36mloopbuilder.build\u001b[0m:\u001b[36mbuild\u001b[0m:\u001b[36m180\u001b[0m - \u001b[32m\u001b[1mReached the target number of models (success_rate=100.00%)\u001b[0m\n",
      "\u001b[32m2025-05-22 21:49:56.566\u001b[0m | \u001b[1mINFO    \u001b[0m | \u001b[36mloopbuilder.build\u001b[0m:\u001b[36mbuild\u001b[0m:\u001b[36m174\u001b[0m - \u001b[1mBuilding models for segment loop_3\u001b[0m\n",
      "\u001b[32m2025-05-22 21:51:42.968\u001b[0m | \u001b[1mINFO    \u001b[0m | \u001b[36mloopbuilder.build\u001b[0m:\u001b[36mbuild\u001b[0m:\u001b[36m204\u001b[0m - \u001b[1mScored trial model 1 for segment loop_3: {'ramachandran_outliers': 0.0, 'rotamer_outliers': 0.5, 'cbeta_deviations': 4.0, 'clashscore': 0.0, 'rms_bonds': 0.0244, 'rms_angles': 16.56, 'molprobity_score': 2.76}\u001b[0m\n",
      "\u001b[32m2025-05-22 21:51:42.976\u001b[0m | \u001b[32m\u001b[1mSUCCESS \u001b[0m | \u001b[36mloopbuilder.build\u001b[0m:\u001b[36mbuild\u001b[0m:\u001b[36m219\u001b[0m - \u001b[32m\u001b[1mBuilt model 1 for segment loop_3\u001b[0m\n",
      "\u001b[32m2025-05-22 21:53:24.336\u001b[0m | \u001b[1mINFO    \u001b[0m | \u001b[36mloopbuilder.build\u001b[0m:\u001b[36mbuild\u001b[0m:\u001b[36m204\u001b[0m - \u001b[1mScored trial model 2 for segment loop_3: {'ramachandran_outliers': 1.0, 'rotamer_outliers': 0.5, 'cbeta_deviations': 4.0, 'clashscore': 0.0, 'rms_bonds': 0.0341, 'rms_angles': 12.05, 'molprobity_score': 2.94}\u001b[0m\n",
      "\u001b[32m2025-05-22 21:53:24.339\u001b[0m | \u001b[1mINFO    \u001b[0m | \u001b[36mloopbuilder.build\u001b[0m:\u001b[36mbuild\u001b[0m:\u001b[36m208\u001b[0m - \u001b[1mTrial model 2 for segment loop_3 failed filter <function <lambda> at 0x00000253472783A0>\u001b[0m\n",
      "\u001b[32m2025-05-22 21:55:05.363\u001b[0m | \u001b[1mINFO    \u001b[0m | \u001b[36mloopbuilder.build\u001b[0m:\u001b[36mbuild\u001b[0m:\u001b[36m204\u001b[0m - \u001b[1mScored trial model 3 for segment loop_3: {'ramachandran_outliers': 0.5, 'rotamer_outliers': 0.25, 'cbeta_deviations': 4.0, 'clashscore': 0.0, 'rms_bonds': 0.0321, 'rms_angles': 14.92, 'molprobity_score': 2.54}\u001b[0m\n",
      "\u001b[32m2025-05-22 21:55:05.364\u001b[0m | \u001b[1mINFO    \u001b[0m | \u001b[36mloopbuilder.build\u001b[0m:\u001b[36mbuild\u001b[0m:\u001b[36m208\u001b[0m - \u001b[1mTrial model 3 for segment loop_3 failed filter <function <lambda> at 0x00000253472783A0>\u001b[0m\n",
      "\u001b[32m2025-05-22 21:56:46.146\u001b[0m | \u001b[1mINFO    \u001b[0m | \u001b[36mloopbuilder.build\u001b[0m:\u001b[36mbuild\u001b[0m:\u001b[36m204\u001b[0m - \u001b[1mScored trial model 4 for segment loop_3: {'ramachandran_outliers': 1.0, 'rotamer_outliers': 0.5, 'cbeta_deviations': 4.0, 'clashscore': 0.0, 'rms_bonds': 0.034, 'rms_angles': 19.42, 'molprobity_score': 2.94}\u001b[0m\n",
      "\u001b[32m2025-05-22 21:56:46.149\u001b[0m | \u001b[1mINFO    \u001b[0m | \u001b[36mloopbuilder.build\u001b[0m:\u001b[36mbuild\u001b[0m:\u001b[36m208\u001b[0m - \u001b[1mTrial model 4 for segment loop_3 failed filter <function <lambda> at 0x00000253472783A0>\u001b[0m\n",
      "\u001b[32m2025-05-22 21:58:54.914\u001b[0m | \u001b[1mINFO    \u001b[0m | \u001b[36mloopbuilder.build\u001b[0m:\u001b[36mbuild\u001b[0m:\u001b[36m204\u001b[0m - \u001b[1mScored trial model 5 for segment loop_3: {'ramachandran_outliers': 1.0, 'rotamer_outliers': 0.25, 'cbeta_deviations': 4.0, 'clashscore': 0.0, 'rms_bonds': 0.0482, 'rms_angles': 18.25, 'molprobity_score': 2.71}\u001b[0m\n",
      "\u001b[32m2025-05-22 21:58:54.962\u001b[0m | \u001b[1mINFO    \u001b[0m | \u001b[36mloopbuilder.build\u001b[0m:\u001b[36mbuild\u001b[0m:\u001b[36m208\u001b[0m - \u001b[1mTrial model 5 for segment loop_3 failed filter <function <lambda> at 0x00000253472783A0>\u001b[0m\n",
      "\u001b[32m2025-05-22 22:01:08.196\u001b[0m | \u001b[1mINFO    \u001b[0m | \u001b[36mloopbuilder.build\u001b[0m:\u001b[36mbuild\u001b[0m:\u001b[36m204\u001b[0m - \u001b[1mScored trial model 6 for segment loop_3: {'ramachandran_outliers': 0.5, 'rotamer_outliers': 0.25, 'cbeta_deviations': 4.0, 'clashscore': 0.0, 'rms_bonds': 0.0275, 'rms_angles': 17.89, 'molprobity_score': 2.71}\u001b[0m\n",
      "\u001b[32m2025-05-22 22:01:08.198\u001b[0m | \u001b[1mINFO    \u001b[0m | \u001b[36mloopbuilder.build\u001b[0m:\u001b[36mbuild\u001b[0m:\u001b[36m208\u001b[0m - \u001b[1mTrial model 6 for segment loop_3 failed filter <function <lambda> at 0x00000253472783A0>\u001b[0m\n",
      "\u001b[32m2025-05-22 22:03:06.877\u001b[0m | \u001b[1mINFO    \u001b[0m | \u001b[36mloopbuilder.build\u001b[0m:\u001b[36mbuild\u001b[0m:\u001b[36m204\u001b[0m - \u001b[1mScored trial model 7 for segment loop_3: {'ramachandran_outliers': 0.0, 'rotamer_outliers': 0.5, 'cbeta_deviations': 4.0, 'clashscore': 0.0, 'rms_bonds': 0.0324, 'rms_angles': 14.0, 'molprobity_score': 2.76}\u001b[0m\n",
      "\u001b[32m2025-05-22 22:03:06.888\u001b[0m | \u001b[32m\u001b[1mSUCCESS \u001b[0m | \u001b[36mloopbuilder.build\u001b[0m:\u001b[36mbuild\u001b[0m:\u001b[36m219\u001b[0m - \u001b[32m\u001b[1mBuilt model 2 for segment loop_3\u001b[0m\n",
      "\u001b[32m2025-05-22 22:05:19.143\u001b[0m | \u001b[1mINFO    \u001b[0m | \u001b[36mloopbuilder.build\u001b[0m:\u001b[36mbuild\u001b[0m:\u001b[36m204\u001b[0m - \u001b[1mScored trial model 8 for segment loop_3: {'ramachandran_outliers': 0.0, 'rotamer_outliers': 0.5, 'cbeta_deviations': 4.0, 'clashscore': 0.0, 'rms_bonds': 0.0269, 'rms_angles': 12.69, 'molprobity_score': 1.79}\u001b[0m\n",
      "\u001b[32m2025-05-22 22:05:19.154\u001b[0m | \u001b[32m\u001b[1mSUCCESS \u001b[0m | \u001b[36mloopbuilder.build\u001b[0m:\u001b[36mbuild\u001b[0m:\u001b[36m219\u001b[0m - \u001b[32m\u001b[1mBuilt model 3 for segment loop_3\u001b[0m\n",
      "\u001b[32m2025-05-22 22:05:19.157\u001b[0m | \u001b[32m\u001b[1mSUCCESS \u001b[0m | \u001b[36mloopbuilder.build\u001b[0m:\u001b[36mbuild\u001b[0m:\u001b[36m180\u001b[0m - \u001b[32m\u001b[1mReached the target number of models (success_rate=37.50%)\u001b[0m\n",
      "\u001b[32m2025-05-22 22:05:19.191\u001b[0m | \u001b[1mINFO    \u001b[0m | \u001b[36mloopbuilder.build\u001b[0m:\u001b[36mbuild\u001b[0m:\u001b[36m174\u001b[0m - \u001b[1mBuilding models for segment loop_4\u001b[0m\n",
      "\u001b[32m2025-05-22 22:07:34.655\u001b[0m | \u001b[1mINFO    \u001b[0m | \u001b[36mloopbuilder.build\u001b[0m:\u001b[36mbuild\u001b[0m:\u001b[36m204\u001b[0m - \u001b[1mScored trial model 1 for segment loop_4: {'ramachandran_outliers': 0.0, 'rotamer_outliers': 0.6667, 'cbeta_deviations': 4.0, 'clashscore': 0.0, 'rms_bonds': 0.0286, 'rms_angles': 20.87, 'molprobity_score': 2.86}\u001b[0m\n",
      "\u001b[32m2025-05-22 22:07:34.662\u001b[0m | \u001b[32m\u001b[1mSUCCESS \u001b[0m | \u001b[36mloopbuilder.build\u001b[0m:\u001b[36mbuild\u001b[0m:\u001b[36m219\u001b[0m - \u001b[32m\u001b[1mBuilt model 1 for segment loop_4\u001b[0m\n",
      "\u001b[32m2025-05-22 22:09:55.548\u001b[0m | \u001b[1mINFO    \u001b[0m | \u001b[36mloopbuilder.build\u001b[0m:\u001b[36mbuild\u001b[0m:\u001b[36m204\u001b[0m - \u001b[1mScored trial model 2 for segment loop_4: {'ramachandran_outliers': 0.0, 'rotamer_outliers': 0.6667, 'cbeta_deviations': 4.0, 'clashscore': 0.0, 'rms_bonds': 0.0275, 'rms_angles': 21.59, 'molprobity_score': 2.86}\u001b[0m\n",
      "\u001b[32m2025-05-22 22:09:55.572\u001b[0m | \u001b[32m\u001b[1mSUCCESS \u001b[0m | \u001b[36mloopbuilder.build\u001b[0m:\u001b[36mbuild\u001b[0m:\u001b[36m219\u001b[0m - \u001b[32m\u001b[1mBuilt model 2 for segment loop_4\u001b[0m\n",
      "\u001b[32m2025-05-22 22:11:59.530\u001b[0m | \u001b[1mINFO    \u001b[0m | \u001b[36mloopbuilder.build\u001b[0m:\u001b[36mbuild\u001b[0m:\u001b[36m204\u001b[0m - \u001b[1mScored trial model 3 for segment loop_4: {'ramachandran_outliers': 0.5, 'rotamer_outliers': 0.6667, 'cbeta_deviations': 4.0, 'clashscore': 0.0, 'rms_bonds': 0.0801, 'rms_angles': 25.22, 'molprobity_score': 2.86}\u001b[0m\n",
      "\u001b[32m2025-05-22 22:11:59.537\u001b[0m | \u001b[1mINFO    \u001b[0m | \u001b[36mloopbuilder.build\u001b[0m:\u001b[36mbuild\u001b[0m:\u001b[36m208\u001b[0m - \u001b[1mTrial model 3 for segment loop_4 failed filter <function <lambda> at 0x00000253472783A0>\u001b[0m\n",
      "\u001b[32m2025-05-22 22:14:08.119\u001b[0m | \u001b[1mINFO    \u001b[0m | \u001b[36mloopbuilder.build\u001b[0m:\u001b[36mbuild\u001b[0m:\u001b[36m204\u001b[0m - \u001b[1mScored trial model 4 for segment loop_4: {'ramachandran_outliers': 1.0, 'rotamer_outliers': 0.6667, 'cbeta_deviations': 4.0, 'clashscore': 0.0, 'rms_bonds': 0.0354, 'rms_angles': 24.55, 'molprobity_score': 3.03}\u001b[0m\n",
      "\u001b[32m2025-05-22 22:14:08.136\u001b[0m | \u001b[1mINFO    \u001b[0m | \u001b[36mloopbuilder.build\u001b[0m:\u001b[36mbuild\u001b[0m:\u001b[36m208\u001b[0m - \u001b[1mTrial model 4 for segment loop_4 failed filter <function <lambda> at 0x00000253472783A0>\u001b[0m\n",
      "\u001b[32m2025-05-22 22:16:18.710\u001b[0m | \u001b[1mINFO    \u001b[0m | \u001b[36mloopbuilder.build\u001b[0m:\u001b[36mbuild\u001b[0m:\u001b[36m204\u001b[0m - \u001b[1mScored trial model 5 for segment loop_4: {'ramachandran_outliers': 1.0, 'rotamer_outliers': 1.0, 'cbeta_deviations': 4.0, 'clashscore': 0.0, 'rms_bonds': 0.0376, 'rms_angles': 30.47, 'molprobity_score': 3.17}\u001b[0m\n",
      "\u001b[32m2025-05-22 22:16:18.714\u001b[0m | \u001b[1mINFO    \u001b[0m | \u001b[36mloopbuilder.build\u001b[0m:\u001b[36mbuild\u001b[0m:\u001b[36m208\u001b[0m - \u001b[1mTrial model 5 for segment loop_4 failed filter <function <lambda> at 0x00000253472783A0>\u001b[0m\n",
      "\u001b[32m2025-05-22 22:18:35.651\u001b[0m | \u001b[1mINFO    \u001b[0m | \u001b[36mloopbuilder.build\u001b[0m:\u001b[36mbuild\u001b[0m:\u001b[36m204\u001b[0m - \u001b[1mScored trial model 6 for segment loop_4: {'ramachandran_outliers': 1.0, 'rotamer_outliers': 0.6667, 'cbeta_deviations': 4.0, 'clashscore': 0.0, 'rms_bonds': 0.0411, 'rms_angles': 27.62, 'molprobity_score': 3.03}\u001b[0m\n",
      "\u001b[32m2025-05-22 22:18:35.660\u001b[0m | \u001b[1mINFO    \u001b[0m | \u001b[36mloopbuilder.build\u001b[0m:\u001b[36mbuild\u001b[0m:\u001b[36m208\u001b[0m - \u001b[1mTrial model 6 for segment loop_4 failed filter <function <lambda> at 0x00000253472783A0>\u001b[0m\n",
      "\u001b[32m2025-05-22 22:21:01.626\u001b[0m | \u001b[1mINFO    \u001b[0m | \u001b[36mloopbuilder.build\u001b[0m:\u001b[36mbuild\u001b[0m:\u001b[36m204\u001b[0m - \u001b[1mScored trial model 7 for segment loop_4: {'ramachandran_outliers': 0.5, 'rotamer_outliers': 0.6667, 'cbeta_deviations': 4.0, 'clashscore': 0.0, 'rms_bonds': 0.0801, 'rms_angles': 25.22, 'molprobity_score': 2.86}\u001b[0m\n",
      "\u001b[32m2025-05-22 22:21:01.643\u001b[0m | \u001b[1mINFO    \u001b[0m | \u001b[36mloopbuilder.build\u001b[0m:\u001b[36mbuild\u001b[0m:\u001b[36m208\u001b[0m - \u001b[1mTrial model 7 for segment loop_4 failed filter <function <lambda> at 0x00000253472783A0>\u001b[0m\n",
      "\u001b[32m2025-05-22 22:23:25.562\u001b[0m | \u001b[1mINFO    \u001b[0m | \u001b[36mloopbuilder.build\u001b[0m:\u001b[36mbuild\u001b[0m:\u001b[36m204\u001b[0m - \u001b[1mScored trial model 8 for segment loop_4: {'ramachandran_outliers': 0.5, 'rotamer_outliers': 0.6667, 'cbeta_deviations': 4.0, 'clashscore': 0.0, 'rms_bonds': 0.0389, 'rms_angles': 19.15, 'molprobity_score': 2.86}\u001b[0m\n",
      "\u001b[32m2025-05-22 22:23:25.569\u001b[0m | \u001b[1mINFO    \u001b[0m | \u001b[36mloopbuilder.build\u001b[0m:\u001b[36mbuild\u001b[0m:\u001b[36m208\u001b[0m - \u001b[1mTrial model 8 for segment loop_4 failed filter <function <lambda> at 0x00000253472783A0>\u001b[0m\n",
      "\u001b[32m2025-05-22 22:25:38.048\u001b[0m | \u001b[1mINFO    \u001b[0m | \u001b[36mloopbuilder.build\u001b[0m:\u001b[36mbuild\u001b[0m:\u001b[36m204\u001b[0m - \u001b[1mScored trial model 9 for segment loop_4: {'ramachandran_outliers': 0.0, 'rotamer_outliers': 0.6667, 'cbeta_deviations': 4.0, 'clashscore': 0.0, 'rms_bonds': 0.0354, 'rms_angles': 21.54, 'molprobity_score': 3.03}\u001b[0m\n",
      "\u001b[32m2025-05-22 22:25:38.062\u001b[0m | \u001b[32m\u001b[1mSUCCESS \u001b[0m | \u001b[36mloopbuilder.build\u001b[0m:\u001b[36mbuild\u001b[0m:\u001b[36m219\u001b[0m - \u001b[32m\u001b[1mBuilt model 3 for segment loop_4\u001b[0m\n",
      "\u001b[32m2025-05-22 22:25:38.065\u001b[0m | \u001b[32m\u001b[1mSUCCESS \u001b[0m | \u001b[36mloopbuilder.build\u001b[0m:\u001b[36mbuild\u001b[0m:\u001b[36m180\u001b[0m - \u001b[32m\u001b[1mReached the target number of models (success_rate=33.33%)\u001b[0m\n",
      "\u001b[32m2025-05-22 22:25:38.105\u001b[0m | \u001b[1mINFO    \u001b[0m | \u001b[36mloopbuilder.build\u001b[0m:\u001b[36mbuild\u001b[0m:\u001b[36m174\u001b[0m - \u001b[1mBuilding models for segment loop_5\u001b[0m\n",
      "\u001b[32m2025-05-22 22:28:05.111\u001b[0m | \u001b[1mINFO    \u001b[0m | \u001b[36mloopbuilder.build\u001b[0m:\u001b[36mbuild\u001b[0m:\u001b[36m204\u001b[0m - \u001b[1mScored trial model 1 for segment loop_5: {'ramachandran_outliers': 0.5714, 'rotamer_outliers': 0.2857, 'cbeta_deviations': 8.0, 'clashscore': 0.0, 'rms_bonds': 0.024, 'rms_angles': 19.04, 'molprobity_score': 2.76}\u001b[0m\n",
      "\u001b[32m2025-05-22 22:28:05.125\u001b[0m | \u001b[1mINFO    \u001b[0m | \u001b[36mloopbuilder.build\u001b[0m:\u001b[36mbuild\u001b[0m:\u001b[36m208\u001b[0m - \u001b[1mTrial model 1 for segment loop_5 failed filter <function <lambda> at 0x00000253472783A0>\u001b[0m\n",
      "\u001b[32m2025-05-22 22:30:12.631\u001b[0m | \u001b[1mINFO    \u001b[0m | \u001b[36mloopbuilder.build\u001b[0m:\u001b[36mbuild\u001b[0m:\u001b[36m204\u001b[0m - \u001b[1mScored trial model 2 for segment loop_5: {'ramachandran_outliers': 0.5714, 'rotamer_outliers': 0.4286, 'cbeta_deviations': 8.0, 'clashscore': 0.0, 'rms_bonds': 0.0275, 'rms_angles': 19.19, 'molprobity_score': 2.85}\u001b[0m\n",
      "\u001b[32m2025-05-22 22:30:12.636\u001b[0m | \u001b[1mINFO    \u001b[0m | \u001b[36mloopbuilder.build\u001b[0m:\u001b[36mbuild\u001b[0m:\u001b[36m208\u001b[0m - \u001b[1mTrial model 2 for segment loop_5 failed filter <function <lambda> at 0x00000253472783A0>\u001b[0m\n",
      "\u001b[32m2025-05-22 22:32:13.065\u001b[0m | \u001b[1mINFO    \u001b[0m | \u001b[36mloopbuilder.build\u001b[0m:\u001b[36mbuild\u001b[0m:\u001b[36m204\u001b[0m - \u001b[1mScored trial model 3 for segment loop_5: {'ramachandran_outliers': 0.5714, 'rotamer_outliers': 0.7143, 'cbeta_deviations': 8.0, 'clashscore': 0.0, 'rms_bonds': 0.0243, 'rms_angles': 17.5, 'molprobity_score': 2.97}\u001b[0m\n",
      "\u001b[32m2025-05-22 22:32:13.069\u001b[0m | \u001b[1mINFO    \u001b[0m | \u001b[36mloopbuilder.build\u001b[0m:\u001b[36mbuild\u001b[0m:\u001b[36m208\u001b[0m - \u001b[1mTrial model 3 for segment loop_5 failed filter <function <lambda> at 0x00000253472783A0>\u001b[0m\n",
      "\u001b[32m2025-05-22 22:34:39.997\u001b[0m | \u001b[1mINFO    \u001b[0m | \u001b[36mloopbuilder.build\u001b[0m:\u001b[36mbuild\u001b[0m:\u001b[36m204\u001b[0m - \u001b[1mScored trial model 4 for segment loop_5: {'ramachandran_outliers': 0.8571, 'rotamer_outliers': 0.5714, 'cbeta_deviations': 8.0, 'clashscore': 0.0, 'rms_bonds': 0.0294, 'rms_angles': 18.57, 'molprobity_score': 2.94}\u001b[0m\n",
      "\u001b[32m2025-05-22 22:34:40.009\u001b[0m | \u001b[1mINFO    \u001b[0m | \u001b[36mloopbuilder.build\u001b[0m:\u001b[36mbuild\u001b[0m:\u001b[36m208\u001b[0m - \u001b[1mTrial model 4 for segment loop_5 failed filter <function <lambda> at 0x00000253472783A0>\u001b[0m\n",
      "\u001b[32m2025-05-22 22:37:45.171\u001b[0m | \u001b[1mINFO    \u001b[0m | \u001b[36mloopbuilder.build\u001b[0m:\u001b[36mbuild\u001b[0m:\u001b[36m204\u001b[0m - \u001b[1mScored trial model 5 for segment loop_5: {'ramachandran_outliers': 0.8571, 'rotamer_outliers': 0.2857, 'cbeta_deviations': 8.0, 'clashscore': 0.0, 'rms_bonds': 0.0213, 'rms_angles': 15.58, 'molprobity_score': 2.72}\u001b[0m\n",
      "\u001b[32m2025-05-22 22:37:45.179\u001b[0m | \u001b[1mINFO    \u001b[0m | \u001b[36mloopbuilder.build\u001b[0m:\u001b[36mbuild\u001b[0m:\u001b[36m208\u001b[0m - \u001b[1mTrial model 5 for segment loop_5 failed filter <function <lambda> at 0x00000253472783A0>\u001b[0m\n",
      "\u001b[32m2025-05-22 22:40:24.186\u001b[0m | \u001b[1mINFO    \u001b[0m | \u001b[36mloopbuilder.build\u001b[0m:\u001b[36mbuild\u001b[0m:\u001b[36m204\u001b[0m - \u001b[1mScored trial model 6 for segment loop_5: {'ramachandran_outliers': 0.5714, 'rotamer_outliers': 0.7143, 'cbeta_deviations': 8.0, 'clashscore': 0.0, 'rms_bonds': 0.0372, 'rms_angles': 21.62, 'molprobity_score': 3.02}\u001b[0m\n",
      "\u001b[32m2025-05-22 22:40:24.191\u001b[0m | \u001b[1mINFO    \u001b[0m | \u001b[36mloopbuilder.build\u001b[0m:\u001b[36mbuild\u001b[0m:\u001b[36m208\u001b[0m - \u001b[1mTrial model 6 for segment loop_5 failed filter <function <lambda> at 0x00000253472783A0>\u001b[0m\n",
      "\u001b[32m2025-05-22 22:42:49.342\u001b[0m | \u001b[1mINFO    \u001b[0m | \u001b[36mloopbuilder.build\u001b[0m:\u001b[36mbuild\u001b[0m:\u001b[36m204\u001b[0m - \u001b[1mScored trial model 7 for segment loop_5: {'ramachandran_outliers': 0.4286, 'rotamer_outliers': 0.5714, 'cbeta_deviations': 8.0, 'clashscore': 0.0, 'rms_bonds': 0.0241, 'rms_angles': 19.54, 'molprobity_score': 2.94}\u001b[0m\n",
      "\u001b[32m2025-05-22 22:42:49.387\u001b[0m | \u001b[1mINFO    \u001b[0m | \u001b[36mloopbuilder.build\u001b[0m:\u001b[36mbuild\u001b[0m:\u001b[36m208\u001b[0m - \u001b[1mTrial model 7 for segment loop_5 failed filter <function <lambda> at 0x00000253472783A0>\u001b[0m\n"
     ]
    },
    {
     "ename": "KeyboardInterrupt",
     "evalue": "",
     "output_type": "error",
     "traceback": [
      "\u001b[1;31m---------------------------------------------------------------------------\u001b[0m",
      "\u001b[1;31mKeyboardInterrupt\u001b[0m                         Traceback (most recent call last)",
      "\u001b[1;32m~\\AppData\\Local\\Temp\\ipykernel_18244\\1860336120.py\u001b[0m in \u001b[0;36m?\u001b[1;34m()\u001b[0m\n\u001b[0;32m      6\u001b[0m     \u001b[1;31m# NOTE: That's a pretty low bar but let's just use this to generate a few results\u001b[0m\u001b[1;33m\u001b[0m\u001b[1;33m\u001b[0m\u001b[0m\n\u001b[0;32m      7\u001b[0m     \u001b[1;31m#    A stricter filter would be: filters=[lambda x: x.scores.get(\"molprobity_score\", 1) <= 1],\u001b[0m\u001b[1;33m\u001b[0m\u001b[1;33m\u001b[0m\u001b[0m\n\u001b[0;32m      8\u001b[0m     \u001b[0mworking_directory\u001b[0m\u001b[1;33m=\u001b[0m\u001b[0mPROJECT_ROOT\u001b[0m \u001b[1;33m/\u001b[0m \u001b[1;34m\"sandbox/PDBFixer/tmp\"\u001b[0m\u001b[1;33m,\u001b[0m\u001b[1;33m\u001b[0m\u001b[1;33m\u001b[0m\u001b[0m\n\u001b[0;32m      9\u001b[0m )\n\u001b[1;32m---> 10\u001b[1;33m \u001b[0mbuilder\u001b[0m\u001b[1;33m.\u001b[0m\u001b[0mbuild\u001b[0m\u001b[1;33m(\u001b[0m\u001b[0mn\u001b[0m\u001b[1;33m=\u001b[0m\u001b[1;36m3\u001b[0m\u001b[1;33m)\u001b[0m\u001b[1;33m\u001b[0m\u001b[1;33m\u001b[0m\u001b[0m\n\u001b[0m",
      "\u001b[1;32m~\\GitHub\\LoopBuilder\\src\\loopbuilder\\build.py\u001b[0m in \u001b[0;36m?\u001b[1;34m(self, n, max_tries)\u001b[0m\n\u001b[0;32m    184\u001b[0m                     \u001b[0mlogger\u001b[0m\u001b[1;33m.\u001b[0m\u001b[0mwarning\u001b[0m\u001b[1;33m(\u001b[0m\u001b[1;34mf\"Reached the maximum number of tries (success_rate={n_success / n_tries:.2%})\"\u001b[0m\u001b[1;33m)\u001b[0m\u001b[1;33m\u001b[0m\u001b[1;33m\u001b[0m\u001b[0m\n\u001b[0;32m    185\u001b[0m                     \u001b[1;32mbreak\u001b[0m\u001b[1;33m\u001b[0m\u001b[1;33m\u001b[0m\u001b[0m\n\u001b[0;32m    186\u001b[0m \u001b[1;33m\u001b[0m\u001b[0m\n\u001b[0;32m    187\u001b[0m                 \u001b[0mn_tries\u001b[0m \u001b[1;33m+=\u001b[0m \u001b[1;36m1\u001b[0m\u001b[1;33m\u001b[0m\u001b[1;33m\u001b[0m\u001b[0m\n\u001b[1;32m--> 188\u001b[1;33m                 \u001b[0msegment_model\u001b[0m \u001b[1;33m=\u001b[0m \u001b[0mself\u001b[0m\u001b[1;33m.\u001b[0m\u001b[0mbuild_segment\u001b[0m\u001b[1;33m(\u001b[0m\u001b[0msegment\u001b[0m\u001b[1;33m,\u001b[0m \u001b[0mtrial_id\u001b[0m\u001b[1;33m=\u001b[0m\u001b[0mstr\u001b[0m\u001b[1;33m(\u001b[0m\u001b[0mn_tries\u001b[0m\u001b[1;33m)\u001b[0m\u001b[1;33m,\u001b[0m \u001b[0mworking_directory\u001b[0m\u001b[1;33m=\u001b[0m\u001b[0mworking_directory\u001b[0m\u001b[1;33m)\u001b[0m\u001b[1;33m\u001b[0m\u001b[1;33m\u001b[0m\u001b[0m\n\u001b[0m\u001b[0;32m    189\u001b[0m \u001b[1;33m\u001b[0m\u001b[0m\n\u001b[0;32m    190\u001b[0m                 \u001b[0msegment_start\u001b[0m \u001b[1;33m=\u001b[0m \u001b[0msegment\u001b[0m\u001b[1;33m.\u001b[0m\u001b[0mresidue_start_seqid\u001b[0m\u001b[1;33m\u001b[0m\u001b[1;33m\u001b[0m\u001b[0m\n\u001b[0;32m    191\u001b[0m                 \u001b[0msegment_end\u001b[0m \u001b[1;33m=\u001b[0m \u001b[0msegment_start\u001b[0m \u001b[1;33m+\u001b[0m \u001b[0mlen\u001b[0m\u001b[1;33m(\u001b[0m\u001b[0msegment\u001b[0m\u001b[1;33m)\u001b[0m \u001b[1;33m-\u001b[0m \u001b[1;36m1\u001b[0m\u001b[1;33m\u001b[0m\u001b[1;33m\u001b[0m\u001b[0m\n",
      "\u001b[1;32m~\\GitHub\\LoopBuilder\\src\\loopbuilder\\build.py\u001b[0m in \u001b[0;36m?\u001b[1;34m(self, segment, trial_id, working_directory)\u001b[0m\n",
      "\u001b[1;32mc:\\Users\\janoj\\mambaforge\\envs\\LoopBuilder\\lib\\site-packages\\pdbfixer\\pdbfixer.py\u001b[0m in \u001b[0;36m?\u001b[1;34m(self, seed)\u001b[0m\n\u001b[0;32m   1283\u001b[0m             \u001b[0mintegrator\u001b[0m \u001b[1;33m=\u001b[0m \u001b[0mmm\u001b[0m\u001b[1;33m.\u001b[0m\u001b[0mLangevinIntegrator\u001b[0m\u001b[1;33m(\u001b[0m\u001b[1;36m300\u001b[0m\u001b[1;33m*\u001b[0m\u001b[0munit\u001b[0m\u001b[1;33m.\u001b[0m\u001b[0mkelvin\u001b[0m\u001b[1;33m,\u001b[0m \u001b[1;36m10\u001b[0m\u001b[1;33m/\u001b[0m\u001b[0munit\u001b[0m\u001b[1;33m.\u001b[0m\u001b[0mpicosecond\u001b[0m\u001b[1;33m,\u001b[0m \u001b[1;36m5\u001b[0m\u001b[1;33m*\u001b[0m\u001b[0munit\u001b[0m\u001b[1;33m.\u001b[0m\u001b[0mfemtosecond\u001b[0m\u001b[1;33m)\u001b[0m\u001b[1;33m\u001b[0m\u001b[1;33m\u001b[0m\u001b[0m\n\u001b[0;32m   1284\u001b[0m             \u001b[1;32mif\u001b[0m \u001b[0mseed\u001b[0m \u001b[1;32mis\u001b[0m \u001b[1;32mnot\u001b[0m \u001b[1;32mNone\u001b[0m\u001b[1;33m:\u001b[0m\u001b[1;33m\u001b[0m\u001b[1;33m\u001b[0m\u001b[0m\n\u001b[0;32m   1285\u001b[0m                 \u001b[0mintegrator\u001b[0m\u001b[1;33m.\u001b[0m\u001b[0msetRandomNumberSeed\u001b[0m\u001b[1;33m(\u001b[0m\u001b[0mseed\u001b[0m\u001b[1;33m)\u001b[0m\u001b[1;33m\u001b[0m\u001b[1;33m\u001b[0m\u001b[0m\n\u001b[0;32m   1286\u001b[0m             \u001b[1;32mif\u001b[0m \u001b[0mself\u001b[0m\u001b[1;33m.\u001b[0m\u001b[0mplatform\u001b[0m \u001b[1;32mis\u001b[0m \u001b[1;32mNone\u001b[0m\u001b[1;33m:\u001b[0m\u001b[1;33m\u001b[0m\u001b[1;33m\u001b[0m\u001b[0m\n\u001b[1;32m-> 1287\u001b[1;33m                 \u001b[0mcontext\u001b[0m \u001b[1;33m=\u001b[0m \u001b[0mmm\u001b[0m\u001b[1;33m.\u001b[0m\u001b[0mContext\u001b[0m\u001b[1;33m(\u001b[0m\u001b[0msystem\u001b[0m\u001b[1;33m,\u001b[0m \u001b[0mintegrator\u001b[0m\u001b[1;33m)\u001b[0m\u001b[1;33m\u001b[0m\u001b[1;33m\u001b[0m\u001b[0m\n\u001b[0m\u001b[0;32m   1288\u001b[0m             \u001b[1;32melse\u001b[0m\u001b[1;33m:\u001b[0m\u001b[1;33m\u001b[0m\u001b[1;33m\u001b[0m\u001b[0m\n\u001b[0;32m   1289\u001b[0m                 \u001b[0mcontext\u001b[0m \u001b[1;33m=\u001b[0m \u001b[0mmm\u001b[0m\u001b[1;33m.\u001b[0m\u001b[0mContext\u001b[0m\u001b[1;33m(\u001b[0m\u001b[0msystem\u001b[0m\u001b[1;33m,\u001b[0m \u001b[0mintegrator\u001b[0m\u001b[1;33m,\u001b[0m \u001b[0mself\u001b[0m\u001b[1;33m.\u001b[0m\u001b[0mplatform\u001b[0m\u001b[1;33m)\u001b[0m\u001b[1;33m\u001b[0m\u001b[1;33m\u001b[0m\u001b[0m\n\u001b[0;32m   1290\u001b[0m             \u001b[0mcontext\u001b[0m\u001b[1;33m.\u001b[0m\u001b[0msetPositions\u001b[0m\u001b[1;33m(\u001b[0m\u001b[0mnewPositions\u001b[0m\u001b[1;33m)\u001b[0m\u001b[1;33m\u001b[0m\u001b[1;33m\u001b[0m\u001b[0m\n",
      "\u001b[1;32mc:\\Users\\janoj\\mambaforge\\envs\\LoopBuilder\\lib\\site-packages\\openmm\\openmm.py\u001b[0m in \u001b[0;36m?\u001b[1;34m(self, *args)\u001b[0m\n\u001b[0;32m   5078\u001b[0m             \u001b[0mthe\u001b[0m \u001b[0mPlatform\u001b[0m \u001b[0mto\u001b[0m \u001b[0muse\u001b[0m \u001b[1;32mfor\u001b[0m \u001b[0mcalculations\u001b[0m\u001b[1;33m\u001b[0m\u001b[1;33m\u001b[0m\u001b[0m\n\u001b[0;32m   5079\u001b[0m         \u001b[0mproperties\u001b[0m \u001b[1;33m:\u001b[0m \u001b[0mmap\u001b[0m\u001b[1;33m<\u001b[0m \u001b[0mstd\u001b[0m\u001b[1;33m:\u001b[0m\u001b[1;33m:\u001b[0m\u001b[0mstring\u001b[0m\u001b[1;33m,\u001b[0m \u001b[0mstd\u001b[0m\u001b[1;33m:\u001b[0m\u001b[1;33m:\u001b[0m\u001b[0mstring\u001b[0m \u001b[1;33m>\u001b[0m\u001b[1;33m\u001b[0m\u001b[1;33m\u001b[0m\u001b[0m\n\u001b[0;32m   5080\u001b[0m             \u001b[0ma\u001b[0m \u001b[0mset\u001b[0m \u001b[0mof\u001b[0m \u001b[0mvalues\u001b[0m \u001b[1;32mfor\u001b[0m \u001b[0mplatform\u001b[0m\u001b[1;33m-\u001b[0m\u001b[0mspecific\u001b[0m \u001b[0mproperties\u001b[0m\u001b[1;33m.\u001b[0m \u001b[0mKeys\u001b[0m \u001b[0mare\u001b[0m \u001b[0mthe\u001b[0m \u001b[0mproperty\u001b[0m \u001b[0mnames\u001b[0m\u001b[1;33m.\u001b[0m\u001b[1;33m\u001b[0m\u001b[1;33m\u001b[0m\u001b[0m\n\u001b[0;32m   5081\u001b[0m         \"\"\"\n\u001b[1;32m-> 5082\u001b[1;33m         \u001b[0m_openmm\u001b[0m\u001b[1;33m.\u001b[0m\u001b[0mContext_swiginit\u001b[0m\u001b[1;33m(\u001b[0m\u001b[0mself\u001b[0m\u001b[1;33m,\u001b[0m \u001b[0m_openmm\u001b[0m\u001b[1;33m.\u001b[0m\u001b[0mnew_Context\u001b[0m\u001b[1;33m(\u001b[0m\u001b[1;33m*\u001b[0m\u001b[0margs\u001b[0m\u001b[1;33m)\u001b[0m\u001b[1;33m)\u001b[0m\u001b[1;33m\u001b[0m\u001b[1;33m\u001b[0m\u001b[0m\n\u001b[0m\u001b[0;32m   5083\u001b[0m \u001b[1;33m\u001b[0m\u001b[0m\n\u001b[0;32m   5084\u001b[0m         \u001b[0mself\u001b[0m\u001b[1;33m.\u001b[0m\u001b[0m_system\u001b[0m \u001b[1;33m=\u001b[0m \u001b[0margs\u001b[0m\u001b[1;33m[\u001b[0m\u001b[1;36m0\u001b[0m\u001b[1;33m]\u001b[0m\u001b[1;33m\u001b[0m\u001b[1;33m\u001b[0m\u001b[0m\n\u001b[0;32m   5085\u001b[0m         \u001b[0mself\u001b[0m\u001b[1;33m.\u001b[0m\u001b[0m_integrator\u001b[0m \u001b[1;33m=\u001b[0m \u001b[0margs\u001b[0m\u001b[1;33m[\u001b[0m\u001b[1;36m1\u001b[0m\u001b[1;33m]\u001b[0m\u001b[1;33m\u001b[0m\u001b[1;33m\u001b[0m\u001b[0m\n",
      "\u001b[1;31mKeyboardInterrupt\u001b[0m: "
     ]
    }
   ],
   "source": [
    "# NOTE: This one has many missing segments, so beware that it can take a while\n",
    "builder = PDBFixerBuilder(\n",
    "    structure_file=PROJECT_ROOT / \"data/8rx0.cif\",\n",
    "    output_directory=PROJECT_ROOT / \"sandbox/PDBFixer/8rx0\",\n",
    "    scorers=[MolProbityScorer(docker_image=\"francecosta/molprobity:v0.0.1\")],\n",
    "    filters=[lambda x: x.scores.get(\"ramachandran_outliers\", 0.3) <= 0.3],\n",
    "    working_directory=PROJECT_ROOT / \"sandbox/PDBFixer/tmp\",\n",
    ")\n",
    "builder.build(n=3)"
   ]
  },
  {
   "cell_type": "markdown",
   "id": "cb7833a7",
   "metadata": {},
   "source": [
    "## Scratch"
   ]
  },
  {
   "cell_type": "markdown",
   "id": "ed949890",
   "metadata": {},
   "source": [
    "### Time PDBFixer"
   ]
  },
  {
   "cell_type": "code",
   "execution_count": 13,
   "id": "ee21830f",
   "metadata": {},
   "outputs": [
    {
     "name": "stdout",
     "output_type": "stream",
     "text": [
      "Reading took  1.2461 seconds\n",
      "Finding missing residues took  0.0040 seconds\n",
      "Fixing took  31.7846 seconds\n"
     ]
    }
   ],
   "source": [
    "import time\n",
    "\n",
    "from pdbfixer import PDBFixer\n",
    "\n",
    "go = time.time()\n",
    "fixer = PDBFixer(str(PROJECT_ROOT / \"data/3idp.cif\"))\n",
    "ckp1 = time.time()\n",
    "print(f\"Reading took  {ckp1 - go:.4f} seconds\")\n",
    "\n",
    "fixer.findMissingResidues()\n",
    "ckp2 = time.time()\n",
    "print(f\"Finding missing residues took  {ckp2 - ckp1:.4f} seconds\")\n",
    "\n",
    "fixer.findMissingAtoms()\n",
    "fixer.addMissingAtoms()\n",
    "ckp3 = time.time()\n",
    "print(f\"Fixing took  {ckp3 - ckp2:.4f} seconds\")"
   ]
  },
  {
   "cell_type": "markdown",
   "id": "5674866d",
   "metadata": {},
   "source": [
    "### Extract loops from full CIF"
   ]
  },
  {
   "cell_type": "code",
   "execution_count": 1,
   "id": "143604f2",
   "metadata": {},
   "outputs": [],
   "source": [
    "import pathlib\n",
    "\n",
    "from loopbuilder.convert import extract_segment_from_mmcif, join_segments\n",
    "\n",
    "PROJECT_ROOT = pathlib.Path().resolve().parent"
   ]
  },
  {
   "cell_type": "code",
   "execution_count": null,
   "id": "18868d6b",
   "metadata": {},
   "outputs": [],
   "source": [
    "extract_segment_from_mmcif(\n",
    "    PROJECT_ROOT / \"sandbox/PDBFixer/3idp_loop_0_1.cif\",\n",
    "    PROJECT_ROOT / \"sandbox/PDBFixer/3idp_loop_0_1_looponly.cif\",\n",
    "    residue_indices={449, 453},\n",
    "    chain_id=\"A\",\n",
    ")"
   ]
  },
  {
   "cell_type": "code",
   "execution_count": 3,
   "id": "a38d2b1f",
   "metadata": {},
   "outputs": [],
   "source": [
    "join_segments(\n",
    "    [\n",
    "        PROJECT_ROOT / \"sandbox/PDBFixer/3idp_loop_0_1_looponly.cif\",\n",
    "        PROJECT_ROOT / \"sandbox/PDBFixer/3idp_loop_0_1_looponly.cif\",\n",
    "    ],\n",
    "    PROJECT_ROOT / \"sandbox/PDBFixer/3idp_loop_0_1_looponly_joined.cif\",\n",
    ")"
   ]
  },
  {
   "cell_type": "markdown",
   "id": "8a65fcfa",
   "metadata": {},
   "source": [
    "### Find missing segments with Biopython (raw)"
   ]
  },
  {
   "cell_type": "code",
   "execution_count": null,
   "id": "495f2458",
   "metadata": {},
   "outputs": [
    {
     "name": "stdout",
     "output_type": "stream",
     "text": [
      "('3idp', 0, 'B')\n",
      "('3idp', 0, 'A')\n",
      "Inner missing segments in structure from C:\\Users\\janoj\\GitHub\\LoopBuilder\\data\\3idp.cif:\n",
      "Chain B: Missing residues from 598 to 613 (total of 16 residues)\n",
      "Chain A: Missing residues from 600 to 614 (total of 15 residues)\n",
      "Chain A: Missing residues from 629 to 630 (total of 2 residues)\n"
     ]
    },
    {
     "name": "stderr",
     "output_type": "stream",
     "text": [
      "c:\\Users\\janoj\\mambaforge\\envs\\LoopBuilder\\lib\\site-packages\\Bio\\PDB\\StructureBuilder.py:89: PDBConstructionWarning: WARNING: Chain B is discontinuous at line 4085.\n",
      "  warnings.warn(\n",
      "c:\\Users\\janoj\\mambaforge\\envs\\LoopBuilder\\lib\\site-packages\\Bio\\PDB\\StructureBuilder.py:89: PDBConstructionWarning: WARNING: Chain A is discontinuous at line 4120.\n",
      "  warnings.warn(\n",
      "c:\\Users\\janoj\\mambaforge\\envs\\LoopBuilder\\lib\\site-packages\\Bio\\PDB\\StructureBuilder.py:89: PDBConstructionWarning: WARNING: Chain B is discontinuous at line 4155.\n",
      "  warnings.warn(\n",
      "c:\\Users\\janoj\\mambaforge\\envs\\LoopBuilder\\lib\\site-packages\\Bio\\PDB\\StructureBuilder.py:89: PDBConstructionWarning: WARNING: Chain A is discontinuous at line 4195.\n",
      "  warnings.warn(\n"
     ]
    }
   ],
   "source": [
    "def find_inner_missing_segments(structure):\n",
    "    missing_segments = []\n",
    "\n",
    "    for model in structure:\n",
    "        for chain in model:\n",
    "            # Chains are mixed up! Why is this?\n",
    "            print(chain.full_id)\n",
    "\n",
    "            residues = [res for res in chain if res.id[0] == \" \"]\n",
    "\n",
    "            if len(residues) <= 1:\n",
    "                continue\n",
    "\n",
    "            first_res_num = residues[0].id[1]\n",
    "            last_res_num = residues[-1].id[1]\n",
    "\n",
    "            present_res_nums = {res.id[1] for res in residues}\n",
    "\n",
    "            missing_start = None\n",
    "\n",
    "            for i in range(first_res_num + 1, last_res_num):\n",
    "                if i not in present_res_nums:\n",
    "                    if missing_start is None:\n",
    "                        missing_start = i\n",
    "                else:\n",
    "                    if missing_start is not None:\n",
    "                        missing_end = i - 1\n",
    "                        missing_segments.append((chain.id, missing_start, missing_end))\n",
    "                        missing_start = None\n",
    "\n",
    "            if missing_start is not None:\n",
    "                missing_segments.append((chain.id, missing_start, last_res_num - 1))\n",
    "\n",
    "    return missing_segments\n",
    "\n",
    "\n",
    "structure_path = PROJECT_ROOT / \"data/3idp.cif\"\n",
    "parser = PDB.MMCIFParser()\n",
    "structure = parser.get_structure(\"3idp\", structure_path)\n",
    "missing_segments = find_inner_missing_segments(structure)\n",
    "\n",
    "print(f\"Inner missing segments in structure from {structure_path}:\")\n",
    "if missing_segments:\n",
    "    for chain_id, start, end in missing_segments:\n",
    "        print(f\"Chain {chain_id}: Missing residues from {start} to {end} (total of {end - start + 1} residues)\")\n",
    "else:\n",
    "    print(\"No inner missing segments found.\")"
   ]
  },
  {
   "cell_type": "markdown",
   "id": "a04b0c8b",
   "metadata": {},
   "source": [
    "### MDTraj"
   ]
  },
  {
   "cell_type": "code",
   "execution_count": 5,
   "id": "cad6bb4d",
   "metadata": {},
   "outputs": [
    {
     "data": {
      "text/plain": [
       "<mdtraj.Trajectory with 3 frames, 127 atoms, 15 residues, and unitcells at 0x1fc72d2bf40>"
      ]
     },
     "execution_count": 5,
     "metadata": {},
     "output_type": "execute_result"
    }
   ],
   "source": [
    "import mdtraj\n",
    "\n",
    "mdtraj.load(\"C:\\\\Users\\\\janoj\\\\GitHub\\\\LoopBuilder\\\\sandbox\\\\PDBFixer\\\\3idp\\\\3idp_loop_2.cif\")"
   ]
  }
 ],
 "metadata": {
  "kernelspec": {
   "display_name": "LoopBuilder",
   "language": "python",
   "name": "python3"
  },
  "language_info": {
   "codemirror_mode": {
    "name": "ipython",
    "version": 3
   },
   "file_extension": ".py",
   "mimetype": "text/x-python",
   "name": "python",
   "nbconvert_exporter": "python",
   "pygments_lexer": "ipython3",
   "version": "3.10.17"
  }
 },
 "nbformat": 4,
 "nbformat_minor": 5
}
