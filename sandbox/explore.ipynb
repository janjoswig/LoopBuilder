{
 "cells": [
  {
   "cell_type": "code",
   "execution_count": 1,
   "id": "370d028a",
   "metadata": {},
   "outputs": [],
   "source": [
    "import pathlib\n",
    "\n",
    "from Bio import PDB\n",
    "from loguru import logger\n",
    "from openmm.app import PDBxFile\n",
    "from pdbfixer import PDBFixer\n",
    "from tqdm.auto import tqdm\n",
    "\n",
    "from loopbuilder.segment import Segment, SegmentModel"
   ]
  },
  {
   "cell_type": "code",
   "execution_count": 2,
   "id": "5650d3bd",
   "metadata": {},
   "outputs": [],
   "source": [
    "PROJECT_ROOT = pathlib.Path().resolve().parent\n",
    "TEST_PDB_ID_LIST = [\"3idp\", \"6X18\", \"8RX0\"]"
   ]
  },
  {
   "cell_type": "code",
   "execution_count": 3,
   "id": "cad89bbf",
   "metadata": {},
   "outputs": [
    {
     "name": "stdout",
     "output_type": "stream",
     "text": [
      "Structure exists: 'C:\\Users\\janoj\\GitHub\\LoopBuilder\\data\\3idp.cif' \n",
      "Structure exists: 'C:\\Users\\janoj\\GitHub\\LoopBuilder\\data\\6x18.cif' \n",
      "Structure exists: 'C:\\Users\\janoj\\GitHub\\LoopBuilder\\data\\8rx0.cif' \n"
     ]
    },
    {
     "name": "stderr",
     "output_type": "stream",
     "text": [
      "WARNING: The default download format has changed from PDB to PDBx/mmCif\n",
      "WARNING: The default download format has changed from PDB to PDBx/mmCif\n",
      "WARNING: The default download format has changed from PDB to PDBx/mmCif\n"
     ]
    }
   ],
   "source": [
    "# Download PDB files\n",
    "pdb_list = PDB.PDBList(server=\"https://files.wwpdb.org\")\n",
    "for id_ in TEST_PDB_ID_LIST:\n",
    "    pdb_list.retrieve_pdb_file(pdb_code=id_, pdir=PROJECT_ROOT / \"data\")"
   ]
  },
  {
   "cell_type": "markdown",
   "id": "f773fab8",
   "metadata": {},
   "source": [
    "## PDBFixer"
   ]
  },
  {
   "cell_type": "markdown",
   "id": "4aa44396",
   "metadata": {},
   "source": [
    "Run the loop building process multiple times (with different random seeds; non-controllable) to generate an ensemble of structures."
   ]
  },
  {
   "cell_type": "code",
   "execution_count": 1,
   "id": "23f68475",
   "metadata": {},
   "outputs": [],
   "source": [
    "import pathlib\n",
    "\n",
    "from loopbuilder.build import PDBFixerBuilder\n",
    "from loopbuilder.score import MolProbityScorer\n",
    "\n",
    "PROJECT_ROOT = pathlib.Path().resolve().parent"
   ]
  },
  {
   "cell_type": "code",
   "execution_count": null,
   "id": "62166659",
   "metadata": {},
   "outputs": [
    {
     "name": "stderr",
     "output_type": "stream",
     "text": [
      "\u001b[32m2025-05-22 18:54:59.828\u001b[0m | \u001b[1mINFO    \u001b[0m | \u001b[36mloopbuilder.build\u001b[0m:\u001b[36mbuild\u001b[0m:\u001b[36m143\u001b[0m - \u001b[1mBuilding n=3 models for C:\\Users\\janoj\\GitHub\\LoopBuilder\\data\\3idp.cif (max_tries=30)\u001b[0m\n",
      "\u001b[32m2025-05-22 18:54:59.835\u001b[0m | \u001b[1mINFO    \u001b[0m | \u001b[36mloopbuilder.build\u001b[0m:\u001b[36mbuild\u001b[0m:\u001b[36m145\u001b[0m - \u001b[1mSaving output to C:\\Users\\janoj\\GitHub\\LoopBuilder\\sandbox\\PDBFixer\u001b[0m\n",
      "\u001b[32m2025-05-22 18:54:59.837\u001b[0m | \u001b[1mINFO    \u001b[0m | \u001b[36mloopbuilder.build\u001b[0m:\u001b[36mbuild\u001b[0m:\u001b[36m146\u001b[0m - \u001b[1mUsing working directory C:\\Users\\janoj\\GitHub\\LoopBuilder\\sandbox\\PDBFixer\\tmp\u001b[0m\n",
      "\u001b[32m2025-05-22 18:54:59.839\u001b[0m | \u001b[1mINFO    \u001b[0m | \u001b[36mloopbuilder.build\u001b[0m:\u001b[36mbuild\u001b[0m:\u001b[36m151\u001b[0m - \u001b[1mUsing 1 scorer(s):\n",
      "  MolProbityScorer(cleanup=True, executable=molprobity.molprobity, docker_image=francecosta/molprobity:v0.0.1, )\u001b[0m\n",
      "\u001b[32m2025-05-22 18:54:59.841\u001b[0m | \u001b[1mINFO    \u001b[0m | \u001b[36mloopbuilder.build\u001b[0m:\u001b[36mbuild\u001b[0m:\u001b[36m156\u001b[0m - \u001b[1mUsing 1 filter(s):\n",
      "  <function <lambda> at 0x0000029833025090>\u001b[0m\n",
      "\u001b[32m2025-05-22 18:54:59.844\u001b[0m | \u001b[1mINFO    \u001b[0m | \u001b[36mloopbuilder.build\u001b[0m:\u001b[36mbuild\u001b[0m:\u001b[36m159\u001b[0m - \u001b[1mLooking for segments\u001b[0m\n"
     ]
    },
    {
     "name": "stderr",
     "output_type": "stream",
     "text": [
      "\u001b[32m2025-05-22 18:55:00.696\u001b[0m | \u001b[1mINFO    \u001b[0m | \u001b[36mloopbuilder.build\u001b[0m:\u001b[36mbuild\u001b[0m:\u001b[36m166\u001b[0m - \u001b[1mFound 3 segments\u001b[0m\n"
     ]
    },
    {
     "data": {
      "application/vnd.jupyter.widget-view+json": {
       "model_id": "dddc80f1f4284f5a9303e064c114c741",
       "version_major": 2,
       "version_minor": 0
      },
      "text/plain": [
       "Building segments:   0%|          | 0/3 [00:00<?, ?segment/s]"
      ]
     },
     "metadata": {},
     "output_type": "display_data"
    },
    {
     "name": "stderr",
     "output_type": "stream",
     "text": [
      "\u001b[32m2025-05-22 18:55:00.757\u001b[0m | \u001b[1mINFO    \u001b[0m | \u001b[36mloopbuilder.build\u001b[0m:\u001b[36mbuild\u001b[0m:\u001b[36m174\u001b[0m - \u001b[1mBuilding models for segment loop_1\u001b[0m\n",
      "\u001b[32m2025-05-22 18:56:05.680\u001b[0m | \u001b[1mINFO    \u001b[0m | \u001b[36mloopbuilder.build\u001b[0m:\u001b[36mbuild\u001b[0m:\u001b[36m204\u001b[0m - \u001b[1mScored trial model 1 for segment loop_1: {'ramachandran_outliers': 0.3571, 'rotamer_outliers': 0.3571, 'cbeta_deviations': 14.0, 'clashscore': 0.0, 'rms_bonds': 0.0293, 'rms_angles': 16.58, 'molprobity_score': 2.69}\u001b[0m\n",
      "\u001b[32m2025-05-22 18:56:05.753\u001b[0m | \u001b[1mINFO    \u001b[0m | \u001b[36mloopbuilder.build\u001b[0m:\u001b[36mbuild\u001b[0m:\u001b[36m208\u001b[0m - \u001b[1mTrial model 1 for segment loop_1 failed filter <function <lambda> at 0x0000029833025090>\u001b[0m\n"
     ]
    }
   ],
   "source": [
    "builder = PDBFixerBuilder(\n",
    "    structure_file=PROJECT_ROOT / \"data/3idp.cif\",\n",
    "    output_directory=PROJECT_ROOT / \"sandbox/PDBFixer\",\n",
    "    scorers=[MolProbityScorer(docker_image=\"francecosta/molprobity:v0.0.1\")],\n",
    "    filters=[lambda x: x.scores.get(\"ramachandran_outliers\", 0.3) <= 0.15],\n",
    "    # NOTE: That's a pretty low bar but let's just use this to generate a few results\n",
    "    #    A stricter filter would be: filters=[lambda x: x.scores.get(\"molprobity_score\", 1) <= 1],\n",
    "    working_directory=PROJECT_ROOT / \"sandbox/PDBFixer/tmp\",\n",
    ")\n",
    "builder.build(n=3)"
   ]
  },
  {
   "cell_type": "markdown",
   "id": "cb7833a7",
   "metadata": {},
   "source": [
    "## Scratch"
   ]
  },
  {
   "cell_type": "markdown",
   "id": "ed949890",
   "metadata": {},
   "source": [
    "### Time PDBFixer"
   ]
  },
  {
   "cell_type": "code",
   "execution_count": 13,
   "id": "ee21830f",
   "metadata": {},
   "outputs": [
    {
     "name": "stdout",
     "output_type": "stream",
     "text": [
      "Reading took  1.2461 seconds\n",
      "Finding missing residues took  0.0040 seconds\n",
      "Fixing took  31.7846 seconds\n"
     ]
    }
   ],
   "source": [
    "import time\n",
    "\n",
    "from pdbfixer import PDBFixer\n",
    "\n",
    "go = time.time()\n",
    "fixer = PDBFixer(str(PROJECT_ROOT / \"data/3idp.cif\"))\n",
    "ckp1 = time.time()\n",
    "print(f\"Reading took  {ckp1 - go:.4f} seconds\")\n",
    "\n",
    "fixer.findMissingResidues()\n",
    "ckp2 = time.time()\n",
    "print(f\"Finding missing residues took  {ckp2 - ckp1:.4f} seconds\")\n",
    "\n",
    "fixer.findMissingAtoms()\n",
    "fixer.addMissingAtoms()\n",
    "ckp3 = time.time()\n",
    "print(f\"Fixing took  {ckp3 - ckp2:.4f} seconds\")"
   ]
  },
  {
   "cell_type": "markdown",
   "id": "5674866d",
   "metadata": {},
   "source": [
    "### Extract loops from full CIF"
   ]
  },
  {
   "cell_type": "code",
   "execution_count": 1,
   "id": "143604f2",
   "metadata": {},
   "outputs": [],
   "source": [
    "import pathlib\n",
    "\n",
    "from loopbuilder.convert import extract_segment_from_mmcif, join_segments\n",
    "\n",
    "PROJECT_ROOT = pathlib.Path().resolve().parent"
   ]
  },
  {
   "cell_type": "code",
   "execution_count": null,
   "id": "18868d6b",
   "metadata": {},
   "outputs": [],
   "source": [
    "extract_segment_from_mmcif(\n",
    "    PROJECT_ROOT / \"sandbox/PDBFixer/3idp_loop_0_1.cif\",\n",
    "    PROJECT_ROOT / \"sandbox/PDBFixer/3idp_loop_0_1_looponly.cif\",\n",
    "    residue_indices={449, 453},\n",
    "    chain_id=\"A\",\n",
    ")"
   ]
  },
  {
   "cell_type": "code",
   "execution_count": 3,
   "id": "a38d2b1f",
   "metadata": {},
   "outputs": [],
   "source": [
    "join_segments(\n",
    "    [\n",
    "        PROJECT_ROOT / \"sandbox/PDBFixer/3idp_loop_0_1_looponly.cif\",\n",
    "        PROJECT_ROOT / \"sandbox/PDBFixer/3idp_loop_0_1_looponly.cif\",\n",
    "    ],\n",
    "    PROJECT_ROOT / \"sandbox/PDBFixer/3idp_loop_0_1_looponly_joined.cif\",\n",
    ")"
   ]
  },
  {
   "cell_type": "markdown",
   "id": "8a65fcfa",
   "metadata": {},
   "source": [
    "### Find missing segments with Biopython (raw)"
   ]
  },
  {
   "cell_type": "code",
   "execution_count": null,
   "id": "495f2458",
   "metadata": {},
   "outputs": [
    {
     "name": "stdout",
     "output_type": "stream",
     "text": [
      "('3idp', 0, 'B')\n",
      "('3idp', 0, 'A')\n",
      "Inner missing segments in structure from C:\\Users\\janoj\\GitHub\\LoopBuilder\\data\\3idp.cif:\n",
      "Chain B: Missing residues from 598 to 613 (total of 16 residues)\n",
      "Chain A: Missing residues from 600 to 614 (total of 15 residues)\n",
      "Chain A: Missing residues from 629 to 630 (total of 2 residues)\n"
     ]
    },
    {
     "name": "stderr",
     "output_type": "stream",
     "text": [
      "c:\\Users\\janoj\\mambaforge\\envs\\LoopBuilder\\lib\\site-packages\\Bio\\PDB\\StructureBuilder.py:89: PDBConstructionWarning: WARNING: Chain B is discontinuous at line 4085.\n",
      "  warnings.warn(\n",
      "c:\\Users\\janoj\\mambaforge\\envs\\LoopBuilder\\lib\\site-packages\\Bio\\PDB\\StructureBuilder.py:89: PDBConstructionWarning: WARNING: Chain A is discontinuous at line 4120.\n",
      "  warnings.warn(\n",
      "c:\\Users\\janoj\\mambaforge\\envs\\LoopBuilder\\lib\\site-packages\\Bio\\PDB\\StructureBuilder.py:89: PDBConstructionWarning: WARNING: Chain B is discontinuous at line 4155.\n",
      "  warnings.warn(\n",
      "c:\\Users\\janoj\\mambaforge\\envs\\LoopBuilder\\lib\\site-packages\\Bio\\PDB\\StructureBuilder.py:89: PDBConstructionWarning: WARNING: Chain A is discontinuous at line 4195.\n",
      "  warnings.warn(\n"
     ]
    }
   ],
   "source": [
    "def find_inner_missing_segments(structure):\n",
    "    missing_segments = []\n",
    "\n",
    "    for model in structure:\n",
    "        for chain in model:\n",
    "            # Chains are mixed up! Why is this?\n",
    "            print(chain.full_id)\n",
    "\n",
    "            residues = [res for res in chain if res.id[0] == \" \"]\n",
    "\n",
    "            if len(residues) <= 1:\n",
    "                continue\n",
    "\n",
    "            first_res_num = residues[0].id[1]\n",
    "            last_res_num = residues[-1].id[1]\n",
    "\n",
    "            present_res_nums = {res.id[1] for res in residues}\n",
    "\n",
    "            missing_start = None\n",
    "\n",
    "            for i in range(first_res_num + 1, last_res_num):\n",
    "                if i not in present_res_nums:\n",
    "                    if missing_start is None:\n",
    "                        missing_start = i\n",
    "                else:\n",
    "                    if missing_start is not None:\n",
    "                        missing_end = i - 1\n",
    "                        missing_segments.append((chain.id, missing_start, missing_end))\n",
    "                        missing_start = None\n",
    "\n",
    "            if missing_start is not None:\n",
    "                missing_segments.append((chain.id, missing_start, last_res_num - 1))\n",
    "\n",
    "    return missing_segments\n",
    "\n",
    "\n",
    "structure_path = PROJECT_ROOT / \"data/3idp.cif\"\n",
    "parser = PDB.MMCIFParser()\n",
    "structure = parser.get_structure(\"3idp\", structure_path)\n",
    "missing_segments = find_inner_missing_segments(structure)\n",
    "\n",
    "print(f\"Inner missing segments in structure from {structure_path}:\")\n",
    "if missing_segments:\n",
    "    for chain_id, start, end in missing_segments:\n",
    "        print(f\"Chain {chain_id}: Missing residues from {start} to {end} (total of {end - start + 1} residues)\")\n",
    "else:\n",
    "    print(\"No inner missing segments found.\")"
   ]
  }
 ],
 "metadata": {
  "kernelspec": {
   "display_name": "LoopBuilder",
   "language": "python",
   "name": "python3"
  },
  "language_info": {
   "codemirror_mode": {
    "name": "ipython",
    "version": 3
   },
   "file_extension": ".py",
   "mimetype": "text/x-python",
   "name": "python",
   "nbconvert_exporter": "python",
   "pygments_lexer": "ipython3",
   "version": "3.10.17"
  }
 },
 "nbformat": 4,
 "nbformat_minor": 5
}
